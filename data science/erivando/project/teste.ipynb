{
 "cells": [
  {
   "cell_type": "markdown",
   "id": "f69749ee",
   "metadata": {},
   "source": [
    "# Análise exploratória"
   ]
  }
 ],
 "metadata": {
  "language_info": {
   "name": "python"
  }
 },
 "nbformat": 4,
 "nbformat_minor": 5
}
