{
 "cells": [
  {
   "cell_type": "markdown",
   "id": "3233acd4",
   "metadata": {},
   "source": [
    "# Estatísticas Descritivas"
   ]
  },
  {
   "cell_type": "code",
   "execution_count": 8,
   "id": "66d9eb41",
   "metadata": {},
   "outputs": [],
   "source": [
    "import pandas as pd\n",
    "import numpy as np\n",
    "import joblib"
   ]
  },
  {
   "cell_type": "code",
   "execution_count": 9,
   "id": "2e59d9ce",
   "metadata": {},
   "outputs": [],
   "source": [
    "df_categorias = joblib.load('../../util/data/df_categorias.z')\n",
    "df_vendas = joblib.load('../../util/data/df_vendas.z')\n",
    "df_vendedores = joblib.load('../../util/data/df_vendedores.z')\n",
    "df_unidades = joblib.load('../../util/data/df_unidades.z')\n",
    "df_clientes = joblib.load('../../util/data/df_clientes.z')\n",
    "df_produtos = joblib.load('../../util/data/df_produtos.z')"
   ]
  },
  {
   "cell_type": "code",
   "execution_count": 10,
   "id": "38dbb3d6",
   "metadata": {},
   "outputs": [],
   "source": [
    "dataframes = {\n",
    "    \"categorias\": df_categorias,\n",
    "    \"vendas\": df_vendas,\n",
    "    \"vendedores\": df_vendedores,\n",
    "    \"unidades\": df_unidades,\n",
    "    \"clientes\": df_clientes,\n",
    "    \"produtos\": df_produtos\n",
    "}"
   ]
  },
  {
   "cell_type": "code",
   "execution_count": 11,
   "id": "eb1df083",
   "metadata": {},
   "outputs": [],
   "source": [
    "def interpretar_variavel(coluna, serie):\n",
    "    interpretacoes = []\n",
    "    desvio = serie.std()\n",
    "    media = serie.mean()\n",
    "    skew = serie.skew()\n",
    "\n",
    "    if desvio > media * 0.5:\n",
    "        interpretacoes.append(\"Alta variabilidade.\")\n",
    "    if abs(skew) > 1:\n",
    "        interpretacoes.append(\"Distribuição assimétrica.\")\n",
    "    elif 0.5 < abs(skew) <= 1:\n",
    "        interpretacoes.append(\"Distribuição moderadamente assimétrica.\")\n",
    "    else:\n",
    "        interpretacoes.append(\"Distribuição aproximadamente simétrica.\")\n",
    "\n",
    "    return \" \".join(interpretacoes)"
   ]
  },
  {
   "cell_type": "code",
   "execution_count": 12,
   "id": "2a2367b6",
   "metadata": {},
   "outputs": [],
   "source": [
    "for nome_df, df in dataframes.items():\n",
    "    with open(f\"estatisticas_{nome_df}.txt\", \"w\", encoding=\"utf-8\") as f:\n",
    "        f.write(f\"Relatório estatístico - {nome_df.upper()}\\n\\n\")\n",
    "        \n",
    "        colunas_numericas = df.select_dtypes(include=np.number).columns\n",
    "        \n",
    "        for coluna in colunas_numericas:\n",
    "            serie = df[coluna].dropna()\n",
    "            if len(serie) == 0:\n",
    "                continue\n",
    "\n",
    "            media = serie.mean()\n",
    "            mediana = serie.median()\n",
    "            moda = serie.mode().values\n",
    "            desvio_padrao = serie.std()\n",
    "            variancia = serie.var()\n",
    "            amplitude = serie.max() - serie.min()\n",
    "            interpretacao = interpretar_variavel(coluna, serie)\n",
    "\n",
    "            f.write(f\"Variável: {coluna}\\n\")\n",
    "            f.write(f\"  Média: {media:.2f}\\n\")\n",
    "            f.write(f\"  Mediana: {mediana:.2f}\\n\")\n",
    "            f.write(f\"  Moda: {moda}\\n\")\n",
    "            f.write(f\"  Desvio Padrão: {desvio_padrao:.2f}\\n\")\n",
    "            f.write(f\"  Variância: {variancia:.2f}\\n\")\n",
    "            f.write(f\"  Amplitude: {amplitude:.2f}\\n\")\n",
    "            f.write(f\"  Interpretação: {interpretacao}\\n\\n\")\n"
   ]
  }
 ],
 "metadata": {
  "kernelspec": {
   "display_name": "Python 3",
   "language": "python",
   "name": "python3"
  },
  "language_info": {
   "codemirror_mode": {
    "name": "ipython",
    "version": 3
   },
   "file_extension": ".py",
   "mimetype": "text/x-python",
   "name": "python",
   "nbconvert_exporter": "python",
   "pygments_lexer": "ipython3",
   "version": "3.12.3"
  }
 },
 "nbformat": 4,
 "nbformat_minor": 5
}
