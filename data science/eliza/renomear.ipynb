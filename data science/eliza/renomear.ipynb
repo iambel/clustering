{
 "cells": [
  {
   "cell_type": "code",
   "execution_count": 1,
   "id": "ead30ef7",
   "metadata": {},
   "outputs": [
    {
     "data": {
      "text/plain": [
       "['../../util/data/df_clientes.z']"
      ]
     },
     "execution_count": 1,
     "metadata": {},
     "output_type": "execute_result"
    }
   ],
   "source": [
    "import pandas as pd\n",
    "from joblib import load, dump\n",
    "\n",
    "# Corrigido o caminho para o arquivo\n",
    "df_clientes = load(\"../../util/data/df_clientes.z\")\n",
    "\n",
    "# Renomear colunas\n",
    "df_clientes.rename(\n",
    "    columns={\n",
    "        \"zk\": \"codigo\",\n",
    "        \"tidfisc\": \"id_fiscal\",\n",
    "        \"nent\": \"nome\",\n",
    "        \"nentf\": \"nome_fantasia\",\n",
    "        \"cnatt\": \"natureza_juridica\",\n",
    "        \"tidfisc2\": \"id_fiscal_2\",\n",
    "        \"tidfisc3\": \"id_fiscal_3\",\n",
    "        \"cicms\": \"contribuinte_icms\",\n",
    "    },\n",
    "    inplace=True,\n",
    ")\n",
    "\n",
    "# Salvar novamente\n",
    "dump(df_clientes, \"../../util/data/df_clientes.z\")"
   ]
  }
 ],
 "metadata": {
  "kernelspec": {
   "display_name": "Python 3",
   "language": "python",
   "name": "python3"
  },
  "language_info": {
   "codemirror_mode": {
    "name": "ipython",
    "version": 3
   },
   "file_extension": ".py",
   "mimetype": "text/x-python",
   "name": "python",
   "nbconvert_exporter": "python",
   "pygments_lexer": "ipython3",
   "version": "3.13.2"
  }
 },
 "nbformat": 4,
 "nbformat_minor": 5
}
