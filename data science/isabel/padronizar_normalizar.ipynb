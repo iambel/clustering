{
 "cells": [
  {
   "cell_type": "markdown",
   "id": "1c118ce3",
   "metadata": {},
   "source": [
    "# Normalizar e padronizar variáveis"
   ]
  },
  {
   "cell_type": "code",
   "execution_count": 1,
   "id": "081c5e38",
   "metadata": {},
   "outputs": [],
   "source": [
    "from joblib import dump, load\n",
    "import pandas as pd"
   ]
  },
  {
   "cell_type": "code",
   "execution_count": 2,
   "id": "34ba752a",
   "metadata": {},
   "outputs": [],
   "source": [
    "caminho = '../../util/data/'"
   ]
  },
  {
   "cell_type": "markdown",
   "id": "10514f84",
   "metadata": {},
   "source": [
    "## seleção das variáveis numéricas"
   ]
  },
  {
   "cell_type": "code",
   "execution_count": 3,
   "id": "999ccd5c",
   "metadata": {},
   "outputs": [
    {
     "name": "stdout",
     "output_type": "stream",
     "text": [
      "[CATEGORIAS]\n",
      "            codigo\n",
      "count   74.000000\n",
      "mean   303.851351\n",
      "std    155.563288\n",
      "min      2.000000\n",
      "25%    343.000000\n",
      "50%    381.500000\n",
      "75%    399.750000\n",
      "max    419.000000\n",
      "[CLIENTES]\n",
      "             codigo     vendedor\n",
      "count  3132.000000  3132.000000\n",
      "mean   6786.610153    67.129630\n",
      "std    2827.491552    30.297795\n",
      "min       1.000000     7.000000\n",
      "25%    5194.750000    54.000000\n",
      "50%    7997.500000    82.000000\n",
      "75%    8844.250000    89.000000\n",
      "max    9730.000000   101.000000\n",
      "[PRODUTOS]\n",
      "        codigo_categoria   preco_venda\n",
      "count       9589.000000   9592.000000\n",
      "mean          81.104390    304.013080\n",
      "std          130.790131   1366.995745\n",
      "min            2.000000      0.000000\n",
      "25%            3.000000     19.735000\n",
      "50%            8.000000     65.540000\n",
      "75%           64.000000    214.000000\n",
      "max          368.000000  51283.640000\n"
     ]
    }
   ],
   "source": [
    "# carregamento das variáveis numericas dos dataframes\n",
    "\n",
    "df_categorias = load(caminho+'df_categorias.z')\n",
    "categorias_numerica= df_categorias.select_dtypes(include=['int64', 'float64']) # seleciona apenas as variaveis numericas do tipo int64 e float64\n",
    "\n",
    "df_clientes = load(caminho+'df_clientes.z')\n",
    "clientes_numerica = df_clientes.select_dtypes(include=[\"int64\", \"float64\"])\n",
    "\n",
    "df_produtos = load(caminho+'df_produtos.z')\n",
    "produtos_numerica = df_produtos.select_dtypes(include=[\"int64\", \"float64\"])\n",
    "\n",
    "# exibe informações das variaveis numericas de cada dataframe\n",
    "print('[CATEGORIAS]\\n',categorias_numerica.describe())\n",
    "print('[CLIENTES]\\n',clientes_numerica.describe())\n",
    "print('[PRODUTOS]\\n',produtos_numerica.describe())"
   ]
  },
  {
   "cell_type": "markdown",
   "id": "37a13012",
   "metadata": {},
   "source": [
    "com o output, pode-se avaliar:\n",
    "\n",
    "`categorias`: somente possui uma variável numérica para servir de id da categoria, será descartada\n",
    "\n",
    "`clientes`: só possui variáveis que servem como identificadores ('codigo','vendedor'), serão descartados\n",
    "\n",
    "`produtos`: também possui variáveis identificadoras ('codigo_categoria) que será descartada nos procedimentos. será necessário aplicar uma normalização em 'preco_venda' por apresentar valores muito distantes  \n"
   ]
  },
  {
   "cell_type": "markdown",
   "id": "3ca3a965",
   "metadata": {},
   "source": [
    "# `df_produtos`"
   ]
  },
  {
   "cell_type": "code",
   "execution_count": 4,
   "id": "7e45980e",
   "metadata": {},
   "outputs": [
    {
     "data": {
      "text/html": [
       "<div>\n",
       "<style scoped>\n",
       "    .dataframe tbody tr th:only-of-type {\n",
       "        vertical-align: middle;\n",
       "    }\n",
       "\n",
       "    .dataframe tbody tr th {\n",
       "        vertical-align: top;\n",
       "    }\n",
       "\n",
       "    .dataframe thead th {\n",
       "        text-align: right;\n",
       "    }\n",
       "</style>\n",
       "<table border=\"1\" class=\"dataframe\">\n",
       "  <thead>\n",
       "    <tr style=\"text-align: right;\">\n",
       "      <th></th>\n",
       "      <th>preco_venda</th>\n",
       "    </tr>\n",
       "  </thead>\n",
       "  <tbody>\n",
       "    <tr>\n",
       "      <th>0</th>\n",
       "      <td>0.00</td>\n",
       "    </tr>\n",
       "    <tr>\n",
       "      <th>1</th>\n",
       "      <td>8.93</td>\n",
       "    </tr>\n",
       "    <tr>\n",
       "      <th>2</th>\n",
       "      <td>0.00</td>\n",
       "    </tr>\n",
       "    <tr>\n",
       "      <th>3</th>\n",
       "      <td>8.38</td>\n",
       "    </tr>\n",
       "    <tr>\n",
       "      <th>4</th>\n",
       "      <td>67.91</td>\n",
       "    </tr>\n",
       "    <tr>\n",
       "      <th>5</th>\n",
       "      <td>441.54</td>\n",
       "    </tr>\n",
       "    <tr>\n",
       "      <th>6</th>\n",
       "      <td>14.74</td>\n",
       "    </tr>\n",
       "    <tr>\n",
       "      <th>7</th>\n",
       "      <td>26.52</td>\n",
       "    </tr>\n",
       "    <tr>\n",
       "      <th>8</th>\n",
       "      <td>954.28</td>\n",
       "    </tr>\n",
       "    <tr>\n",
       "      <th>9</th>\n",
       "      <td>16.00</td>\n",
       "    </tr>\n",
       "  </tbody>\n",
       "</table>\n",
       "</div>"
      ],
      "text/plain": [
       "   preco_venda\n",
       "0         0.00\n",
       "1         8.93\n",
       "2         0.00\n",
       "3         8.38\n",
       "4        67.91\n",
       "5       441.54\n",
       "6        14.74\n",
       "7        26.52\n",
       "8       954.28\n",
       "9        16.00"
      ]
     },
     "execution_count": 4,
     "metadata": {},
     "output_type": "execute_result"
    }
   ],
   "source": [
    "# descartando variável codigo_categoria\n",
    "produtos_numerica = produtos_numerica.drop(columns=['codigo_categoria'])\n",
    "produtos_numerica.head(10)"
   ]
  },
  {
   "cell_type": "markdown",
   "id": "494663f7",
   "metadata": {},
   "source": [
    "## padronizando valores com o StandardScaler\n"
   ]
  },
  {
   "cell_type": "code",
   "execution_count": 6,
   "id": "d9f0f88d",
   "metadata": {},
   "outputs": [],
   "source": [
    "from sklearn.preprocessing import MinMaxScaler, StandardScaler"
   ]
  },
  {
   "cell_type": "code",
   "execution_count": 7,
   "id": "b738caa5",
   "metadata": {},
   "outputs": [],
   "source": [
    "minmax = MinMaxScaler()\n",
    "produtos_numerica_minmax = minmax.fit_transform(produtos_numerica)"
   ]
  },
  {
   "cell_type": "code",
   "execution_count": 8,
   "id": "f9ed0c6c",
   "metadata": {},
   "outputs": [],
   "source": [
    "scaler = StandardScaler() # declarando o scaler\n",
    "produtos_numerica_std = scaler.fit_transform(produtos_numerica) # aplicando no produtos"
   ]
  },
  {
   "cell_type": "markdown",
   "id": "7a5d2aa7",
   "metadata": {},
   "source": [
    "# inserindo a coluna ao lado"
   ]
  },
  {
   "cell_type": "code",
   "execution_count": 12,
   "id": "2028c4da",
   "metadata": {},
   "outputs": [
    {
     "data": {
      "text/plain": [
       "Index(['codigo', 'descricao', 'codigo_barras', 'unidade', 'marca',\n",
       "       'codigo_categoria', 'categoria', 'classificacao', 'preco_venda'],\n",
       "      dtype='object')"
      ]
     },
     "execution_count": 12,
     "metadata": {},
     "output_type": "execute_result"
    }
   ],
   "source": [
    "df_produtos.columns"
   ]
  },
  {
   "cell_type": "code",
   "execution_count": null,
   "id": "2d813f9f",
   "metadata": {},
   "outputs": [
    {
     "data": {
      "text/html": [
       "<div>\n",
       "<style scoped>\n",
       "    .dataframe tbody tr th:only-of-type {\n",
       "        vertical-align: middle;\n",
       "    }\n",
       "\n",
       "    .dataframe tbody tr th {\n",
       "        vertical-align: top;\n",
       "    }\n",
       "\n",
       "    .dataframe thead th {\n",
       "        text-align: right;\n",
       "    }\n",
       "</style>\n",
       "<table border=\"1\" class=\"dataframe\">\n",
       "  <thead>\n",
       "    <tr style=\"text-align: right;\">\n",
       "      <th></th>\n",
       "      <th>preco_venda</th>\n",
       "      <th>preco_venda_minmax</th>\n",
       "      <th>preco_venda_std</th>\n",
       "    </tr>\n",
       "  </thead>\n",
       "  <tbody>\n",
       "    <tr>\n",
       "      <th>0</th>\n",
       "      <td>0.00</td>\n",
       "      <td>0.000000</td>\n",
       "      <td>-0.222407</td>\n",
       "    </tr>\n",
       "    <tr>\n",
       "      <th>1</th>\n",
       "      <td>8.93</td>\n",
       "      <td>0.000174</td>\n",
       "      <td>-0.215874</td>\n",
       "    </tr>\n",
       "    <tr>\n",
       "      <th>2</th>\n",
       "      <td>0.00</td>\n",
       "      <td>0.000000</td>\n",
       "      <td>-0.222407</td>\n",
       "    </tr>\n",
       "    <tr>\n",
       "      <th>3</th>\n",
       "      <td>8.38</td>\n",
       "      <td>0.000163</td>\n",
       "      <td>-0.216276</td>\n",
       "    </tr>\n",
       "    <tr>\n",
       "      <th>4</th>\n",
       "      <td>67.91</td>\n",
       "      <td>0.001324</td>\n",
       "      <td>-0.172726</td>\n",
       "    </tr>\n",
       "    <tr>\n",
       "      <th>5</th>\n",
       "      <td>441.54</td>\n",
       "      <td>0.008610</td>\n",
       "      <td>0.100610</td>\n",
       "    </tr>\n",
       "    <tr>\n",
       "      <th>6</th>\n",
       "      <td>14.74</td>\n",
       "      <td>0.000287</td>\n",
       "      <td>-0.211623</td>\n",
       "    </tr>\n",
       "    <tr>\n",
       "      <th>7</th>\n",
       "      <td>26.52</td>\n",
       "      <td>0.000517</td>\n",
       "      <td>-0.203005</td>\n",
       "    </tr>\n",
       "    <tr>\n",
       "      <th>8</th>\n",
       "      <td>954.28</td>\n",
       "      <td>0.018608</td>\n",
       "      <td>0.475715</td>\n",
       "    </tr>\n",
       "    <tr>\n",
       "      <th>9</th>\n",
       "      <td>16.00</td>\n",
       "      <td>0.000312</td>\n",
       "      <td>-0.210702</td>\n",
       "    </tr>\n",
       "  </tbody>\n",
       "</table>\n",
       "</div>"
      ],
      "text/plain": [
       "   preco_venda  preco_venda_minmax  preco_venda_std\n",
       "0         0.00            0.000000        -0.222407\n",
       "1         8.93            0.000174        -0.215874\n",
       "2         0.00            0.000000        -0.222407\n",
       "3         8.38            0.000163        -0.216276\n",
       "4        67.91            0.001324        -0.172726\n",
       "5       441.54            0.008610         0.100610\n",
       "6        14.74            0.000287        -0.211623\n",
       "7        26.52            0.000517        -0.203005\n",
       "8       954.28            0.018608         0.475715\n",
       "9        16.00            0.000312        -0.210702"
      ]
     },
     "execution_count": 15,
     "metadata": {},
     "output_type": "execute_result"
    }
   ],
   "source": [
    "df_produtos.insert(9, 'preco_venda_minmax', produtos_numerica_minmax)\n",
    "df_produtos.insert(10, 'preco_venda_std', produtos_numerica_std)\n",
    "df_produtos[['preco_venda', 'preco_venda_minmax', 'preco_venda_std']].head(10)"
   ]
  },
  {
   "cell_type": "code",
   "execution_count": 16,
   "id": "9d5ba2ff",
   "metadata": {},
   "outputs": [
    {
     "data": {
      "text/plain": [
       "['../../util/data/df_produtos.z']"
      ]
     },
     "execution_count": 16,
     "metadata": {},
     "output_type": "execute_result"
    }
   ],
   "source": [
    "dump(df_produtos, caminho+'df_produtos.z')"
   ]
  },
  {
   "cell_type": "markdown",
   "id": "d6a44ca6",
   "metadata": {},
   "source": [
    "# `df_unidades`"
   ]
  },
  {
   "cell_type": "code",
   "execution_count": 18,
   "id": "74cafb00",
   "metadata": {},
   "outputs": [],
   "source": [
    "import pandas as pd\n",
    "from sklearn.preprocessing import LabelEncoder"
   ]
  },
  {
   "cell_type": "code",
   "execution_count": 25,
   "id": "f026e5d0",
   "metadata": {},
   "outputs": [],
   "source": [
    "df_unidades = pd.read_csv(\"../../util/data/unidades.csv\")"
   ]
  },
  {
   "cell_type": "code",
   "execution_count": 26,
   "id": "dc198d8e",
   "metadata": {},
   "outputs": [],
   "source": [
    "# Codificando a coluna 'status' (sim/não) em 1 e 0\n",
    "df_unidades['status_cod'] = df_unidades['status'].map({'sim': 1, 'não': 0})"
   ]
  },
  {
   "cell_type": "code",
   "execution_count": 27,
   "id": "0262b32b",
   "metadata": {},
   "outputs": [],
   "source": [
    "# Codificando a coluna 'nome_fantasia' com Label Encoding\n",
    "le = LabelEncoder()\n",
    "df_unidades.insert(2, 'nome_fantasia_cod', le.fit_transform(df_unidades['nome_fantasia']))"
   ]
  },
  {
   "cell_type": "code",
   "execution_count": 28,
   "id": "2f3a71e2",
   "metadata": {},
   "outputs": [
    {
     "data": {
      "text/html": [
       "<div>\n",
       "<style scoped>\n",
       "    .dataframe tbody tr th:only-of-type {\n",
       "        vertical-align: middle;\n",
       "    }\n",
       "\n",
       "    .dataframe tbody tr th {\n",
       "        vertical-align: top;\n",
       "    }\n",
       "\n",
       "    .dataframe thead th {\n",
       "        text-align: right;\n",
       "    }\n",
       "</style>\n",
       "<table border=\"1\" class=\"dataframe\">\n",
       "  <thead>\n",
       "    <tr style=\"text-align: right;\">\n",
       "      <th></th>\n",
       "      <th>codigo_unidade</th>\n",
       "      <th>nome_fantasia</th>\n",
       "      <th>nome_fantasia_cod</th>\n",
       "      <th>status</th>\n",
       "      <th>status_cod</th>\n",
       "    </tr>\n",
       "  </thead>\n",
       "  <tbody>\n",
       "    <tr>\n",
       "      <th>0</th>\n",
       "      <td>10003</td>\n",
       "      <td>L03 - SALVADOR</td>\n",
       "      <td>2</td>\n",
       "      <td>sim</td>\n",
       "      <td>1</td>\n",
       "    </tr>\n",
       "    <tr>\n",
       "      <th>1</th>\n",
       "      <td>10002</td>\n",
       "      <td>L02 - SOBRAL</td>\n",
       "      <td>1</td>\n",
       "      <td>sim</td>\n",
       "      <td>1</td>\n",
       "    </tr>\n",
       "    <tr>\n",
       "      <th>2</th>\n",
       "      <td>10001</td>\n",
       "      <td>L01 - FORTALEZA</td>\n",
       "      <td>0</td>\n",
       "      <td>sim</td>\n",
       "      <td>1</td>\n",
       "    </tr>\n",
       "  </tbody>\n",
       "</table>\n",
       "</div>"
      ],
      "text/plain": [
       "   codigo_unidade    nome_fantasia  nome_fantasia_cod status  status_cod\n",
       "0           10003   L03 - SALVADOR                  2    sim           1\n",
       "1           10002     L02 - SOBRAL                  1    sim           1\n",
       "2           10001  L01 - FORTALEZA                  0    sim           1"
      ]
     },
     "execution_count": 28,
     "metadata": {},
     "output_type": "execute_result"
    }
   ],
   "source": [
    "df_unidades.head()"
   ]
  },
  {
   "cell_type": "code",
   "execution_count": 61,
   "id": "e7d8055e",
   "metadata": {},
   "outputs": [
    {
     "data": {
      "text/plain": [
       "['../../util/data/df_unidades.z']"
      ]
     },
     "execution_count": 61,
     "metadata": {},
     "output_type": "execute_result"
    }
   ],
   "source": [
    "dump(df_unidades, caminho+'df_unidades.z')"
   ]
  },
  {
   "cell_type": "markdown",
   "id": "e69b7ad2",
   "metadata": {},
   "source": [
    "# `df_vendedores`"
   ]
  },
  {
   "cell_type": "code",
   "execution_count": 33,
   "id": "52805892",
   "metadata": {},
   "outputs": [],
   "source": [
    "from joblib import load\n",
    "df_vendedores = load(\"../../util/data/df_vendedores.z\")"
   ]
  },
  {
   "cell_type": "code",
   "execution_count": 34,
   "id": "5ce09651",
   "metadata": {},
   "outputs": [
    {
     "data": {
      "text/html": [
       "<div>\n",
       "<style scoped>\n",
       "    .dataframe tbody tr th:only-of-type {\n",
       "        vertical-align: middle;\n",
       "    }\n",
       "\n",
       "    .dataframe tbody tr th {\n",
       "        vertical-align: top;\n",
       "    }\n",
       "\n",
       "    .dataframe thead th {\n",
       "        text-align: right;\n",
       "    }\n",
       "</style>\n",
       "<table border=\"1\" class=\"dataframe\">\n",
       "  <thead>\n",
       "    <tr style=\"text-align: right;\">\n",
       "      <th></th>\n",
       "      <th>codigo</th>\n",
       "      <th>nome_completo</th>\n",
       "      <th>nome_reduzido</th>\n",
       "    </tr>\n",
       "  </thead>\n",
       "  <tbody>\n",
       "    <tr>\n",
       "      <th>0</th>\n",
       "      <td>11</td>\n",
       "      <td>ADALBERTO MONTENEGRO SILVA</td>\n",
       "      <td>ADALBERTO</td>\n",
       "    </tr>\n",
       "    <tr>\n",
       "      <th>1</th>\n",
       "      <td>51</td>\n",
       "      <td>DIOGO MONTEIRO JUNIOR</td>\n",
       "      <td>DIOGO</td>\n",
       "    </tr>\n",
       "    <tr>\n",
       "      <th>2</th>\n",
       "      <td>88</td>\n",
       "      <td>PAULO GIRÃO MONTE</td>\n",
       "      <td>PAULO MONTE</td>\n",
       "    </tr>\n",
       "    <tr>\n",
       "      <th>3</th>\n",
       "      <td>89</td>\n",
       "      <td>ALEXANDRA SAMPAIO OLIVEIRA</td>\n",
       "      <td>ALEXANDRA</td>\n",
       "    </tr>\n",
       "    <tr>\n",
       "      <th>4</th>\n",
       "      <td>54</td>\n",
       "      <td>PATRICIA LEITE NOBRE</td>\n",
       "      <td>PATRICIA</td>\n",
       "    </tr>\n",
       "    <tr>\n",
       "      <th>5</th>\n",
       "      <td>56</td>\n",
       "      <td>ALBERTO DAMASCENO NOBREGA</td>\n",
       "      <td>ALBERTO</td>\n",
       "    </tr>\n",
       "    <tr>\n",
       "      <th>6</th>\n",
       "      <td>94</td>\n",
       "      <td>MARIO LOPES NASCIMENTO</td>\n",
       "      <td>MARIO LOPES</td>\n",
       "    </tr>\n",
       "    <tr>\n",
       "      <th>7</th>\n",
       "      <td>79</td>\n",
       "      <td>VITOR OLIVEIRA SANTOS</td>\n",
       "      <td>VITOR</td>\n",
       "    </tr>\n",
       "    <tr>\n",
       "      <th>8</th>\n",
       "      <td>58</td>\n",
       "      <td>CLAUDIA MARIA DAMASCENO</td>\n",
       "      <td>CLAUDIA</td>\n",
       "    </tr>\n",
       "    <tr>\n",
       "      <th>9</th>\n",
       "      <td>9</td>\n",
       "      <td>MARCIO SANTOS DE NOBREGA</td>\n",
       "      <td>MARCIO SANTOS</td>\n",
       "    </tr>\n",
       "    <tr>\n",
       "      <th>10</th>\n",
       "      <td>90</td>\n",
       "      <td>ULISSES SANTOS DE OLIVEIRA</td>\n",
       "      <td>ULISSES</td>\n",
       "    </tr>\n",
       "    <tr>\n",
       "      <th>11</th>\n",
       "      <td>32</td>\n",
       "      <td>MARIA DAS DORES SILVA</td>\n",
       "      <td>MARIA DAS DORES</td>\n",
       "    </tr>\n",
       "    <tr>\n",
       "      <th>12</th>\n",
       "      <td>101</td>\n",
       "      <td>VENDEDOR MOBILE</td>\n",
       "      <td>VENDEDOR MOBILE</td>\n",
       "    </tr>\n",
       "  </tbody>\n",
       "</table>\n",
       "</div>"
      ],
      "text/plain": [
       "    codigo               nome_completo    nome_reduzido\n",
       "0       11  ADALBERTO MONTENEGRO SILVA        ADALBERTO\n",
       "1       51       DIOGO MONTEIRO JUNIOR            DIOGO\n",
       "2       88           PAULO GIRÃO MONTE      PAULO MONTE\n",
       "3       89  ALEXANDRA SAMPAIO OLIVEIRA        ALEXANDRA\n",
       "4       54        PATRICIA LEITE NOBRE         PATRICIA\n",
       "5       56   ALBERTO DAMASCENO NOBREGA          ALBERTO\n",
       "6       94      MARIO LOPES NASCIMENTO      MARIO LOPES\n",
       "7       79       VITOR OLIVEIRA SANTOS            VITOR\n",
       "8       58     CLAUDIA MARIA DAMASCENO          CLAUDIA\n",
       "9        9    MARCIO SANTOS DE NOBREGA    MARCIO SANTOS\n",
       "10      90  ULISSES SANTOS DE OLIVEIRA          ULISSES\n",
       "11      32       MARIA DAS DORES SILVA  MARIA DAS DORES\n",
       "12     101             VENDEDOR MOBILE  VENDEDOR MOBILE"
      ]
     },
     "execution_count": 34,
     "metadata": {},
     "output_type": "execute_result"
    }
   ],
   "source": [
    "df_vendedores"
   ]
  },
  {
   "cell_type": "code",
   "execution_count": 35,
   "id": "f0fc2a28",
   "metadata": {},
   "outputs": [],
   "source": [
    "# Aplicando LabelEncoder para nome_completo e nome_reduzido\n",
    "le_completo = LabelEncoder()\n",
    "le_reduzido = LabelEncoder()\n",
    "\n",
    "df_vendedores.insert(2, 'nome_completo_cod', le_completo.fit_transform(df_vendedores['nome_completo']))\n",
    "df_vendedores.insert(4, 'nome_reduzido_cod', le_reduzido.fit_transform(df_vendedores['nome_reduzido']))"
   ]
  },
  {
   "cell_type": "code",
   "execution_count": 37,
   "id": "67e342c5",
   "metadata": {},
   "outputs": [
    {
     "data": {
      "text/html": [
       "<div>\n",
       "<style scoped>\n",
       "    .dataframe tbody tr th:only-of-type {\n",
       "        vertical-align: middle;\n",
       "    }\n",
       "\n",
       "    .dataframe tbody tr th {\n",
       "        vertical-align: top;\n",
       "    }\n",
       "\n",
       "    .dataframe thead th {\n",
       "        text-align: right;\n",
       "    }\n",
       "</style>\n",
       "<table border=\"1\" class=\"dataframe\">\n",
       "  <thead>\n",
       "    <tr style=\"text-align: right;\">\n",
       "      <th></th>\n",
       "      <th>codigo</th>\n",
       "      <th>nome_completo</th>\n",
       "      <th>nome_completo_cod</th>\n",
       "      <th>nome_reduzido</th>\n",
       "      <th>nome_reduzido_cod</th>\n",
       "    </tr>\n",
       "  </thead>\n",
       "  <tbody>\n",
       "    <tr>\n",
       "      <th>0</th>\n",
       "      <td>11</td>\n",
       "      <td>ADALBERTO MONTENEGRO SILVA</td>\n",
       "      <td>0</td>\n",
       "      <td>ADALBERTO</td>\n",
       "      <td>0</td>\n",
       "    </tr>\n",
       "    <tr>\n",
       "      <th>1</th>\n",
       "      <td>51</td>\n",
       "      <td>DIOGO MONTEIRO JUNIOR</td>\n",
       "      <td>4</td>\n",
       "      <td>DIOGO</td>\n",
       "      <td>4</td>\n",
       "    </tr>\n",
       "    <tr>\n",
       "      <th>2</th>\n",
       "      <td>88</td>\n",
       "      <td>PAULO GIRÃO MONTE</td>\n",
       "      <td>9</td>\n",
       "      <td>PAULO MONTE</td>\n",
       "      <td>9</td>\n",
       "    </tr>\n",
       "  </tbody>\n",
       "</table>\n",
       "</div>"
      ],
      "text/plain": [
       "   codigo               nome_completo  nome_completo_cod nome_reduzido  \\\n",
       "0      11  ADALBERTO MONTENEGRO SILVA                  0     ADALBERTO   \n",
       "1      51       DIOGO MONTEIRO JUNIOR                  4         DIOGO   \n",
       "2      88           PAULO GIRÃO MONTE                  9   PAULO MONTE   \n",
       "\n",
       "   nome_reduzido_cod  \n",
       "0                  0  \n",
       "1                  4  \n",
       "2                  9  "
      ]
     },
     "execution_count": 37,
     "metadata": {},
     "output_type": "execute_result"
    }
   ],
   "source": [
    "df_vendedores.head(3)"
   ]
  },
  {
   "cell_type": "code",
   "execution_count": 38,
   "id": "402ecd20",
   "metadata": {},
   "outputs": [
    {
     "data": {
      "text/plain": [
       "['../../util/data/df_vendedores.z']"
      ]
     },
     "execution_count": 38,
     "metadata": {},
     "output_type": "execute_result"
    }
   ],
   "source": [
    "dump(df_vendedores, caminho+'df_vendedores.z')"
   ]
  },
  {
   "cell_type": "markdown",
   "id": "e249fc37",
   "metadata": {},
   "source": [
    "# `df_vendas`"
   ]
  },
  {
   "cell_type": "code",
   "execution_count": 39,
   "id": "19084b61",
   "metadata": {},
   "outputs": [],
   "source": [
    "from joblib import load\n",
    "df_vendas = load(\"../../util/data/df_vendas.z\")"
   ]
  },
  {
   "cell_type": "code",
   "execution_count": 40,
   "id": "aea2e9f8",
   "metadata": {},
   "outputs": [
    {
     "name": "stdout",
     "output_type": "stream",
     "text": [
      "<class 'pandas.core.frame.DataFrame'>\n",
      "Index: 10418 entries, 0 to 10427\n",
      "Data columns (total 16 columns):\n",
      " #   Column            Non-Null Count  Dtype         \n",
      "---  ------            --------------  -----         \n",
      " 0   codigo_empresa    10418 non-null  int64         \n",
      " 1   tipo_pedido       10418 non-null  object        \n",
      " 2   centro_resultado  10418 non-null  int64         \n",
      " 3   documento         10418 non-null  int64         \n",
      " 4   codigo_cliente    10418 non-null  int64         \n",
      " 5   codigo_empregado  10418 non-null  int64         \n",
      " 6   data_emissao      10418 non-null  datetime64[ns]\n",
      " 7   hora_emissao      10418 non-null  object        \n",
      " 8   data_fechamento   10418 non-null  datetime64[ns]\n",
      " 9   hora_fechamento   10418 non-null  object        \n",
      " 10  data_faturamento  10418 non-null  datetime64[ns]\n",
      " 11  codigo_produto    10418 non-null  int64         \n",
      " 12  quantidade        10418 non-null  float64       \n",
      " 13  total             10418 non-null  float64       \n",
      " 14  custo_medio       10418 non-null  float64       \n",
      " 15  valor_desconto    10418 non-null  float64       \n",
      "dtypes: datetime64[ns](3), float64(4), int64(6), object(3)\n",
      "memory usage: 1.4+ MB\n",
      "None\n"
     ]
    }
   ],
   "source": [
    "print(df_vendas.info())"
   ]
  },
  {
   "cell_type": "code",
   "execution_count": 41,
   "id": "0aeafba8",
   "metadata": {},
   "outputs": [
    {
     "data": {
      "text/html": [
       "<div>\n",
       "<style scoped>\n",
       "    .dataframe tbody tr th:only-of-type {\n",
       "        vertical-align: middle;\n",
       "    }\n",
       "\n",
       "    .dataframe tbody tr th {\n",
       "        vertical-align: top;\n",
       "    }\n",
       "\n",
       "    .dataframe thead th {\n",
       "        text-align: right;\n",
       "    }\n",
       "</style>\n",
       "<table border=\"1\" class=\"dataframe\">\n",
       "  <thead>\n",
       "    <tr style=\"text-align: right;\">\n",
       "      <th></th>\n",
       "      <th>codigo_empresa</th>\n",
       "      <th>tipo_pedido</th>\n",
       "      <th>centro_resultado</th>\n",
       "      <th>documento</th>\n",
       "      <th>codigo_cliente</th>\n",
       "      <th>codigo_empregado</th>\n",
       "      <th>data_emissao</th>\n",
       "      <th>hora_emissao</th>\n",
       "      <th>data_fechamento</th>\n",
       "      <th>hora_fechamento</th>\n",
       "      <th>data_faturamento</th>\n",
       "      <th>codigo_produto</th>\n",
       "      <th>quantidade</th>\n",
       "      <th>total</th>\n",
       "      <th>custo_medio</th>\n",
       "      <th>valor_desconto</th>\n",
       "    </tr>\n",
       "  </thead>\n",
       "  <tbody>\n",
       "    <tr>\n",
       "      <th>0</th>\n",
       "      <td>2</td>\n",
       "      <td>PV</td>\n",
       "      <td>2</td>\n",
       "      <td>24560</td>\n",
       "      <td>4395</td>\n",
       "      <td>56</td>\n",
       "      <td>2023-03-21</td>\n",
       "      <td>12:10:07</td>\n",
       "      <td>2023-03-21</td>\n",
       "      <td>12:12:40</td>\n",
       "      <td>2023-03-21</td>\n",
       "      <td>194959</td>\n",
       "      <td>8.0</td>\n",
       "      <td>64.0</td>\n",
       "      <td>5.2870</td>\n",
       "      <td>20.64</td>\n",
       "    </tr>\n",
       "    <tr>\n",
       "      <th>1</th>\n",
       "      <td>1</td>\n",
       "      <td>PV</td>\n",
       "      <td>2</td>\n",
       "      <td>22433</td>\n",
       "      <td>236</td>\n",
       "      <td>9</td>\n",
       "      <td>2023-02-13</td>\n",
       "      <td>10:40:44</td>\n",
       "      <td>2023-04-27</td>\n",
       "      <td>07:18:40</td>\n",
       "      <td>2023-04-27</td>\n",
       "      <td>195052</td>\n",
       "      <td>6.0</td>\n",
       "      <td>75.0</td>\n",
       "      <td>5.2931</td>\n",
       "      <td>0.00</td>\n",
       "    </tr>\n",
       "    <tr>\n",
       "      <th>2</th>\n",
       "      <td>2</td>\n",
       "      <td>PV</td>\n",
       "      <td>2</td>\n",
       "      <td>24560</td>\n",
       "      <td>4395</td>\n",
       "      <td>56</td>\n",
       "      <td>2023-03-21</td>\n",
       "      <td>12:10:07</td>\n",
       "      <td>2023-03-21</td>\n",
       "      <td>12:12:40</td>\n",
       "      <td>2023-03-21</td>\n",
       "      <td>164</td>\n",
       "      <td>3.0</td>\n",
       "      <td>75.0</td>\n",
       "      <td>15.3550</td>\n",
       "      <td>16.80</td>\n",
       "    </tr>\n",
       "  </tbody>\n",
       "</table>\n",
       "</div>"
      ],
      "text/plain": [
       "   codigo_empresa tipo_pedido  centro_resultado  documento  codigo_cliente  \\\n",
       "0               2          PV                 2      24560            4395   \n",
       "1               1          PV                 2      22433             236   \n",
       "2               2          PV                 2      24560            4395   \n",
       "\n",
       "   codigo_empregado data_emissao hora_emissao data_fechamento hora_fechamento  \\\n",
       "0                56   2023-03-21     12:10:07      2023-03-21        12:12:40   \n",
       "1                 9   2023-02-13     10:40:44      2023-04-27        07:18:40   \n",
       "2                56   2023-03-21     12:10:07      2023-03-21        12:12:40   \n",
       "\n",
       "  data_faturamento  codigo_produto  quantidade  total  custo_medio  \\\n",
       "0       2023-03-21          194959         8.0   64.0       5.2870   \n",
       "1       2023-04-27          195052         6.0   75.0       5.2931   \n",
       "2       2023-03-21             164         3.0   75.0      15.3550   \n",
       "\n",
       "   valor_desconto  \n",
       "0           20.64  \n",
       "1            0.00  \n",
       "2           16.80  "
      ]
     },
     "execution_count": 41,
     "metadata": {},
     "output_type": "execute_result"
    }
   ],
   "source": [
    "df_vendas.head(3)"
   ]
  },
  {
   "cell_type": "code",
   "execution_count": 43,
   "id": "134f8fbd",
   "metadata": {},
   "outputs": [],
   "source": [
    "# Selecionando as colunas numéricas relevantes\n",
    "num_cols = ['quantidade', 'total', 'custo_medio', 'valor_desconto']"
   ]
  },
  {
   "cell_type": "code",
   "execution_count": 44,
   "id": "69a360e5",
   "metadata": {},
   "outputs": [],
   "source": [
    "# Inicializando os scalers\n",
    "minmax = MinMaxScaler()\n",
    "zscore = StandardScaler()"
   ]
  },
  {
   "cell_type": "code",
   "execution_count": 45,
   "id": "669209c6",
   "metadata": {},
   "outputs": [],
   "source": [
    "# Aplicando Min-Max Normalization\n",
    "df_minmax = pd.DataFrame(\n",
    "    minmax.fit_transform(df_vendas[num_cols]),\n",
    "    columns=[col + '_minmax' for col in num_cols],\n",
    "    index=df_vendas.index\n",
    ")"
   ]
  },
  {
   "cell_type": "code",
   "execution_count": 49,
   "id": "bf72dec9",
   "metadata": {},
   "outputs": [],
   "source": [
    "df_vendas.insert(13, 'quantidade_minmax', df_minmax['quantidade_minmax'])\n",
    "df_vendas.insert(15, 'total_minmax', df_minmax['total_minmax'])\n",
    "df_vendas.insert(17, 'custo_medio_minmax', df_minmax['custo_medio_minmax'])\n",
    "df_vendas.insert(19, 'valor_desconto_minmax', df_minmax['valor_desconto_minmax'])"
   ]
  },
  {
   "cell_type": "code",
   "execution_count": 50,
   "id": "2254d542",
   "metadata": {},
   "outputs": [],
   "source": [
    "# Aplicando Z-score Standardization\n",
    "df_zscore = pd.DataFrame(\n",
    "    zscore.fit_transform(df_vendas[num_cols]),\n",
    "    columns=[col + '_zscore' for col in num_cols],\n",
    "    index=df_vendas.index\n",
    ")"
   ]
  },
  {
   "cell_type": "code",
   "execution_count": 51,
   "id": "a46672d3",
   "metadata": {},
   "outputs": [
    {
     "data": {
      "text/plain": [
       "Index(['codigo_empresa', 'tipo_pedido', 'centro_resultado', 'documento',\n",
       "       'codigo_cliente', 'codigo_empregado', 'data_emissao', 'hora_emissao',\n",
       "       'data_fechamento', 'hora_fechamento', 'data_faturamento',\n",
       "       'codigo_produto', 'quantidade', 'quantidade_minmax', 'total',\n",
       "       'total_minmax', 'custo_medio', 'custo_medio_minmax', 'valor_desconto',\n",
       "       'valor_desconto_minmax'],\n",
       "      dtype='object')"
      ]
     },
     "execution_count": 51,
     "metadata": {},
     "output_type": "execute_result"
    }
   ],
   "source": [
    "df_vendas.columns"
   ]
  },
  {
   "cell_type": "code",
   "execution_count": 52,
   "id": "61fc2afe",
   "metadata": {},
   "outputs": [],
   "source": [
    "df_vendas.insert(14, 'quantidade_zscore', df_zscore['quantidade_zscore'])\n",
    "df_vendas.insert(17, 'total_zscore', df_zscore['total_zscore'])\n",
    "df_vendas.insert(20, 'custo_medio_zscore', df_zscore['custo_medio_zscore'])\n",
    "df_vendas.insert(23, 'valor_desconto_zscore', df_zscore['valor_desconto_zscore'])"
   ]
  },
  {
   "cell_type": "code",
   "execution_count": 55,
   "id": "a55e316d",
   "metadata": {},
   "outputs": [],
   "source": [
    "# One-hot encoding para tipo_pedido\n",
    "df_vendas = pd.get_dummies(df_vendas, columns=['tipo_pedido'], prefix='pedido')"
   ]
  },
  {
   "cell_type": "code",
   "execution_count": 56,
   "id": "bdef3ad1",
   "metadata": {},
   "outputs": [
    {
     "name": "stdout",
     "output_type": "stream",
     "text": [
      "<class 'pandas.core.frame.DataFrame'>\n",
      "Index: 10418 entries, 0 to 10427\n",
      "Data columns (total 25 columns):\n",
      " #   Column                 Non-Null Count  Dtype         \n",
      "---  ------                 --------------  -----         \n",
      " 0   codigo_empresa         10418 non-null  int64         \n",
      " 1   centro_resultado       10418 non-null  int64         \n",
      " 2   documento              10418 non-null  int64         \n",
      " 3   codigo_cliente         10418 non-null  int64         \n",
      " 4   codigo_empregado       10418 non-null  int64         \n",
      " 5   data_emissao           10418 non-null  datetime64[ns]\n",
      " 6   hora_emissao           10418 non-null  object        \n",
      " 7   data_fechamento        10418 non-null  datetime64[ns]\n",
      " 8   hora_fechamento        10418 non-null  object        \n",
      " 9   data_faturamento       10418 non-null  datetime64[ns]\n",
      " 10  codigo_produto         10418 non-null  int64         \n",
      " 11  quantidade             10418 non-null  float64       \n",
      " 12  quantidade_minmax      10418 non-null  float64       \n",
      " 13  quantidade_zscore      10418 non-null  float64       \n",
      " 14  total                  10418 non-null  float64       \n",
      " 15  total_minmax           10418 non-null  float64       \n",
      " 16  total_zscore           10418 non-null  float64       \n",
      " 17  custo_medio            10418 non-null  float64       \n",
      " 18  custo_medio_minmax     10418 non-null  float64       \n",
      " 19  custo_medio_zscore     10418 non-null  float64       \n",
      " 20  valor_desconto         10418 non-null  float64       \n",
      " 21  valor_desconto_minmax  10418 non-null  float64       \n",
      " 22  valor_desconto_zscore  10418 non-null  float64       \n",
      " 23  pedido_DV              10418 non-null  bool          \n",
      " 24  pedido_PV              10418 non-null  bool          \n",
      "dtypes: bool(2), datetime64[ns](3), float64(12), int64(6), object(2)\n",
      "memory usage: 1.9+ MB\n",
      "None\n"
     ]
    }
   ],
   "source": [
    "print(df_vendas.info())"
   ]
  },
  {
   "cell_type": "code",
   "execution_count": 58,
   "id": "7ee9598a",
   "metadata": {},
   "outputs": [
    {
     "data": {
      "text/plain": [
       "Index(['codigo_empresa', 'centro_resultado', 'documento', 'codigo_cliente',\n",
       "       'codigo_empregado', 'data_emissao', 'hora_emissao', 'data_fechamento',\n",
       "       'hora_fechamento', 'data_faturamento', 'codigo_produto', 'quantidade',\n",
       "       'quantidade_minmax', 'quantidade_zscore', 'total', 'total_minmax',\n",
       "       'total_zscore', 'custo_medio', 'custo_medio_minmax',\n",
       "       'custo_medio_zscore', 'valor_desconto', 'valor_desconto_minmax',\n",
       "       'valor_desconto_zscore', 'pedido_DV', 'pedido_PV'],\n",
       "      dtype='object')"
      ]
     },
     "execution_count": 58,
     "metadata": {},
     "output_type": "execute_result"
    }
   ],
   "source": [
    "df_vendas.columns"
   ]
  },
  {
   "cell_type": "code",
   "execution_count": 57,
   "id": "b18b1b2e",
   "metadata": {},
   "outputs": [
    {
     "name": "stdout",
     "output_type": "stream",
     "text": [
      "       codigo_empresa  centro_resultado     documento  codigo_cliente  \\\n",
      "count    10418.000000      10418.000000  10418.000000    10418.000000   \n",
      "mean         1.583797          4.140910  22114.464293     5790.050490   \n",
      "min          1.000000          2.000000  18228.000000        2.000000   \n",
      "25%          1.000000          2.000000  20850.250000     4798.000000   \n",
      "50%          2.000000          2.000000  22135.000000     6863.000000   \n",
      "75%          2.000000          7.000000  23375.750000     6863.000000   \n",
      "max          3.000000         14.000000  24601.000000     9708.000000   \n",
      "std          0.633558          2.881906   1425.949460     2558.593989   \n",
      "\n",
      "       codigo_empregado                   data_emissao  \\\n",
      "count      10418.000000                          10418   \n",
      "mean          63.667691  2023-02-08 16:44:44.277212416   \n",
      "min            8.000000            2022-12-06 00:00:00   \n",
      "25%           51.000000            2023-01-19 00:00:00   \n",
      "50%           63.000000            2023-02-08 00:00:00   \n",
      "75%           83.000000            2023-03-02 00:00:00   \n",
      "max           92.000000            2025-02-28 00:00:00   \n",
      "std           25.182387                            NaN   \n",
      "\n",
      "                     data_fechamento               data_faturamento  \\\n",
      "count                          10418                          10418   \n",
      "mean   2023-02-08 23:39:40.879247360  2023-02-09 00:38:42.134766592   \n",
      "min              2023-01-02 00:00:00            2023-01-02 00:00:00   \n",
      "25%              2023-01-19 00:00:00            2023-01-19 00:00:00   \n",
      "50%              2023-02-08 00:00:00            2023-02-08 00:00:00   \n",
      "75%              2023-03-02 00:00:00            2023-03-02 00:00:00   \n",
      "max              2025-02-28 00:00:00            2025-04-03 00:00:00   \n",
      "std                              NaN                            NaN   \n",
      "\n",
      "       codigo_produto    quantidade  ...  quantidade_zscore         total  \\\n",
      "count    10418.000000  10418.000000  ...       1.041800e+04  10418.000000   \n",
      "mean     75490.936264      5.463429  ...       2.182508e-17    206.323024   \n",
      "min         12.000000    -59.000000  ...      -3.263173e+00  -2415.000000   \n",
      "25%        272.000000      1.000000  ...      -2.259411e-01     30.000000   \n",
      "50%       7657.000000      2.000000  ...      -1.753206e-01     79.795000   \n",
      "75%     187295.000000      5.000000  ...      -2.345901e-02    199.972500   \n",
      "max     196151.000000    600.000000  ...       3.009576e+01  14900.000000   \n",
      "std      90340.333180     19.755777  ...       1.000048e+00    513.622674   \n",
      "\n",
      "       total_minmax  total_zscore   custo_medio  custo_medio_minmax  \\\n",
      "count  10418.000000  1.041800e+04  10418.000000        10418.000000   \n",
      "mean       0.151390  2.728135e-17     50.682218            0.144928   \n",
      "min        0.000000 -5.103842e+00   -815.900000            0.000000   \n",
      "25%        0.141207 -3.433094e-01      6.995100            0.137622   \n",
      "50%        0.144083 -2.463561e-01     12.828000            0.138598   \n",
      "75%        0.151024 -1.236477e-02     32.086875            0.141819   \n",
      "max        1.000000  2.860929e+01   5163.480000            1.000000   \n",
      "std        0.029663  1.000048e+00    195.042046            0.032619   \n",
      "\n",
      "       custo_medio_zscore  valor_desconto  valor_desconto_minmax  \\\n",
      "count        1.041800e+04    10418.000000           10418.000000   \n",
      "mean         3.000948e-17       67.747056               0.012875   \n",
      "min         -4.443267e+00        0.000000               0.000000   \n",
      "25%         -2.239990e-01        2.665000               0.000506   \n",
      "50%         -1.940917e-01       15.675000               0.002979   \n",
      "75%         -9.534475e-02       56.400000               0.010718   \n",
      "max          2.621508e+01     5262.000000               1.000000   \n",
      "std          1.000048e+00      226.178726               0.042983   \n",
      "\n",
      "       valor_desconto_zscore  \n",
      "count           1.041800e+04  \n",
      "mean            3.273762e-17  \n",
      "min            -2.995432e-01  \n",
      "25%            -2.877600e-01  \n",
      "50%            -2.302363e-01  \n",
      "75%            -5.017095e-02  \n",
      "max             2.296636e+01  \n",
      "std             1.000048e+00  \n",
      "\n",
      "[8 rows x 21 columns]\n"
     ]
    }
   ],
   "source": [
    "print(df_vendas.describe())"
   ]
  },
  {
   "cell_type": "code",
   "execution_count": 60,
   "id": "b78f02fa",
   "metadata": {},
   "outputs": [
    {
     "data": {
      "text/plain": [
       "['../../util/data/df_vendas.z']"
      ]
     },
     "execution_count": 60,
     "metadata": {},
     "output_type": "execute_result"
    }
   ],
   "source": [
    "dump(df_vendas, caminho+'df_vendas.z')"
   ]
  }
 ],
 "metadata": {
  "kernelspec": {
   "display_name": "base",
   "language": "python",
   "name": "python3"
  },
  "language_info": {
   "codemirror_mode": {
    "name": "ipython",
    "version": 3
   },
   "file_extension": ".py",
   "mimetype": "text/x-python",
   "name": "python",
   "nbconvert_exporter": "python",
   "pygments_lexer": "ipython3",
   "version": "3.12.7"
  }
 },
 "nbformat": 4,
 "nbformat_minor": 5
}
