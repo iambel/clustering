{
 "cells": [
  {
   "cell_type": "markdown",
   "id": "1c118ce3",
   "metadata": {},
   "source": [
    "# Normalizar e padronizar variáveis"
   ]
  },
  {
   "cell_type": "code",
   "execution_count": 1,
   "id": "081c5e38",
   "metadata": {},
   "outputs": [],
   "source": [
    "from joblib import dump, load\n",
    "import pandas as pd"
   ]
  },
  {
   "cell_type": "code",
   "execution_count": 2,
   "id": "34ba752a",
   "metadata": {},
   "outputs": [],
   "source": [
    "caminho = '../../util/data/'"
   ]
  },
  {
   "cell_type": "markdown",
   "id": "10514f84",
   "metadata": {},
   "source": [
    "## seleção das variáveis numéricas"
   ]
  },
  {
   "cell_type": "code",
   "execution_count": 3,
   "id": "999ccd5c",
   "metadata": {},
   "outputs": [
    {
     "name": "stdout",
     "output_type": "stream",
     "text": [
      "[CATEGORIAS]\n",
      "            codigo\n",
      "count   74.000000\n",
      "mean   303.851351\n",
      "std    155.563288\n",
      "min      2.000000\n",
      "25%    343.000000\n",
      "50%    381.500000\n",
      "75%    399.750000\n",
      "max    419.000000\n",
      "[CLIENTES]\n",
      "             codigo     vendedor\n",
      "count  3132.000000  3132.000000\n",
      "mean   6786.610153    67.129630\n",
      "std    2827.491552    30.297795\n",
      "min       1.000000     7.000000\n",
      "25%    5194.750000    54.000000\n",
      "50%    7997.500000    82.000000\n",
      "75%    8844.250000    89.000000\n",
      "max    9730.000000   101.000000\n",
      "[PRODUTOS]\n",
      "        codigo_categoria   preco_venda\n",
      "count       9589.000000   9592.000000\n",
      "mean          81.104390    304.013080\n",
      "std          130.790131   1366.995745\n",
      "min            2.000000      0.000000\n",
      "25%            3.000000     19.735000\n",
      "50%            8.000000     65.540000\n",
      "75%           64.000000    214.000000\n",
      "max          368.000000  51283.640000\n"
     ]
    }
   ],
   "source": [
    "# carregamento dos dataframes e seleção das variaveis numericas\n",
    "\n",
    "categorias = load(caminho+'df_categorias.z')\n",
    "categorias_numerica= categorias.select_dtypes(include=['int64', 'float64']) # seleciona apenas as variaveis numericas do tipo int64 e float64\n",
    "\n",
    "clientes = load(caminho+'df_clientes.z')\n",
    "clientes_numerica= clientes.select_dtypes(include=['int64', 'float64'])\n",
    "\n",
    "produtos = load(caminho+'df_produtos.z')\n",
    "produtos_numerica = produtos.select_dtypes(include=['int64', 'float64'])\n",
    "\n",
    "# exibe informações das variaveis numericas de cada dataframe\n",
    "print('[CATEGORIAS]\\n',categorias_numerica.describe())\n",
    "print('[CLIENTES]\\n',clientes_numerica.describe())\n",
    "print('[PRODUTOS]\\n',produtos_numerica.describe())"
   ]
  },
  {
   "cell_type": "markdown",
   "id": "3ca3a965",
   "metadata": {},
   "source": [
    "## `df_produtos`"
   ]
  },
  {
   "cell_type": "markdown",
   "id": "355edc3d",
   "metadata": {},
   "source": [
    "### → variáveis numéricas"
   ]
  },
  {
   "cell_type": "markdown",
   "id": "37a13012",
   "metadata": {},
   "source": [
    "com o output, pode-se avaliar:\n",
    "\n",
    "`categorias`: somente possui uma variável numérica para servir de id da categoria, será descartada\n",
    "\n",
    "`clientes`: só possui variáveis que servem como identificadores **('codigo','vendedor')**, serão descartados\n",
    "\n",
    "`produtos`: também possui variáveis identificadoras **('codigo_categoria)** que será descartada nos procedimentos. será necessário aplicar uma normalização em 'preco_venda' por apresentar valores muito distantes  \n"
   ]
  },
  {
   "cell_type": "code",
   "execution_count": 4,
   "id": "7e45980e",
   "metadata": {},
   "outputs": [
    {
     "data": {
      "text/html": [
       "<div>\n",
       "<style scoped>\n",
       "    .dataframe tbody tr th:only-of-type {\n",
       "        vertical-align: middle;\n",
       "    }\n",
       "\n",
       "    .dataframe tbody tr th {\n",
       "        vertical-align: top;\n",
       "    }\n",
       "\n",
       "    .dataframe thead th {\n",
       "        text-align: right;\n",
       "    }\n",
       "</style>\n",
       "<table border=\"1\" class=\"dataframe\">\n",
       "  <thead>\n",
       "    <tr style=\"text-align: right;\">\n",
       "      <th></th>\n",
       "      <th>preco_venda</th>\n",
       "    </tr>\n",
       "  </thead>\n",
       "  <tbody>\n",
       "    <tr>\n",
       "      <th>0</th>\n",
       "      <td>0.00</td>\n",
       "    </tr>\n",
       "    <tr>\n",
       "      <th>1</th>\n",
       "      <td>8.93</td>\n",
       "    </tr>\n",
       "    <tr>\n",
       "      <th>2</th>\n",
       "      <td>0.00</td>\n",
       "    </tr>\n",
       "    <tr>\n",
       "      <th>3</th>\n",
       "      <td>8.38</td>\n",
       "    </tr>\n",
       "    <tr>\n",
       "      <th>4</th>\n",
       "      <td>67.91</td>\n",
       "    </tr>\n",
       "    <tr>\n",
       "      <th>5</th>\n",
       "      <td>441.54</td>\n",
       "    </tr>\n",
       "    <tr>\n",
       "      <th>6</th>\n",
       "      <td>14.74</td>\n",
       "    </tr>\n",
       "    <tr>\n",
       "      <th>7</th>\n",
       "      <td>26.52</td>\n",
       "    </tr>\n",
       "    <tr>\n",
       "      <th>8</th>\n",
       "      <td>954.28</td>\n",
       "    </tr>\n",
       "    <tr>\n",
       "      <th>9</th>\n",
       "      <td>16.00</td>\n",
       "    </tr>\n",
       "  </tbody>\n",
       "</table>\n",
       "</div>"
      ],
      "text/plain": [
       "   preco_venda\n",
       "0         0.00\n",
       "1         8.93\n",
       "2         0.00\n",
       "3         8.38\n",
       "4        67.91\n",
       "5       441.54\n",
       "6        14.74\n",
       "7        26.52\n",
       "8       954.28\n",
       "9        16.00"
      ]
     },
     "execution_count": 4,
     "metadata": {},
     "output_type": "execute_result"
    }
   ],
   "source": [
    "produtos_numerica = produtos_numerica.drop(columns=['codigo_categoria']) # descartando a coluna id para a padronização\n",
    "\n",
    "produtos_numerica.head(10)"
   ]
  },
  {
   "cell_type": "code",
   "execution_count": null,
   "id": "d9f0f88d",
   "metadata": {},
   "outputs": [],
   "source": [
    " # importando a bibliotecas necessárias\n",
    "from sklearn.preprocessing import StandardScaler\n",
    "from sklearn.preprocessing import LabelEncoder"
   ]
  },
  {
   "cell_type": "code",
   "execution_count": 6,
   "id": "f9ed0c6c",
   "metadata": {},
   "outputs": [],
   "source": [
    "scaler = StandardScaler() # declarando o scaler\n",
    "\n",
    "scaler.fit(produtos_numerica) # aplicando no produtos\n",
    "produtos_numerica_std = scaler.transform(produtos_numerica)\n",
    "produtos_numerica_std = pd.DataFrame(produtos_numerica_std, columns=produtos_numerica.columns) # coluna padronizada"
   ]
  },
  {
   "cell_type": "code",
   "execution_count": 7,
   "id": "b616be32",
   "metadata": {},
   "outputs": [
    {
     "data": {
      "text/html": [
       "<div>\n",
       "<style scoped>\n",
       "    .dataframe tbody tr th:only-of-type {\n",
       "        vertical-align: middle;\n",
       "    }\n",
       "\n",
       "    .dataframe tbody tr th {\n",
       "        vertical-align: top;\n",
       "    }\n",
       "\n",
       "    .dataframe thead th {\n",
       "        text-align: right;\n",
       "    }\n",
       "</style>\n",
       "<table border=\"1\" class=\"dataframe\">\n",
       "  <thead>\n",
       "    <tr style=\"text-align: right;\">\n",
       "      <th></th>\n",
       "      <th>preco_venda</th>\n",
       "    </tr>\n",
       "  </thead>\n",
       "  <tbody>\n",
       "    <tr>\n",
       "      <th>0</th>\n",
       "      <td>-0.222407</td>\n",
       "    </tr>\n",
       "    <tr>\n",
       "      <th>1</th>\n",
       "      <td>-0.215874</td>\n",
       "    </tr>\n",
       "    <tr>\n",
       "      <th>2</th>\n",
       "      <td>-0.222407</td>\n",
       "    </tr>\n",
       "    <tr>\n",
       "      <th>3</th>\n",
       "      <td>-0.216276</td>\n",
       "    </tr>\n",
       "    <tr>\n",
       "      <th>4</th>\n",
       "      <td>-0.172726</td>\n",
       "    </tr>\n",
       "    <tr>\n",
       "      <th>5</th>\n",
       "      <td>0.100610</td>\n",
       "    </tr>\n",
       "    <tr>\n",
       "      <th>6</th>\n",
       "      <td>-0.211623</td>\n",
       "    </tr>\n",
       "    <tr>\n",
       "      <th>7</th>\n",
       "      <td>-0.203005</td>\n",
       "    </tr>\n",
       "    <tr>\n",
       "      <th>8</th>\n",
       "      <td>0.475715</td>\n",
       "    </tr>\n",
       "    <tr>\n",
       "      <th>9</th>\n",
       "      <td>-0.210702</td>\n",
       "    </tr>\n",
       "  </tbody>\n",
       "</table>\n",
       "</div>"
      ],
      "text/plain": [
       "   preco_venda\n",
       "0    -0.222407\n",
       "1    -0.215874\n",
       "2    -0.222407\n",
       "3    -0.216276\n",
       "4    -0.172726\n",
       "5     0.100610\n",
       "6    -0.211623\n",
       "7    -0.203005\n",
       "8     0.475715\n",
       "9    -0.210702"
      ]
     },
     "execution_count": 7,
     "metadata": {},
     "output_type": "execute_result"
    }
   ],
   "source": [
    "produtos_numerica_std.head(10)"
   ]
  },
  {
   "cell_type": "markdown",
   "id": "86b5defb",
   "metadata": {},
   "source": [
    "### → variáveis categóricas"
   ]
  },
  {
   "cell_type": "code",
   "execution_count": null,
   "id": "47265ba1",
   "metadata": {},
   "outputs": [],
   "source": [
    "produtos = produtos.drop(columns=['codigo_barras']) #removendo a coluna codigo_barras por ser nula"
   ]
  },
  {
   "cell_type": "code",
   "execution_count": 15,
   "id": "cad3449d",
   "metadata": {},
   "outputs": [],
   "source": [
    "# seleciona somente as variaveis categoricas de produtos\n",
    "produtos_categoricas = produtos.select_dtypes(include=['object', 'category'])"
   ]
  },
  {
   "cell_type": "code",
   "execution_count": 18,
   "id": "566f71d3",
   "metadata": {},
   "outputs": [
    {
     "data": {
      "text/html": [
       "<div>\n",
       "<style scoped>\n",
       "    .dataframe tbody tr th:only-of-type {\n",
       "        vertical-align: middle;\n",
       "    }\n",
       "\n",
       "    .dataframe tbody tr th {\n",
       "        vertical-align: top;\n",
       "    }\n",
       "\n",
       "    .dataframe thead th {\n",
       "        text-align: right;\n",
       "    }\n",
       "</style>\n",
       "<table border=\"1\" class=\"dataframe\">\n",
       "  <thead>\n",
       "    <tr style=\"text-align: right;\">\n",
       "      <th></th>\n",
       "      <th>codigo</th>\n",
       "      <th>descricao</th>\n",
       "      <th>unidade</th>\n",
       "      <th>marca</th>\n",
       "      <th>categoria</th>\n",
       "      <th>classificacao</th>\n",
       "    </tr>\n",
       "  </thead>\n",
       "  <tbody>\n",
       "    <tr>\n",
       "      <th>0</th>\n",
       "      <td>194408</td>\n",
       "      <td>CANETA REF 35629</td>\n",
       "      <td>UN</td>\n",
       "      <td>BIC</td>\n",
       "      <td>CANETA</td>\n",
       "      <td>MERCADORIA PARA REVENDA</td>\n",
       "    </tr>\n",
       "    <tr>\n",
       "      <th>1</th>\n",
       "      <td>194412</td>\n",
       "      <td>CANETA REF 35633</td>\n",
       "      <td>UN</td>\n",
       "      <td>BIC</td>\n",
       "      <td>CANETA</td>\n",
       "      <td>MERCADORIA PARA REVENDA</td>\n",
       "    </tr>\n",
       "    <tr>\n",
       "      <th>2</th>\n",
       "      <td>194413</td>\n",
       "      <td>CANETA REF 35634</td>\n",
       "      <td>UN</td>\n",
       "      <td>BIC</td>\n",
       "      <td>CANETA</td>\n",
       "      <td>MERCADORIA PARA REVENDA</td>\n",
       "    </tr>\n",
       "    <tr>\n",
       "      <th>3</th>\n",
       "      <td>006467</td>\n",
       "      <td>CANETA REF 5968</td>\n",
       "      <td>UN</td>\n",
       "      <td>BIC</td>\n",
       "      <td>CANETA</td>\n",
       "      <td>MERCADORIA PARA REVENDA</td>\n",
       "    </tr>\n",
       "    <tr>\n",
       "      <th>4</th>\n",
       "      <td>004559</td>\n",
       "      <td>CANETA REF 4092</td>\n",
       "      <td>UN</td>\n",
       "      <td>BIC</td>\n",
       "      <td>CANETA</td>\n",
       "      <td>MERCADORIA PARA REVENDA</td>\n",
       "    </tr>\n",
       "    <tr>\n",
       "      <th>5</th>\n",
       "      <td>006654</td>\n",
       "      <td>ENVELOPE REF 6152</td>\n",
       "      <td>UN</td>\n",
       "      <td>3M</td>\n",
       "      <td>ENVELOPE</td>\n",
       "      <td>MERCADORIA PARA REVENDA</td>\n",
       "    </tr>\n",
       "    <tr>\n",
       "      <th>6</th>\n",
       "      <td>005543</td>\n",
       "      <td>CANETA REF 5066</td>\n",
       "      <td>UN</td>\n",
       "      <td>BIC</td>\n",
       "      <td>CANETA</td>\n",
       "      <td>MERCADORIA PARA REVENDA</td>\n",
       "    </tr>\n",
       "    <tr>\n",
       "      <th>7</th>\n",
       "      <td>005422</td>\n",
       "      <td>CANETA REF 4947</td>\n",
       "      <td>UN</td>\n",
       "      <td>BIC</td>\n",
       "      <td>CANETA</td>\n",
       "      <td>MERCADORIA PARA REVENDA</td>\n",
       "    </tr>\n",
       "    <tr>\n",
       "      <th>8</th>\n",
       "      <td>193691</td>\n",
       "      <td>TINTA REF 34938</td>\n",
       "      <td>UN</td>\n",
       "      <td>FABER CASTELL</td>\n",
       "      <td>TINTA</td>\n",
       "      <td>MERCADORIA PARA REVENDA</td>\n",
       "    </tr>\n",
       "    <tr>\n",
       "      <th>9</th>\n",
       "      <td>161291</td>\n",
       "      <td>CANETA REF 16450</td>\n",
       "      <td>UN</td>\n",
       "      <td>BIC</td>\n",
       "      <td>CANETA</td>\n",
       "      <td>MERCADORIA PARA REVENDA</td>\n",
       "    </tr>\n",
       "  </tbody>\n",
       "</table>\n",
       "</div>"
      ],
      "text/plain": [
       "   codigo          descricao unidade          marca categoria  \\\n",
       "0  194408   CANETA REF 35629      UN            BIC    CANETA   \n",
       "1  194412   CANETA REF 35633      UN            BIC    CANETA   \n",
       "2  194413   CANETA REF 35634      UN            BIC    CANETA   \n",
       "3  006467    CANETA REF 5968      UN            BIC    CANETA   \n",
       "4  004559    CANETA REF 4092      UN            BIC    CANETA   \n",
       "5  006654  ENVELOPE REF 6152      UN             3M  ENVELOPE   \n",
       "6  005543    CANETA REF 5066      UN            BIC    CANETA   \n",
       "7  005422    CANETA REF 4947      UN            BIC    CANETA   \n",
       "8  193691    TINTA REF 34938      UN  FABER CASTELL     TINTA   \n",
       "9  161291   CANETA REF 16450      UN            BIC    CANETA   \n",
       "\n",
       "             classificacao  \n",
       "0  MERCADORIA PARA REVENDA  \n",
       "1  MERCADORIA PARA REVENDA  \n",
       "2  MERCADORIA PARA REVENDA  \n",
       "3  MERCADORIA PARA REVENDA  \n",
       "4  MERCADORIA PARA REVENDA  \n",
       "5  MERCADORIA PARA REVENDA  \n",
       "6  MERCADORIA PARA REVENDA  \n",
       "7  MERCADORIA PARA REVENDA  \n",
       "8  MERCADORIA PARA REVENDA  \n",
       "9  MERCADORIA PARA REVENDA  "
      ]
     },
     "execution_count": 18,
     "metadata": {},
     "output_type": "execute_result"
    }
   ],
   "source": [
    "produtos_categoricas.head(10)"
   ]
  },
  {
   "cell_type": "markdown",
   "id": "5aa9c9e6",
   "metadata": {},
   "source": [
    "com a visualização, podemos verificar que as colunas:\n",
    "\n",
    "`codigo`: é um identificador, não vai trazer nenhuma informação, será descartada\n",
    "\n",
    "`unidade`: possui somente dois tipos, UN e CJ, será aplicado a técnica **one-hot encoding**\n",
    "\n",
    "`descricao`: não acrescenta em nada aparentemente, será descartada\n",
    "\n",
    "`marca`, `categoria`, `classificacao`: possuem muitos tipos, será aplicada a técnica **label encoding**"
   ]
  },
  {
   "cell_type": "code",
   "execution_count": null,
   "id": "c3d32059",
   "metadata": {},
   "outputs": [],
   "source": [
    "# remoção da coluna codigo e descricao\n",
    "produtos_categoricas = produtos_categoricas.drop(columns=['codigo']) \n",
    "produtos_categoricas = produtos_categoricas.drop(columns=['descricao']) "
   ]
  },
  {
   "cell_type": "code",
   "execution_count": null,
   "id": "b9d1bd62",
   "metadata": {},
   "outputs": [],
   "source": [
    "df = pd.DataFrame({'unidade': ['UN', 'CJ']})\n",
    "df_onehot = pd.get_dummies(df, columns=['unidade'])\n",
    "print(df_onehot)"
   ]
  },
  {
   "cell_type": "code",
   "execution_count": null,
   "id": "cbe1079f",
   "metadata": {},
   "outputs": [],
   "source": [
    "le = LabelEncoder()\n",
    "produtos_categoricas[''] = le.fit_transform(produtos_categoricas['nome_fantasia'])"
   ]
  },
  {
   "cell_type": "code",
   "execution_count": null,
   "id": "9d5ba2ff",
   "metadata": {},
   "outputs": [],
   "source": [
    "dump(produtos_numerica_std, caminho+'produtos_std.z')"
   ]
  },
  {
   "cell_type": "markdown",
   "id": "d6a44ca6",
   "metadata": {},
   "source": [
    "# `df_unidades`"
   ]
  },
  {
   "cell_type": "code",
   "execution_count": 5,
   "id": "74cafb00",
   "metadata": {},
   "outputs": [],
   "source": [
    "import pandas as pd\n",
    "from sklearn.preprocessing import LabelEncoder"
   ]
  },
  {
   "cell_type": "code",
   "execution_count": 6,
   "id": "f026e5d0",
   "metadata": {},
   "outputs": [],
   "source": [
    "df_unidades = pd.read_csv(\"../../util/data/unidades.csv\")"
   ]
  },
  {
   "cell_type": "code",
   "execution_count": 7,
   "id": "dc198d8e",
   "metadata": {},
   "outputs": [],
   "source": [
    "# Codificando a coluna 'status' (sim/não) em 1 e 0\n",
    "df_unidades['status_cod'] = df_unidades['status'].map({'sim': 1, 'não': 0})"
   ]
  },
  {
   "cell_type": "code",
   "execution_count": 8,
   "id": "0262b32b",
   "metadata": {},
   "outputs": [],
   "source": [
    "# Codificando a coluna 'nome_fantasia' com Label Encoding\n",
    "le = LabelEncoder()\n",
    "df_unidades['nome_fantasia_cod'] = le.fit_transform(df_unidades['nome_fantasia'])"
   ]
  },
  {
   "cell_type": "code",
   "execution_count": 9,
   "id": "2f3a71e2",
   "metadata": {},
   "outputs": [
    {
     "name": "stdout",
     "output_type": "stream",
     "text": [
      "   codigo_unidade    nome_fantasia status  status_cod  nome_fantasia_cod\n",
      "0           10003   L03 - SALVADOR    sim           1                  2\n",
      "1           10002     L02 - SOBRAL    sim           1                  1\n",
      "2           10001  L01 - FORTALEZA    sim           1                  0\n"
     ]
    }
   ],
   "source": [
    "print(df_unidades.head())"
   ]
  },
  {
   "cell_type": "markdown",
   "id": "e69b7ad2",
   "metadata": {},
   "source": [
    "# `df_vendedores`"
   ]
  },
  {
   "cell_type": "code",
   "execution_count": 10,
   "id": "52805892",
   "metadata": {},
   "outputs": [],
   "source": [
    "from joblib import load\n",
    "df_vendedores = load(\"../../util/data/df_vendedores.z\")"
   ]
  },
  {
   "cell_type": "code",
   "execution_count": 11,
   "id": "d3ac078c",
   "metadata": {},
   "outputs": [
    {
     "name": "stdout",
     "output_type": "stream",
     "text": [
      "<class 'pandas.core.frame.DataFrame'>\n",
      "RangeIndex: 13 entries, 0 to 12\n",
      "Data columns (total 3 columns):\n",
      " #   Column         Non-Null Count  Dtype \n",
      "---  ------         --------------  ----- \n",
      " 0   codigo         13 non-null     int64 \n",
      " 1   nome_completo  13 non-null     object\n",
      " 2   nome_reduzido  13 non-null     object\n",
      "dtypes: int64(1), object(2)\n",
      "memory usage: 444.0+ bytes\n",
      "None\n"
     ]
    }
   ],
   "source": [
    "print(df_vendedores.info())"
   ]
  },
  {
   "cell_type": "code",
   "execution_count": 12,
   "id": "e2bcfb47",
   "metadata": {},
   "outputs": [],
   "source": [
    "import pandas as pd\n",
    "from sklearn.preprocessing import LabelEncoder"
   ]
  },
  {
   "cell_type": "code",
   "execution_count": 13,
   "id": "9a84ccda",
   "metadata": {},
   "outputs": [],
   "source": [
    "data = {\n",
    "    \"codigo\": [11, 51, 88, 89, 54, 56, 94, 79, 58, 9, 90, 32, 101],\n",
    "    \"nome_completo\": [\n",
    "        \"ADALBERTO MONTENEGRO SILVA\", \"DIOGO MONTEIRO JUNIOR\", \"PAULO GIRÃO MONTE\",\n",
    "        \"ALEXANDRA SAMPAIO OLIVEIRA\", \"PATRICIA LEITE NOBRE\", \"ALBERTO DAMASCENO NOBREGA\",\n",
    "        \"MARIO LOPES NASCIMENTO\", \"VITOR OLIVEIRA SANTOS\", \"CLAUDIA MARIA DAMASCENO\",\n",
    "        \"MARCIO SANTOS DE NOBREGA\", \"ULISSES SANTOS DE OLIVEIRA\", \"MARIA DAS DORES SILVA\",\n",
    "        \"VENDEDOR MOBILE\"\n",
    "    ],\n",
    "    \"nome_reduzido\": [\n",
    "        \"ADALBERTO\", \"DIOGO\", \"PAULO MONTE\", \"ALEXANDRA\", \"PATRICIA\", \"ALBERTO\",\n",
    "        \"MARIO LOPES\", \"VITOR\", \"CLAUDIA\", \"MARCIO SANTOS\", \"ULISSES\", \"MARIA DAS DORES\", \"VENDEDOR MOBILE\"\n",
    "    ]\n",
    "}"
   ]
  },
  {
   "cell_type": "code",
   "execution_count": 14,
   "id": "9551164d",
   "metadata": {},
   "outputs": [],
   "source": [
    "df_vendedores = pd.DataFrame(data)"
   ]
  },
  {
   "cell_type": "code",
   "execution_count": 15,
   "id": "f0fc2a28",
   "metadata": {},
   "outputs": [],
   "source": [
    "# Aplicando LabelEncoder para nome_completo e nome_reduzido\n",
    "le_completo = LabelEncoder()\n",
    "le_reduzido = LabelEncoder()\n",
    "\n",
    "df_vendedores['nome_completo_cod'] = le_completo.fit_transform(df_vendedores['nome_completo'])\n",
    "df_vendedores['nome_reduzido_cod'] = le_reduzido.fit_transform(df_vendedores['nome_reduzido'])"
   ]
  },
  {
   "cell_type": "code",
   "execution_count": 16,
   "id": "67e342c5",
   "metadata": {},
   "outputs": [
    {
     "name": "stdout",
     "output_type": "stream",
     "text": [
      "    codigo               nome_completo    nome_reduzido  nome_completo_cod  \\\n",
      "0       11  ADALBERTO MONTENEGRO SILVA        ADALBERTO                  0   \n",
      "1       51       DIOGO MONTEIRO JUNIOR            DIOGO                  4   \n",
      "2       88           PAULO GIRÃO MONTE      PAULO MONTE                  9   \n",
      "3       89  ALEXANDRA SAMPAIO OLIVEIRA        ALEXANDRA                  2   \n",
      "4       54        PATRICIA LEITE NOBRE         PATRICIA                  8   \n",
      "5       56   ALBERTO DAMASCENO NOBREGA          ALBERTO                  1   \n",
      "6       94      MARIO LOPES NASCIMENTO      MARIO LOPES                  7   \n",
      "7       79       VITOR OLIVEIRA SANTOS            VITOR                 12   \n",
      "8       58     CLAUDIA MARIA DAMASCENO          CLAUDIA                  3   \n",
      "9        9    MARCIO SANTOS DE NOBREGA    MARCIO SANTOS                  5   \n",
      "10      90  ULISSES SANTOS DE OLIVEIRA          ULISSES                 10   \n",
      "11      32       MARIA DAS DORES SILVA  MARIA DAS DORES                  6   \n",
      "12     101             VENDEDOR MOBILE  VENDEDOR MOBILE                 11   \n",
      "\n",
      "    nome_reduzido_cod  \n",
      "0                   0  \n",
      "1                   4  \n",
      "2                   9  \n",
      "3                   2  \n",
      "4                   8  \n",
      "5                   1  \n",
      "6                   7  \n",
      "7                  12  \n",
      "8                   3  \n",
      "9                   5  \n",
      "10                 10  \n",
      "11                  6  \n",
      "12                 11  \n"
     ]
    }
   ],
   "source": [
    "print(df_vendedores)"
   ]
  },
  {
   "cell_type": "code",
   "execution_count": null,
   "id": "402ecd20",
   "metadata": {},
   "outputs": [],
   "source": [
    "# obs.: junta com o original e salva em um só\n",
    "dump(vendedores_std, caminho+'vendedores_std.z')"
   ]
  },
  {
   "cell_type": "markdown",
   "id": "e249fc37",
   "metadata": {},
   "source": [
    "# `df_vendas`"
   ]
  },
  {
   "cell_type": "code",
   "execution_count": 17,
   "id": "19084b61",
   "metadata": {},
   "outputs": [],
   "source": [
    "from joblib import load\n",
    "df_vendas = load(\"../../util/data/df_vendas.z\")"
   ]
  },
  {
   "cell_type": "code",
   "execution_count": 18,
   "id": "aea2e9f8",
   "metadata": {},
   "outputs": [
    {
     "name": "stdout",
     "output_type": "stream",
     "text": [
      "<class 'pandas.core.frame.DataFrame'>\n",
      "Index: 10418 entries, 0 to 10427\n",
      "Data columns (total 16 columns):\n",
      " #   Column            Non-Null Count  Dtype         \n",
      "---  ------            --------------  -----         \n",
      " 0   codigo_empresa    10418 non-null  int64         \n",
      " 1   tipo_pedido       10418 non-null  object        \n",
      " 2   centro_resultado  10418 non-null  int64         \n",
      " 3   documento         10418 non-null  int64         \n",
      " 4   codigo_cliente    10418 non-null  int64         \n",
      " 5   codigo_empregado  10418 non-null  int64         \n",
      " 6   data_emissao      10418 non-null  datetime64[ns]\n",
      " 7   hora_emissao      10418 non-null  object        \n",
      " 8   data_fechamento   10418 non-null  datetime64[ns]\n",
      " 9   hora_fechamento   10418 non-null  object        \n",
      " 10  data_faturamento  10418 non-null  datetime64[ns]\n",
      " 11  codigo_produto    10418 non-null  int64         \n",
      " 12  quantidade        10418 non-null  float64       \n",
      " 13  total             10418 non-null  float64       \n",
      " 14  custo_medio       10418 non-null  float64       \n",
      " 15  valor_desconto    10418 non-null  float64       \n",
      "dtypes: datetime64[ns](3), float64(4), int64(6), object(3)\n",
      "memory usage: 1.4+ MB\n",
      "None\n"
     ]
    }
   ],
   "source": [
    "print(df_vendas.info())"
   ]
  },
  {
   "cell_type": "code",
   "execution_count": null,
   "id": "0aeafba8",
   "metadata": {},
   "outputs": [
    {
     "data": {
      "text/html": [
       "<div>\n",
       "<style scoped>\n",
       "    .dataframe tbody tr th:only-of-type {\n",
       "        vertical-align: middle;\n",
       "    }\n",
       "\n",
       "    .dataframe tbody tr th {\n",
       "        vertical-align: top;\n",
       "    }\n",
       "\n",
       "    .dataframe thead th {\n",
       "        text-align: right;\n",
       "    }\n",
       "</style>\n",
       "<table border=\"1\" class=\"dataframe\">\n",
       "  <thead>\n",
       "    <tr style=\"text-align: right;\">\n",
       "      <th></th>\n",
       "      <th>codigo_empresa</th>\n",
       "      <th>tipo_pedido</th>\n",
       "      <th>centro_resultado</th>\n",
       "      <th>documento</th>\n",
       "      <th>codigo_cliente</th>\n",
       "      <th>codigo_empregado</th>\n",
       "      <th>data_emissao</th>\n",
       "      <th>hora_emissao</th>\n",
       "      <th>data_fechamento</th>\n",
       "      <th>hora_fechamento</th>\n",
       "      <th>data_faturamento</th>\n",
       "      <th>codigo_produto</th>\n",
       "      <th>quantidade</th>\n",
       "      <th>total</th>\n",
       "      <th>custo_medio</th>\n",
       "      <th>valor_desconto</th>\n",
       "    </tr>\n",
       "  </thead>\n",
       "  <tbody>\n",
       "    <tr>\n",
       "      <th>0</th>\n",
       "      <td>2</td>\n",
       "      <td>PV</td>\n",
       "      <td>2</td>\n",
       "      <td>24560</td>\n",
       "      <td>4395</td>\n",
       "      <td>56</td>\n",
       "      <td>2023-03-21</td>\n",
       "      <td>12:10:07</td>\n",
       "      <td>2023-03-21</td>\n",
       "      <td>12:12:40</td>\n",
       "      <td>2023-03-21</td>\n",
       "      <td>194959</td>\n",
       "      <td>8.0</td>\n",
       "      <td>64.0</td>\n",
       "      <td>5.2870</td>\n",
       "      <td>20.64</td>\n",
       "    </tr>\n",
       "    <tr>\n",
       "      <th>1</th>\n",
       "      <td>1</td>\n",
       "      <td>PV</td>\n",
       "      <td>2</td>\n",
       "      <td>22433</td>\n",
       "      <td>236</td>\n",
       "      <td>9</td>\n",
       "      <td>2023-02-13</td>\n",
       "      <td>10:40:44</td>\n",
       "      <td>2023-04-27</td>\n",
       "      <td>07:18:40</td>\n",
       "      <td>2023-04-27</td>\n",
       "      <td>195052</td>\n",
       "      <td>6.0</td>\n",
       "      <td>75.0</td>\n",
       "      <td>5.2931</td>\n",
       "      <td>0.00</td>\n",
       "    </tr>\n",
       "    <tr>\n",
       "      <th>2</th>\n",
       "      <td>2</td>\n",
       "      <td>PV</td>\n",
       "      <td>2</td>\n",
       "      <td>24560</td>\n",
       "      <td>4395</td>\n",
       "      <td>56</td>\n",
       "      <td>2023-03-21</td>\n",
       "      <td>12:10:07</td>\n",
       "      <td>2023-03-21</td>\n",
       "      <td>12:12:40</td>\n",
       "      <td>2023-03-21</td>\n",
       "      <td>164</td>\n",
       "      <td>3.0</td>\n",
       "      <td>75.0</td>\n",
       "      <td>15.3550</td>\n",
       "      <td>16.80</td>\n",
       "    </tr>\n",
       "    <tr>\n",
       "      <th>3</th>\n",
       "      <td>2</td>\n",
       "      <td>PV</td>\n",
       "      <td>2</td>\n",
       "      <td>24560</td>\n",
       "      <td>4395</td>\n",
       "      <td>56</td>\n",
       "      <td>2023-03-21</td>\n",
       "      <td>12:10:07</td>\n",
       "      <td>2023-03-21</td>\n",
       "      <td>12:12:40</td>\n",
       "      <td>2023-03-21</td>\n",
       "      <td>201</td>\n",
       "      <td>3.0</td>\n",
       "      <td>144.0</td>\n",
       "      <td>31.3017</td>\n",
       "      <td>54.72</td>\n",
       "    </tr>\n",
       "    <tr>\n",
       "      <th>4</th>\n",
       "      <td>2</td>\n",
       "      <td>PV</td>\n",
       "      <td>2</td>\n",
       "      <td>24560</td>\n",
       "      <td>4395</td>\n",
       "      <td>56</td>\n",
       "      <td>2023-03-21</td>\n",
       "      <td>12:10:07</td>\n",
       "      <td>2023-03-21</td>\n",
       "      <td>12:12:40</td>\n",
       "      <td>2023-03-21</td>\n",
       "      <td>191696</td>\n",
       "      <td>2.0</td>\n",
       "      <td>60.0</td>\n",
       "      <td>15.3650</td>\n",
       "      <td>11.84</td>\n",
       "    </tr>\n",
       "    <tr>\n",
       "      <th>5</th>\n",
       "      <td>2</td>\n",
       "      <td>PV</td>\n",
       "      <td>2</td>\n",
       "      <td>24560</td>\n",
       "      <td>4395</td>\n",
       "      <td>56</td>\n",
       "      <td>2023-03-21</td>\n",
       "      <td>12:10:07</td>\n",
       "      <td>2023-03-21</td>\n",
       "      <td>12:12:40</td>\n",
       "      <td>2023-03-21</td>\n",
       "      <td>186187</td>\n",
       "      <td>3.0</td>\n",
       "      <td>231.0</td>\n",
       "      <td>53.2162</td>\n",
       "      <td>94.68</td>\n",
       "    </tr>\n",
       "    <tr>\n",
       "      <th>6</th>\n",
       "      <td>1</td>\n",
       "      <td>PV</td>\n",
       "      <td>2</td>\n",
       "      <td>22433</td>\n",
       "      <td>236</td>\n",
       "      <td>9</td>\n",
       "      <td>2023-02-13</td>\n",
       "      <td>10:40:44</td>\n",
       "      <td>2023-04-27</td>\n",
       "      <td>07:18:40</td>\n",
       "      <td>2023-04-27</td>\n",
       "      <td>7242</td>\n",
       "      <td>2.0</td>\n",
       "      <td>30.0</td>\n",
       "      <td>3.8400</td>\n",
       "      <td>0.00</td>\n",
       "    </tr>\n",
       "    <tr>\n",
       "      <th>7</th>\n",
       "      <td>1</td>\n",
       "      <td>PV</td>\n",
       "      <td>2</td>\n",
       "      <td>22433</td>\n",
       "      <td>236</td>\n",
       "      <td>9</td>\n",
       "      <td>2023-02-13</td>\n",
       "      <td>10:40:44</td>\n",
       "      <td>2023-04-27</td>\n",
       "      <td>07:18:40</td>\n",
       "      <td>2023-04-27</td>\n",
       "      <td>195996</td>\n",
       "      <td>2.0</td>\n",
       "      <td>130.0</td>\n",
       "      <td>41.0500</td>\n",
       "      <td>0.00</td>\n",
       "    </tr>\n",
       "    <tr>\n",
       "      <th>8</th>\n",
       "      <td>1</td>\n",
       "      <td>PV</td>\n",
       "      <td>2</td>\n",
       "      <td>22433</td>\n",
       "      <td>236</td>\n",
       "      <td>9</td>\n",
       "      <td>2023-02-13</td>\n",
       "      <td>10:40:44</td>\n",
       "      <td>2023-04-27</td>\n",
       "      <td>07:18:40</td>\n",
       "      <td>2023-04-27</td>\n",
       "      <td>56</td>\n",
       "      <td>6.0</td>\n",
       "      <td>228.0</td>\n",
       "      <td>11.6863</td>\n",
       "      <td>0.00</td>\n",
       "    </tr>\n",
       "    <tr>\n",
       "      <th>9</th>\n",
       "      <td>1</td>\n",
       "      <td>PV</td>\n",
       "      <td>2</td>\n",
       "      <td>22433</td>\n",
       "      <td>236</td>\n",
       "      <td>9</td>\n",
       "      <td>2023-02-13</td>\n",
       "      <td>10:40:44</td>\n",
       "      <td>2023-04-27</td>\n",
       "      <td>07:18:40</td>\n",
       "      <td>2023-04-27</td>\n",
       "      <td>7207</td>\n",
       "      <td>2.0</td>\n",
       "      <td>44.0</td>\n",
       "      <td>7.1500</td>\n",
       "      <td>0.00</td>\n",
       "    </tr>\n",
       "  </tbody>\n",
       "</table>\n",
       "</div>"
      ],
      "text/plain": [
       "   codigo_empresa tipo_pedido  centro_resultado  documento  codigo_cliente  \\\n",
       "0               2          PV                 2      24560            4395   \n",
       "1               1          PV                 2      22433             236   \n",
       "2               2          PV                 2      24560            4395   \n",
       "3               2          PV                 2      24560            4395   \n",
       "4               2          PV                 2      24560            4395   \n",
       "5               2          PV                 2      24560            4395   \n",
       "6               1          PV                 2      22433             236   \n",
       "7               1          PV                 2      22433             236   \n",
       "8               1          PV                 2      22433             236   \n",
       "9               1          PV                 2      22433             236   \n",
       "\n",
       "   codigo_empregado data_emissao hora_emissao data_fechamento hora_fechamento  \\\n",
       "0                56   2023-03-21     12:10:07      2023-03-21        12:12:40   \n",
       "1                 9   2023-02-13     10:40:44      2023-04-27        07:18:40   \n",
       "2                56   2023-03-21     12:10:07      2023-03-21        12:12:40   \n",
       "3                56   2023-03-21     12:10:07      2023-03-21        12:12:40   \n",
       "4                56   2023-03-21     12:10:07      2023-03-21        12:12:40   \n",
       "5                56   2023-03-21     12:10:07      2023-03-21        12:12:40   \n",
       "6                 9   2023-02-13     10:40:44      2023-04-27        07:18:40   \n",
       "7                 9   2023-02-13     10:40:44      2023-04-27        07:18:40   \n",
       "8                 9   2023-02-13     10:40:44      2023-04-27        07:18:40   \n",
       "9                 9   2023-02-13     10:40:44      2023-04-27        07:18:40   \n",
       "\n",
       "  data_faturamento  codigo_produto  quantidade  total  custo_medio  \\\n",
       "0       2023-03-21          194959         8.0   64.0       5.2870   \n",
       "1       2023-04-27          195052         6.0   75.0       5.2931   \n",
       "2       2023-03-21             164         3.0   75.0      15.3550   \n",
       "3       2023-03-21             201         3.0  144.0      31.3017   \n",
       "4       2023-03-21          191696         2.0   60.0      15.3650   \n",
       "5       2023-03-21          186187         3.0  231.0      53.2162   \n",
       "6       2023-04-27            7242         2.0   30.0       3.8400   \n",
       "7       2023-04-27          195996         2.0  130.0      41.0500   \n",
       "8       2023-04-27              56         6.0  228.0      11.6863   \n",
       "9       2023-04-27            7207         2.0   44.0       7.1500   \n",
       "\n",
       "   valor_desconto  \n",
       "0           20.64  \n",
       "1            0.00  \n",
       "2           16.80  \n",
       "3           54.72  \n",
       "4           11.84  \n",
       "5           94.68  \n",
       "6            0.00  \n",
       "7            0.00  \n",
       "8            0.00  \n",
       "9            0.00  "
      ]
     },
     "execution_count": 19,
     "metadata": {},
     "output_type": "execute_result"
    }
   ],
   "source": [
    "df_vendas.head(5)"
   ]
  },
  {
   "cell_type": "code",
   "execution_count": 20,
   "id": "4de0d48f",
   "metadata": {},
   "outputs": [],
   "source": [
    "from sklearn.preprocessing import MinMaxScaler, StandardScaler"
   ]
  },
  {
   "cell_type": "code",
   "execution_count": 21,
   "id": "134f8fbd",
   "metadata": {},
   "outputs": [],
   "source": [
    "# Selecionando as colunas numéricas relevantes\n",
    "num_cols = ['quantidade', 'total', 'custo_medio', 'valor_desconto']"
   ]
  },
  {
   "cell_type": "code",
   "execution_count": 22,
   "id": "69a360e5",
   "metadata": {},
   "outputs": [],
   "source": [
    "# Inicializando os scalers\n",
    "minmax = MinMaxScaler()\n",
    "zscore = StandardScaler()"
   ]
  },
  {
   "cell_type": "code",
   "execution_count": 23,
   "id": "669209c6",
   "metadata": {},
   "outputs": [],
   "source": [
    "# Aplicando Min-Max Normalization\n",
    "df_minmax = pd.DataFrame(\n",
    "    minmax.fit_transform(df_vendas[num_cols]),\n",
    "    columns=[col + '_minmax' for col in num_cols],\n",
    "    index=df_vendas.index\n",
    ")"
   ]
  },
  {
   "cell_type": "code",
   "execution_count": 24,
   "id": "2254d542",
   "metadata": {},
   "outputs": [],
   "source": [
    "# Aplicando Z-score Standardization\n",
    "df_zscore = pd.DataFrame(\n",
    "    zscore.fit_transform(df_vendas[num_cols]),\n",
    "    columns=[col + '_zscore' for col in num_cols],\n",
    "    index=df_vendas.index\n",
    ")"
   ]
  },
  {
   "cell_type": "code",
   "execution_count": 25,
   "id": "61fc2afe",
   "metadata": {},
   "outputs": [],
   "source": [
    "df_vendas = pd.concat([df_vendas, df_minmax, df_zscore], axis=1)"
   ]
  },
  {
   "cell_type": "code",
   "execution_count": 26,
   "id": "a55e316d",
   "metadata": {},
   "outputs": [],
   "source": [
    "# One-hot encoding para tipo_pedido\n",
    "df_vendas = pd.get_dummies(df_vendas, columns=['tipo_pedido'], prefix='pedido')"
   ]
  },
  {
   "cell_type": "code",
   "execution_count": 27,
   "id": "bdef3ad1",
   "metadata": {},
   "outputs": [
    {
     "name": "stdout",
     "output_type": "stream",
     "text": [
      "<class 'pandas.core.frame.DataFrame'>\n",
      "Index: 10418 entries, 0 to 10427\n",
      "Data columns (total 25 columns):\n",
      " #   Column                 Non-Null Count  Dtype         \n",
      "---  ------                 --------------  -----         \n",
      " 0   codigo_empresa         10418 non-null  int64         \n",
      " 1   centro_resultado       10418 non-null  int64         \n",
      " 2   documento              10418 non-null  int64         \n",
      " 3   codigo_cliente         10418 non-null  int64         \n",
      " 4   codigo_empregado       10418 non-null  int64         \n",
      " 5   data_emissao           10418 non-null  datetime64[ns]\n",
      " 6   hora_emissao           10418 non-null  object        \n",
      " 7   data_fechamento        10418 non-null  datetime64[ns]\n",
      " 8   hora_fechamento        10418 non-null  object        \n",
      " 9   data_faturamento       10418 non-null  datetime64[ns]\n",
      " 10  codigo_produto         10418 non-null  int64         \n",
      " 11  quantidade             10418 non-null  float64       \n",
      " 12  total                  10418 non-null  float64       \n",
      " 13  custo_medio            10418 non-null  float64       \n",
      " 14  valor_desconto         10418 non-null  float64       \n",
      " 15  quantidade_minmax      10418 non-null  float64       \n",
      " 16  total_minmax           10418 non-null  float64       \n",
      " 17  custo_medio_minmax     10418 non-null  float64       \n",
      " 18  valor_desconto_minmax  10418 non-null  float64       \n",
      " 19  quantidade_zscore      10418 non-null  float64       \n",
      " 20  total_zscore           10418 non-null  float64       \n",
      " 21  custo_medio_zscore     10418 non-null  float64       \n",
      " 22  valor_desconto_zscore  10418 non-null  float64       \n",
      " 23  pedido_DV              10418 non-null  bool          \n",
      " 24  pedido_PV              10418 non-null  bool          \n",
      "dtypes: bool(2), datetime64[ns](3), float64(12), int64(6), object(2)\n",
      "memory usage: 1.9+ MB\n",
      "None\n"
     ]
    }
   ],
   "source": [
    "print(df_vendas.info())"
   ]
  },
  {
   "cell_type": "code",
   "execution_count": 28,
   "id": "b18b1b2e",
   "metadata": {},
   "outputs": [
    {
     "name": "stdout",
     "output_type": "stream",
     "text": [
      "       codigo_empresa  centro_resultado     documento  codigo_cliente  \\\n",
      "count    10418.000000      10418.000000  10418.000000    10418.000000   \n",
      "mean         1.583797          4.140910  22114.464293     5790.050490   \n",
      "min          1.000000          2.000000  18228.000000        2.000000   \n",
      "25%          1.000000          2.000000  20850.250000     4798.000000   \n",
      "50%          2.000000          2.000000  22135.000000     6863.000000   \n",
      "75%          2.000000          7.000000  23375.750000     6863.000000   \n",
      "max          3.000000         14.000000  24601.000000     9708.000000   \n",
      "std          0.633558          2.881906   1425.949460     2558.593989   \n",
      "\n",
      "       codigo_empregado                   data_emissao  \\\n",
      "count      10418.000000                          10418   \n",
      "mean          63.667691  2023-02-08 16:44:44.277212416   \n",
      "min            8.000000            2022-12-06 00:00:00   \n",
      "25%           51.000000            2023-01-19 00:00:00   \n",
      "50%           63.000000            2023-02-08 00:00:00   \n",
      "75%           83.000000            2023-03-02 00:00:00   \n",
      "max           92.000000            2025-02-28 00:00:00   \n",
      "std           25.182387                            NaN   \n",
      "\n",
      "                     data_fechamento               data_faturamento  \\\n",
      "count                          10418                          10418   \n",
      "mean   2023-02-08 23:39:40.879247360  2023-02-09 00:38:42.134766592   \n",
      "min              2023-01-02 00:00:00            2023-01-02 00:00:00   \n",
      "25%              2023-01-19 00:00:00            2023-01-19 00:00:00   \n",
      "50%              2023-02-08 00:00:00            2023-02-08 00:00:00   \n",
      "75%              2023-03-02 00:00:00            2023-03-02 00:00:00   \n",
      "max              2025-02-28 00:00:00            2025-04-03 00:00:00   \n",
      "std                              NaN                            NaN   \n",
      "\n",
      "       codigo_produto    quantidade  ...   custo_medio  valor_desconto  \\\n",
      "count    10418.000000  10418.000000  ...  10418.000000    10418.000000   \n",
      "mean     75490.936264      5.463429  ...     50.682218       67.747056   \n",
      "min         12.000000    -59.000000  ...   -815.900000        0.000000   \n",
      "25%        272.000000      1.000000  ...      6.995100        2.665000   \n",
      "50%       7657.000000      2.000000  ...     12.828000       15.675000   \n",
      "75%     187295.000000      5.000000  ...     32.086875       56.400000   \n",
      "max     196151.000000    600.000000  ...   5163.480000     5262.000000   \n",
      "std      90340.333180     19.755777  ...    195.042046      226.178726   \n",
      "\n",
      "       quantidade_minmax  total_minmax  custo_medio_minmax  \\\n",
      "count       10418.000000  10418.000000        10418.000000   \n",
      "mean            0.097820      0.151390            0.144928   \n",
      "min             0.000000      0.000000            0.000000   \n",
      "25%             0.091047      0.141207            0.137622   \n",
      "50%             0.092564      0.144083            0.138598   \n",
      "75%             0.097117      0.151024            0.141819   \n",
      "max             1.000000      1.000000            1.000000   \n",
      "std             0.029978      0.029663            0.032619   \n",
      "\n",
      "       valor_desconto_minmax  quantidade_zscore  total_zscore  \\\n",
      "count           10418.000000       1.041800e+04  1.041800e+04   \n",
      "mean                0.012875       2.182508e-17  2.728135e-17   \n",
      "min                 0.000000      -3.263173e+00 -5.103842e+00   \n",
      "25%                 0.000506      -2.259411e-01 -3.433094e-01   \n",
      "50%                 0.002979      -1.753206e-01 -2.463561e-01   \n",
      "75%                 0.010718      -2.345901e-02 -1.236477e-02   \n",
      "max                 1.000000       3.009576e+01  2.860929e+01   \n",
      "std                 0.042983       1.000048e+00  1.000048e+00   \n",
      "\n",
      "       custo_medio_zscore  valor_desconto_zscore  \n",
      "count        1.041800e+04           1.041800e+04  \n",
      "mean         3.000948e-17           3.273762e-17  \n",
      "min         -4.443267e+00          -2.995432e-01  \n",
      "25%         -2.239990e-01          -2.877600e-01  \n",
      "50%         -1.940917e-01          -2.302363e-01  \n",
      "75%         -9.534475e-02          -5.017095e-02  \n",
      "max          2.621508e+01           2.296636e+01  \n",
      "std          1.000048e+00           1.000048e+00  \n",
      "\n",
      "[8 rows x 21 columns]\n"
     ]
    }
   ],
   "source": [
    "print(df_vendas.describe())"
   ]
  },
  {
   "cell_type": "code",
   "execution_count": null,
   "id": "b78f02fa",
   "metadata": {},
   "outputs": [],
   "source": [
    "dump(df_vendas, caminho+'vendas_std.z') "
   ]
  }
 ],
 "metadata": {
  "kernelspec": {
   "display_name": "Python 3",
   "language": "python",
   "name": "python3"
  },
  "language_info": {
   "codemirror_mode": {
    "name": "ipython",
    "version": 3
   },
   "file_extension": ".py",
   "mimetype": "text/x-python",
   "name": "python",
   "nbconvert_exporter": "python",
   "pygments_lexer": "ipython3",
   "version": "3.13.2"
  }
 },
 "nbformat": 4,
 "nbformat_minor": 5
}
