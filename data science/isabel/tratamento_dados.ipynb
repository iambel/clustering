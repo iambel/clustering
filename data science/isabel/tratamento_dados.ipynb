{
 "cells": [
  {
   "cell_type": "markdown",
   "id": "c9ab4ec6",
   "metadata": {},
   "source": [
    "# Tratar valores ausentes e inconsistências\n",
    "após análise do relatório de integridade e qualidade dos dados, será feito o tratamento a fim amenizar dados inconsistentes"
   ]
  },
  {
   "cell_type": "code",
   "execution_count": 1,
   "id": "af01fb64",
   "metadata": {},
   "outputs": [],
   "source": [
    "# importação de bibliotecas necessárias\n",
    "import pandas as pd\n",
    "from joblib import load, dump # para carregar os files .z"
   ]
  },
  {
   "cell_type": "code",
   "execution_count": 2,
   "id": "73d5fca1",
   "metadata": {},
   "outputs": [],
   "source": [
    "caminho = '../../util/data/'"
   ]
  },
  {
   "cell_type": "code",
   "execution_count": 3,
   "id": "62392acb",
   "metadata": {},
   "outputs": [],
   "source": [
    "arquivos = { # dicionario das tabelas uteis\n",
    "    'categorias':'df_categorias.z',\n",
    "    'clientes': 'df_clientes.z',\n",
    "    'produtos':'df_produtos.z',\n",
    "    'unidades':'df_unidades.z',\n",
    "    'vendas':'df_vendas.z',\n",
    "    'vendedores':'df_vendedores.z'\n",
    " }"
   ]
  },
  {
   "cell_type": "code",
   "execution_count": 4,
   "id": "2c3ac4c0",
   "metadata": {},
   "outputs": [
    {
     "name": "stdout",
     "output_type": "stream",
     "text": [
      "leitura do arquivo [categorias]:\n",
      " codigo       0\n",
      "descricao    0\n",
      "dtype: int64 \n",
      "-----------------------\n",
      "leitura do arquivo [clientes]:\n",
      " codigo                  0\n",
      "id_fiscal               1\n",
      "nome                    0\n",
      "nome_fantasia           0\n",
      "natureza_juridica       0\n",
      "id_fiscal_2             0\n",
      "id_fiscal_3             0\n",
      "tidfiscs             3131\n",
      "contribuinte_icms       0\n",
      "ccnae                3131\n",
      "dnasc                3124\n",
      "pdc                     0\n",
      "itemt                3129\n",
      "iprz                 3132\n",
      "ccrm1                3131\n",
      "nctx                 3131\n",
      "ccrm2                3131\n",
      "nctx-2               3131\n",
      "ccrm3                3132\n",
      "nctx-3               3132\n",
      "ccrm4                3132\n",
      "nctx-4               3132\n",
      "ccrm5                3132\n",
      "nctx-5               3132\n",
      "ccrm6                3132\n",
      "nctx-6               3132\n",
      "crota                3132\n",
      "crota_idol              6\n",
      "vendedor              260\n",
      "cst                     0\n",
      "dtype: int64 \n",
      "-----------------------\n",
      "leitura do arquivo [produtos]:\n",
      " codigo                 1\n",
      "descricao              0\n",
      "codigo_barras       9481\n",
      "unidade              111\n",
      "marca                117\n",
      "codigo_categoria       3\n",
      "categoria              3\n",
      "classificacao          0\n",
      "preco_venda            0\n",
      "dtype: int64 \n",
      "-----------------------\n",
      "leitura do arquivo [unidades]:\n",
      " codigo_unidade    0\n",
      "nome_fantasia     0\n",
      "status            0\n",
      "dtype: int64 \n",
      "-----------------------\n",
      "leitura do arquivo [vendas]:\n",
      " codigo_empresa                   0\n",
      "tipo_pedido                      0\n",
      "centro_resultado                 0\n",
      "documento                        0\n",
      "codigo_cliente                   0\n",
      "codigo_parceiro              10427\n",
      "codigo_empregado                 0\n",
      "codigo_mecanico_empregado    10423\n",
      "data_emissao                     0\n",
      "hora_emissao                     0\n",
      "data_fechamento                  0\n",
      "hora_fechamento                  0\n",
      "data_faturamento                10\n",
      "placa                        10423\n",
      "codigo_produto                   0\n",
      "quantidade                       0\n",
      "total                            0\n",
      "custo_medio                      0\n",
      "valor_desconto                   0\n",
      "campanha                     10327\n",
      "origem                       10428\n",
      "motivo_perda                 10428\n",
      "dtype: int64 \n",
      "-----------------------\n",
      "leitura do arquivo [vendedores]:\n",
      " codigo           0\n",
      "nome_completo    0\n",
      "nome_reduzido    0\n",
      "dtype: int64 \n",
      "-----------------------\n"
     ]
    }
   ],
   "source": [
    "# loop para vasculhar todas as colunas de cada arquivo e somar os valores nulos\n",
    "for nome, arquivo_nome in arquivos.items():\n",
    " \n",
    "    df = load(caminho+arquivo_nome) \n",
    "    print(f'leitura do arquivo [{nome}]:\\n', df.isnull().sum(),'\\n-----------------------')  "
   ]
  },
  {
   "cell_type": "markdown",
   "id": "4197b181",
   "metadata": {},
   "source": [
    "# `df_categorias `"
   ]
  },
  {
   "cell_type": "code",
   "execution_count": 5,
   "id": "1798b445",
   "metadata": {},
   "outputs": [],
   "source": [
    "df_categorias = load(caminho+'df_categorias.z')"
   ]
  },
  {
   "cell_type": "code",
   "execution_count": 6,
   "id": "e4eeb9a1",
   "metadata": {},
   "outputs": [
    {
     "data": {
      "text/html": [
       "<div>\n",
       "<style scoped>\n",
       "    .dataframe tbody tr th:only-of-type {\n",
       "        vertical-align: middle;\n",
       "    }\n",
       "\n",
       "    .dataframe tbody tr th {\n",
       "        vertical-align: top;\n",
       "    }\n",
       "\n",
       "    .dataframe thead th {\n",
       "        text-align: right;\n",
       "    }\n",
       "</style>\n",
       "<table border=\"1\" class=\"dataframe\">\n",
       "  <thead>\n",
       "    <tr style=\"text-align: right;\">\n",
       "      <th></th>\n",
       "      <th>codigo</th>\n",
       "      <th>descricao</th>\n",
       "    </tr>\n",
       "  </thead>\n",
       "  <tbody>\n",
       "    <tr>\n",
       "      <th>0</th>\n",
       "      <td>41</td>\n",
       "      <td>COMPUTADOR</td>\n",
       "    </tr>\n",
       "    <tr>\n",
       "      <th>1</th>\n",
       "      <td>64</td>\n",
       "      <td>PASTA</td>\n",
       "    </tr>\n",
       "    <tr>\n",
       "      <th>2</th>\n",
       "      <td>342</td>\n",
       "      <td>CANETA</td>\n",
       "    </tr>\n",
       "    <tr>\n",
       "      <th>3</th>\n",
       "      <td>51</td>\n",
       "      <td>PRESENTE</td>\n",
       "    </tr>\n",
       "    <tr>\n",
       "      <th>4</th>\n",
       "      <td>346</td>\n",
       "      <td>MATERIAL DE USO E CONSUMO</td>\n",
       "    </tr>\n",
       "  </tbody>\n",
       "</table>\n",
       "</div>"
      ],
      "text/plain": [
       "   codigo                  descricao\n",
       "0      41                 COMPUTADOR\n",
       "1      64                      PASTA\n",
       "2     342                     CANETA\n",
       "3      51                   PRESENTE\n",
       "4     346  MATERIAL DE USO E CONSUMO"
      ]
     },
     "execution_count": 6,
     "metadata": {},
     "output_type": "execute_result"
    }
   ],
   "source": [
    "df_categorias.head(5)"
   ]
  },
  {
   "cell_type": "markdown",
   "id": "11352740",
   "metadata": {},
   "source": [
    "## `df_clientes`"
   ]
  },
  {
   "cell_type": "code",
   "execution_count": 7,
   "id": "4b44e1d9",
   "metadata": {},
   "outputs": [
    {
     "data": {
      "text/html": [
       "<div>\n",
       "<style scoped>\n",
       "    .dataframe tbody tr th:only-of-type {\n",
       "        vertical-align: middle;\n",
       "    }\n",
       "\n",
       "    .dataframe tbody tr th {\n",
       "        vertical-align: top;\n",
       "    }\n",
       "\n",
       "    .dataframe thead th {\n",
       "        text-align: right;\n",
       "    }\n",
       "</style>\n",
       "<table border=\"1\" class=\"dataframe\">\n",
       "  <thead>\n",
       "    <tr style=\"text-align: right;\">\n",
       "      <th></th>\n",
       "      <th>codigo</th>\n",
       "      <th>id_fiscal</th>\n",
       "      <th>nome</th>\n",
       "      <th>nome_fantasia</th>\n",
       "      <th>natureza_juridica</th>\n",
       "      <th>id_fiscal_2</th>\n",
       "      <th>id_fiscal_3</th>\n",
       "      <th>contribuinte_icms</th>\n",
       "      <th>vendedor</th>\n",
       "      <th>cst</th>\n",
       "    </tr>\n",
       "  </thead>\n",
       "  <tbody>\n",
       "    <tr>\n",
       "      <th>0</th>\n",
       "      <td>9712</td>\n",
       "      <td>322.175.103-63</td>\n",
       "      <td>JOAO MIRANDA DA SILVA</td>\n",
       "      <td>JOAO MIRANDA DA SILVA</td>\n",
       "      <td>PF</td>\n",
       "      <td>ISENTO</td>\n",
       "      <td>ISENTO</td>\n",
       "      <td>N</td>\n",
       "      <td>9.0</td>\n",
       "      <td>PD</td>\n",
       "    </tr>\n",
       "    <tr>\n",
       "      <th>1</th>\n",
       "      <td>239</td>\n",
       "      <td>17.014.825/0001-68</td>\n",
       "      <td>VERDUREIRA E SORVETERIA PALHANO LTDA</td>\n",
       "      <td>VERDUREIRA E SORVETERIA PALHANO LTDA</td>\n",
       "      <td>LT</td>\n",
       "      <td>82500016</td>\n",
       "      <td>ISENTO</td>\n",
       "      <td>S</td>\n",
       "      <td>9.0</td>\n",
       "      <td>PD</td>\n",
       "    </tr>\n",
       "    <tr>\n",
       "      <th>2</th>\n",
       "      <td>8810</td>\n",
       "      <td>17.055.887/0003-80</td>\n",
       "      <td>M &amp; C LANCHES LTDA</td>\n",
       "      <td>M &amp; C LANCHES LTDA</td>\n",
       "      <td>LT</td>\n",
       "      <td>88700038</td>\n",
       "      <td>ISENTO</td>\n",
       "      <td>S</td>\n",
       "      <td>58.0</td>\n",
       "      <td>PD</td>\n",
       "    </tr>\n",
       "    <tr>\n",
       "      <th>3</th>\n",
       "      <td>6006</td>\n",
       "      <td>17.041.611/0001-80</td>\n",
       "      <td>BAR E LANCHONETE FUNCHAL LTDA</td>\n",
       "      <td>BAR E LANCHONETE FUNCHAL LTDA</td>\n",
       "      <td>LT</td>\n",
       "      <td>61100018</td>\n",
       "      <td>ISENTO</td>\n",
       "      <td>S</td>\n",
       "      <td>79.0</td>\n",
       "      <td>PD</td>\n",
       "    </tr>\n",
       "    <tr>\n",
       "      <th>4</th>\n",
       "      <td>7761</td>\n",
       "      <td>17.050.253/0001-72</td>\n",
       "      <td>LANCHERIA LTDA</td>\n",
       "      <td>LANCHERIA LTDA</td>\n",
       "      <td>LT</td>\n",
       "      <td>25300017</td>\n",
       "      <td>ISENTO</td>\n",
       "      <td>S</td>\n",
       "      <td>11.0</td>\n",
       "      <td>PD</td>\n",
       "    </tr>\n",
       "  </tbody>\n",
       "</table>\n",
       "</div>"
      ],
      "text/plain": [
       "   codigo           id_fiscal                                  nome  \\\n",
       "0    9712      322.175.103-63                 JOAO MIRANDA DA SILVA   \n",
       "1     239  17.014.825/0001-68  VERDUREIRA E SORVETERIA PALHANO LTDA   \n",
       "2    8810  17.055.887/0003-80                    M & C LANCHES LTDA   \n",
       "3    6006  17.041.611/0001-80         BAR E LANCHONETE FUNCHAL LTDA   \n",
       "4    7761  17.050.253/0001-72                        LANCHERIA LTDA   \n",
       "\n",
       "                          nome_fantasia natureza_juridica id_fiscal_2  \\\n",
       "0                 JOAO MIRANDA DA SILVA                PF      ISENTO   \n",
       "1  VERDUREIRA E SORVETERIA PALHANO LTDA                LT    82500016   \n",
       "2                    M & C LANCHES LTDA                LT    88700038   \n",
       "3         BAR E LANCHONETE FUNCHAL LTDA                LT    61100018   \n",
       "4                        LANCHERIA LTDA                LT    25300017   \n",
       "\n",
       "  id_fiscal_3 contribuinte_icms  vendedor cst  \n",
       "0      ISENTO                 N       9.0  PD  \n",
       "1      ISENTO                 S       9.0  PD  \n",
       "2      ISENTO                 S      58.0  PD  \n",
       "3      ISENTO                 S      79.0  PD  \n",
       "4      ISENTO                 S      11.0  PD  "
      ]
     },
     "execution_count": 7,
     "metadata": {},
     "output_type": "execute_result"
    }
   ],
   "source": [
    "# removendo colunas de 'df_clientes'\n",
    "df_clientes = load(caminho+'df_clientes.z') # carregando o dataframe\n",
    "\n",
    "df_clientes = df_clientes.drop(columns=['tidfiscs','ccnae','dnasc','itemt','iprz','ccrm1','nctx','ccrm2','nctx-2','ccrm3','ccrm4','nctx-4','nctx-4','nctx-5','ccrm6','nctx-6','crota','nctx-3','ccrm5','crota_idol','pdc']) # removendo colunas com drop()\n",
    "\n",
    "df_clientes.head(5)"
   ]
  },
  {
   "cell_type": "code",
   "execution_count": 8,
   "id": "a77a530d",
   "metadata": {},
   "outputs": [],
   "source": [
    "# substituindo valor 'ISENTO' na primeira célula da tabela id_fiscal_2 por 0\n",
    "df_clientes.at[0, 'id_fiscal_2'] = 0"
   ]
  },
  {
   "cell_type": "code",
   "execution_count": 9,
   "id": "ad074591",
   "metadata": {},
   "outputs": [
    {
     "name": "stderr",
     "output_type": "stream",
     "text": [
      "C:\\Users\\isabe\\AppData\\Local\\Temp\\ipykernel_23688\\1240241517.py:1: FutureWarning: A value is trying to be set on a copy of a DataFrame or Series through chained assignment using an inplace method.\n",
      "The behavior will change in pandas 3.0. This inplace method will never work because the intermediate object on which we are setting values always behaves as a copy.\n",
      "\n",
      "For example, when doing 'df[col].method(value, inplace=True)', try using 'df.method({col: value}, inplace=True)' or df[col] = df[col].method(value) instead, to perform the operation inplace on the original object.\n",
      "\n",
      "\n",
      "  df_clientes['id_fiscal'].fillna(0, inplace=True) # aplicando valor 0 em valor nulo na coluna 'id_fiscal'\n"
     ]
    }
   ],
   "source": [
    "df_clientes['id_fiscal'].fillna(0, inplace=True) # aplicando valor 0 em valor nulo na coluna 'id_fiscal'"
   ]
  },
  {
   "cell_type": "code",
   "execution_count": 10,
   "id": "cf65731c",
   "metadata": {
    "vscode": {
     "languageId": "ruby"
    }
   },
   "outputs": [],
   "source": [
    "# tratamento na coluna 'vendedor'\n",
    "# ao que parece, os valores se relacionam com os 'df_vendedores'\n",
    "\n",
    "vendedores = [11,51,88,89,54,56,94,79,58,9,90,32,101] # lista dos valores \n",
    "\n",
    "it_vendedores = iter(vendedores) # iterador, vai pecorrer os itens da lista\n",
    "\n",
    "def preencher_valores(valor):\n",
    "    if pd.isnull(valor): # verifica se valor no df está nulo\n",
    "        try:\n",
    "            return next(it_vendedores) # substitui pelo próximo valor\n",
    "        except StopIteration: # \n",
    "            return vendedores[-1]  # se acabar a lista, repete o último\n",
    "    return valor\n",
    "\n",
    "df_clientes['vendedor'] = df_clientes['vendedor'].apply(preencher_valores) # aplicando a function na coluna\n"
   ]
  },
  {
   "cell_type": "code",
   "execution_count": 11,
   "id": "739a9728",
   "metadata": {
    "vscode": {
     "languageId": "ruby"
    }
   },
   "outputs": [
    {
     "name": "stdout",
     "output_type": "stream",
     "text": [
      "<class 'pandas.core.frame.DataFrame'>\n",
      "RangeIndex: 3132 entries, 0 to 3131\n",
      "Data columns (total 10 columns):\n",
      " #   Column             Non-Null Count  Dtype \n",
      "---  ------             --------------  ----- \n",
      " 0   codigo             3132 non-null   int64 \n",
      " 1   id_fiscal          3132 non-null   object\n",
      " 2   nome               3132 non-null   object\n",
      " 3   nome_fantasia      3132 non-null   object\n",
      " 4   natureza_juridica  3132 non-null   object\n",
      " 5   id_fiscal_2        3132 non-null   object\n",
      " 6   id_fiscal_3        3132 non-null   object\n",
      " 7   contribuinte_icms  3132 non-null   object\n",
      " 8   vendedor           3132 non-null   int64 \n",
      " 9   cst                3132 non-null   object\n",
      "dtypes: int64(2), object(8)\n",
      "memory usage: 244.8+ KB\n",
      "None\n"
     ]
    }
   ],
   "source": [
    "df_clientes['vendedor'] = df_clientes['vendedor'].astype(int)\n",
    "print(df_clientes.info()) "
   ]
  },
  {
   "cell_type": "code",
   "execution_count": 12,
   "id": "f257a553",
   "metadata": {},
   "outputs": [
    {
     "data": {
      "text/html": [
       "<div>\n",
       "<style scoped>\n",
       "    .dataframe tbody tr th:only-of-type {\n",
       "        vertical-align: middle;\n",
       "    }\n",
       "\n",
       "    .dataframe tbody tr th {\n",
       "        vertical-align: top;\n",
       "    }\n",
       "\n",
       "    .dataframe thead th {\n",
       "        text-align: right;\n",
       "    }\n",
       "</style>\n",
       "<table border=\"1\" class=\"dataframe\">\n",
       "  <thead>\n",
       "    <tr style=\"text-align: right;\">\n",
       "      <th></th>\n",
       "      <th>codigo</th>\n",
       "      <th>id_fiscal</th>\n",
       "      <th>nome</th>\n",
       "      <th>nome_fantasia</th>\n",
       "      <th>natureza_juridica</th>\n",
       "      <th>id_fiscal_2</th>\n",
       "      <th>id_fiscal_3</th>\n",
       "      <th>contribuinte_icms</th>\n",
       "      <th>vendedor</th>\n",
       "      <th>cst</th>\n",
       "    </tr>\n",
       "  </thead>\n",
       "  <tbody>\n",
       "    <tr>\n",
       "      <th>0</th>\n",
       "      <td>9712</td>\n",
       "      <td>322.175.103-63</td>\n",
       "      <td>JOAO MIRANDA DA SILVA</td>\n",
       "      <td>JOAO MIRANDA DA SILVA</td>\n",
       "      <td>PF</td>\n",
       "      <td>0</td>\n",
       "      <td>ISENTO</td>\n",
       "      <td>N</td>\n",
       "      <td>9</td>\n",
       "      <td>PD</td>\n",
       "    </tr>\n",
       "    <tr>\n",
       "      <th>1</th>\n",
       "      <td>239</td>\n",
       "      <td>17.014.825/0001-68</td>\n",
       "      <td>VERDUREIRA E SORVETERIA PALHANO LTDA</td>\n",
       "      <td>VERDUREIRA E SORVETERIA PALHANO LTDA</td>\n",
       "      <td>LT</td>\n",
       "      <td>82500016</td>\n",
       "      <td>ISENTO</td>\n",
       "      <td>S</td>\n",
       "      <td>9</td>\n",
       "      <td>PD</td>\n",
       "    </tr>\n",
       "    <tr>\n",
       "      <th>2</th>\n",
       "      <td>8810</td>\n",
       "      <td>17.055.887/0003-80</td>\n",
       "      <td>M &amp; C LANCHES LTDA</td>\n",
       "      <td>M &amp; C LANCHES LTDA</td>\n",
       "      <td>LT</td>\n",
       "      <td>88700038</td>\n",
       "      <td>ISENTO</td>\n",
       "      <td>S</td>\n",
       "      <td>58</td>\n",
       "      <td>PD</td>\n",
       "    </tr>\n",
       "    <tr>\n",
       "      <th>3</th>\n",
       "      <td>6006</td>\n",
       "      <td>17.041.611/0001-80</td>\n",
       "      <td>BAR E LANCHONETE FUNCHAL LTDA</td>\n",
       "      <td>BAR E LANCHONETE FUNCHAL LTDA</td>\n",
       "      <td>LT</td>\n",
       "      <td>61100018</td>\n",
       "      <td>ISENTO</td>\n",
       "      <td>S</td>\n",
       "      <td>79</td>\n",
       "      <td>PD</td>\n",
       "    </tr>\n",
       "    <tr>\n",
       "      <th>4</th>\n",
       "      <td>7761</td>\n",
       "      <td>17.050.253/0001-72</td>\n",
       "      <td>LANCHERIA LTDA</td>\n",
       "      <td>LANCHERIA LTDA</td>\n",
       "      <td>LT</td>\n",
       "      <td>25300017</td>\n",
       "      <td>ISENTO</td>\n",
       "      <td>S</td>\n",
       "      <td>11</td>\n",
       "      <td>PD</td>\n",
       "    </tr>\n",
       "  </tbody>\n",
       "</table>\n",
       "</div>"
      ],
      "text/plain": [
       "   codigo           id_fiscal                                  nome  \\\n",
       "0    9712      322.175.103-63                 JOAO MIRANDA DA SILVA   \n",
       "1     239  17.014.825/0001-68  VERDUREIRA E SORVETERIA PALHANO LTDA   \n",
       "2    8810  17.055.887/0003-80                    M & C LANCHES LTDA   \n",
       "3    6006  17.041.611/0001-80         BAR E LANCHONETE FUNCHAL LTDA   \n",
       "4    7761  17.050.253/0001-72                        LANCHERIA LTDA   \n",
       "\n",
       "                          nome_fantasia natureza_juridica id_fiscal_2  \\\n",
       "0                 JOAO MIRANDA DA SILVA                PF           0   \n",
       "1  VERDUREIRA E SORVETERIA PALHANO LTDA                LT    82500016   \n",
       "2                    M & C LANCHES LTDA                LT    88700038   \n",
       "3         BAR E LANCHONETE FUNCHAL LTDA                LT    61100018   \n",
       "4                        LANCHERIA LTDA                LT    25300017   \n",
       "\n",
       "  id_fiscal_3 contribuinte_icms  vendedor cst  \n",
       "0      ISENTO                 N         9  PD  \n",
       "1      ISENTO                 S         9  PD  \n",
       "2      ISENTO                 S        58  PD  \n",
       "3      ISENTO                 S        79  PD  \n",
       "4      ISENTO                 S        11  PD  "
      ]
     },
     "execution_count": 12,
     "metadata": {},
     "output_type": "execute_result"
    }
   ],
   "source": [
    "# última checagem\n",
    "df_clientes.isnull().sum()\n",
    "df_clientes.head(5)"
   ]
  },
  {
   "cell_type": "code",
   "execution_count": 13,
   "id": "8394a861",
   "metadata": {},
   "outputs": [
    {
     "data": {
      "text/plain": [
       "['../../util/data/df_clientes.z']"
      ]
     },
     "execution_count": 13,
     "metadata": {},
     "output_type": "execute_result"
    }
   ],
   "source": [
    "dump(df_clientes, caminho+'df_clientes.z') # substituindo com as novas mudanças"
   ]
  },
  {
   "cell_type": "markdown",
   "id": "6de1f80f",
   "metadata": {},
   "source": [
    "## `df_vendas`"
   ]
  },
  {
   "cell_type": "markdown",
   "id": "fab3b0a6",
   "metadata": {},
   "source": [
    "### Importando dados"
   ]
  },
  {
   "cell_type": "code",
   "execution_count": 14,
   "id": "05a8f848",
   "metadata": {},
   "outputs": [],
   "source": [
    "from joblib import load\n",
    "df_vendas = load(\"../../util/data/df_vendas.z\")"
   ]
  },
  {
   "cell_type": "markdown",
   "id": "a84ce5e4",
   "metadata": {},
   "source": [
    "#### Identificando valores ausentes\n",
    "\n",
    "Iniciaremos o processo de análise avaliando os valores ausentes em **Vendas**:"
   ]
  },
  {
   "cell_type": "code",
   "execution_count": 15,
   "id": "c4b8acb5",
   "metadata": {},
   "outputs": [
    {
     "name": "stdout",
     "output_type": "stream",
     "text": [
      "<class 'pandas.core.frame.DataFrame'>\n",
      "RangeIndex: 10428 entries, 0 to 10427\n",
      "Data columns (total 22 columns):\n",
      " #   Column                     Non-Null Count  Dtype  \n",
      "---  ------                     --------------  -----  \n",
      " 0   codigo_empresa             10428 non-null  int64  \n",
      " 1   tipo_pedido                10428 non-null  object \n",
      " 2   centro_resultado           10428 non-null  int64  \n",
      " 3   documento                  10428 non-null  int64  \n",
      " 4   codigo_cliente             10428 non-null  int64  \n",
      " 5   codigo_parceiro            1 non-null      float64\n",
      " 6   codigo_empregado           10428 non-null  int64  \n",
      " 7   codigo_mecanico_empregado  5 non-null      float64\n",
      " 8   data_emissao               10428 non-null  object \n",
      " 9   hora_emissao               10428 non-null  object \n",
      " 10  data_fechamento            10428 non-null  object \n",
      " 11  hora_fechamento            10428 non-null  object \n",
      " 12  data_faturamento           10418 non-null  object \n",
      " 13  placa                      5 non-null      object \n",
      " 14  codigo_produto             10428 non-null  int64  \n",
      " 15  quantidade                 10428 non-null  float64\n",
      " 16  total                      10428 non-null  float64\n",
      " 17  custo_medio                10428 non-null  float64\n",
      " 18  valor_desconto             10428 non-null  float64\n",
      " 19  campanha                   101 non-null    object \n",
      " 20  origem                     0 non-null      float64\n",
      " 21  motivo_perda               0 non-null      float64\n",
      "dtypes: float64(8), int64(6), object(8)\n",
      "memory usage: 1.8+ MB\n",
      "None\n",
      "\n",
      "Percentual de valores ausentes por coluna (maior para menor):\n",
      "origem                       100.000000\n",
      "motivo_perda                 100.000000\n",
      "codigo_parceiro               99.990410\n",
      "codigo_mecanico_empregado     99.952052\n",
      "placa                         99.952052\n",
      "campanha                      99.031454\n",
      "data_faturamento               0.095896\n",
      "codigo_cliente                 0.000000\n",
      "centro_resultado               0.000000\n",
      "tipo_pedido                    0.000000\n",
      "codigo_empresa                 0.000000\n",
      "documento                      0.000000\n",
      "hora_emissao                   0.000000\n",
      "codigo_empregado               0.000000\n",
      "data_fechamento                0.000000\n",
      "hora_fechamento                0.000000\n",
      "data_emissao                   0.000000\n",
      "codigo_produto                 0.000000\n",
      "custo_medio                    0.000000\n",
      "total                          0.000000\n",
      "quantidade                     0.000000\n",
      "valor_desconto                 0.000000\n",
      "dtype: float64\n"
     ]
    }
   ],
   "source": [
    "print(df_vendas.info())\n",
    "\n",
    "# Percentual de valores ausentes por coluna\n",
    "missing_percent = df_vendas.isnull().mean().sort_values(ascending=False) * 100\n",
    "print(\"\\nPercentual de valores ausentes por coluna (maior para menor):\")\n",
    "print(missing_percent)"
   ]
  },
  {
   "cell_type": "markdown",
   "id": "cdfdc0f8",
   "metadata": {},
   "source": [
    "### Nesse cenário, é possível destacar:"
   ]
  },
  {
   "cell_type": "markdown",
   "id": "73191b61",
   "metadata": {},
   "source": [
    "**Colunas com 100% de valores ausentes:**\n",
    "\n",
    "- `origem` (totalmente ausente)\n",
    "\n",
    "- `motivo_perda` (totalmente ausente)\n",
    "\n",
    "\n",
    "**Colunas com alta taxa de valores ausentes:**\n",
    "\n",
    "- `codigo_parceiro` (99.99%)\n",
    "\n",
    "- `codigo_mecanico_empregado` (99.95%)\n",
    "\n",
    "- `placa` (99.95%)\n",
    "\n",
    "- `campanha` (99.03%)\n",
    "\n",
    "**Colunas com poucos valores ausentes:**\n",
    "\n",
    "- `data_faturamento` (menos de 0.1% de valores ausentes)\n",
    "\n",
    "**Colunas sem valores ausentes:**\n",
    "\n",
    "- As demais colunas não possuem dados ausentes."
   ]
  },
  {
   "cell_type": "markdown",
   "id": "6f36d54a",
   "metadata": {},
   "source": [
    "#### Assim, removeremos as colunas `origem`, `motivo_perda`, `codigo_parceiro`, `codigo_mecanico_empregado`, `placa` e `campanha` por apresentarem mais de 99% de valores ausentes, o que compromete sua relevância na análise."
   ]
  },
  {
   "cell_type": "code",
   "execution_count": 16,
   "id": "00dfe08c",
   "metadata": {},
   "outputs": [
    {
     "name": "stdout",
     "output_type": "stream",
     "text": [
      "<class 'pandas.core.frame.DataFrame'>\n",
      "RangeIndex: 10428 entries, 0 to 10427\n",
      "Data columns (total 16 columns):\n",
      " #   Column            Non-Null Count  Dtype  \n",
      "---  ------            --------------  -----  \n",
      " 0   codigo_empresa    10428 non-null  int64  \n",
      " 1   tipo_pedido       10428 non-null  object \n",
      " 2   centro_resultado  10428 non-null  int64  \n",
      " 3   documento         10428 non-null  int64  \n",
      " 4   codigo_cliente    10428 non-null  int64  \n",
      " 5   codigo_empregado  10428 non-null  int64  \n",
      " 6   data_emissao      10428 non-null  object \n",
      " 7   hora_emissao      10428 non-null  object \n",
      " 8   data_fechamento   10428 non-null  object \n",
      " 9   hora_fechamento   10428 non-null  object \n",
      " 10  data_faturamento  10418 non-null  object \n",
      " 11  codigo_produto    10428 non-null  int64  \n",
      " 12  quantidade        10428 non-null  float64\n",
      " 13  total             10428 non-null  float64\n",
      " 14  custo_medio       10428 non-null  float64\n",
      " 15  valor_desconto    10428 non-null  float64\n",
      "dtypes: float64(4), int64(6), object(6)\n",
      "memory usage: 1.3+ MB\n",
      "None\n"
     ]
    }
   ],
   "source": [
    "df_vendas.drop(columns=[\n",
    "    'origem',\n",
    "    'motivo_perda',\n",
    "    'codigo_parceiro',\n",
    "    'codigo_mecanico_empregado',\n",
    "    'placa',\n",
    "    'campanha'\n",
    "], inplace=True)\n",
    "\n",
    "print(df_vendas.info())"
   ]
  },
  {
   "cell_type": "markdown",
   "id": "8e081800",
   "metadata": {},
   "source": [
    "Ademais, é necessário avaliar a estratégia para a coluna `data_faturamento`, tendo em vista sua baixa porcentagem de dados ausentes (0,09%), destacam-se duas estratégias, preencher utilizando outra coluna com o tipo de data, ou excluir essas linhas com valores ausentes. Nesse caso, por não conhecer com precisão o impacto das outras variáveis de tipo data, optaremos pela segunda estratégia, ou seja, a remoção."
   ]
  },
  {
   "cell_type": "code",
   "execution_count": 17,
   "id": "17fde437",
   "metadata": {},
   "outputs": [],
   "source": [
    "df_vendas = df_vendas[df_vendas['data_faturamento'].notnull()]"
   ]
  },
  {
   "cell_type": "markdown",
   "id": "6a765244",
   "metadata": {},
   "source": [
    "Com essas etapas, eliminamos todas as colunas ou linhas que possuíam dados ausentes:"
   ]
  },
  {
   "cell_type": "code",
   "execution_count": 18,
   "id": "f2b19c39",
   "metadata": {},
   "outputs": [
    {
     "name": "stdout",
     "output_type": "stream",
     "text": [
      "codigo_empresa      0\n",
      "tipo_pedido         0\n",
      "centro_resultado    0\n",
      "documento           0\n",
      "codigo_cliente      0\n",
      "codigo_empregado    0\n",
      "data_emissao        0\n",
      "hora_emissao        0\n",
      "data_fechamento     0\n",
      "hora_fechamento     0\n",
      "data_faturamento    0\n",
      "codigo_produto      0\n",
      "quantidade          0\n",
      "total               0\n",
      "custo_medio         0\n",
      "valor_desconto      0\n",
      "dtype: int64\n"
     ]
    }
   ],
   "source": [
    "# Verificar se ainda há valores ausentes\n",
    "print(df_vendas.isnull().sum())"
   ]
  },
  {
   "cell_type": "markdown",
   "id": "cdec7b3c",
   "metadata": {},
   "source": [
    "### Prosseguindo, avaliaremos as formatações de colunas com o tipo data: "
   ]
  },
  {
   "cell_type": "code",
   "execution_count": 19,
   "id": "54c8b0bf",
   "metadata": {},
   "outputs": [
    {
     "name": "stdout",
     "output_type": "stream",
     "text": [
      "['data_emissao', 'data_fechamento', 'data_faturamento']\n"
     ]
    }
   ],
   "source": [
    "possiveis_datas = [col for col in df_vendas.columns if 'data' in col.lower()]\n",
    "print(possiveis_datas)"
   ]
  },
  {
   "cell_type": "code",
   "execution_count": 20,
   "id": "5ca9d30c",
   "metadata": {},
   "outputs": [
    {
     "name": "stdout",
     "output_type": "stream",
     "text": [
      "data_emissao        object\n",
      "data_fechamento     object\n",
      "data_faturamento    object\n",
      "dtype: object\n"
     ]
    }
   ],
   "source": [
    "print(df_vendas[possiveis_datas].dtypes)"
   ]
  },
  {
   "cell_type": "markdown",
   "id": "059db0b2",
   "metadata": {},
   "source": [
    "Percebemos que essas colunas não estão tipo correto, resolveremos isso: "
   ]
  },
  {
   "cell_type": "code",
   "execution_count": 21,
   "id": "ebb6222e",
   "metadata": {},
   "outputs": [],
   "source": [
    "import pandas as pd\n",
    "\n",
    "# Converter colunas de data para datetime\n",
    "date_cols = ['data_emissao', 'data_fechamento', 'data_faturamento']\n",
    "\n",
    "for col in date_cols:\n",
    "    df_vendas[col] = pd.to_datetime(df_vendas[col], errors='coerce')"
   ]
  },
  {
   "cell_type": "code",
   "execution_count": 22,
   "id": "09aff58f",
   "metadata": {},
   "outputs": [
    {
     "name": "stdout",
     "output_type": "stream",
     "text": [
      "data_emissao        datetime64[ns]\n",
      "data_fechamento     datetime64[ns]\n",
      "data_faturamento    datetime64[ns]\n",
      "dtype: object\n"
     ]
    }
   ],
   "source": [
    "print(df_vendas[date_cols].dtypes)"
   ]
  },
  {
   "cell_type": "markdown",
   "id": "c3f83d1c",
   "metadata": {},
   "source": [
    "### Após isso, iremos verificar e padronizar colunas de texto:"
   ]
  },
  {
   "cell_type": "code",
   "execution_count": 23,
   "id": "7bb55f6d",
   "metadata": {},
   "outputs": [
    {
     "name": "stdout",
     "output_type": "stream",
     "text": [
      "Index(['tipo_pedido', 'hora_emissao', 'hora_fechamento'], dtype='object')\n"
     ]
    }
   ],
   "source": [
    "colunas_object = df_vendas.select_dtypes(include='object').columns\n",
    "print(colunas_object)"
   ]
  },
  {
   "cell_type": "markdown",
   "id": "9c5b00b6",
   "metadata": {},
   "source": [
    "Iniciando com `tipo_pedido`:"
   ]
  },
  {
   "cell_type": "code",
   "execution_count": 24,
   "id": "1294af6b",
   "metadata": {},
   "outputs": [
    {
     "name": "stdout",
     "output_type": "stream",
     "text": [
      "['PV' 'DV']\n"
     ]
    }
   ],
   "source": [
    "print(df_vendas['tipo_pedido'].unique())"
   ]
  },
  {
   "cell_type": "markdown",
   "id": "c822e737",
   "metadata": {},
   "source": [
    "Nesse caso, eles já estão consistentes, padronizados e sem espaços, logo não é necessário tratamento aqui."
   ]
  },
  {
   "cell_type": "markdown",
   "id": "68111e15",
   "metadata": {},
   "source": [
    "Prosseguindo com `hora_emissao` e `hora_fechamento`:"
   ]
  },
  {
   "cell_type": "code",
   "execution_count": 25,
   "id": "9720afa8",
   "metadata": {},
   "outputs": [
    {
     "name": "stdout",
     "output_type": "stream",
     "text": [
      "     hora_emissao hora_fechamento\n",
      "8893     09:36:05        09:39:05\n",
      "2175     12:36:32        12:38:35\n",
      "6494     08:07:13        08:29:23\n",
      "9691     10:27:43        10:28:48\n",
      "6307     15:38:21        15:38:51\n"
     ]
    }
   ],
   "source": [
    "print(df_vendas[['hora_emissao', 'hora_fechamento']].sample(5))"
   ]
  },
  {
   "cell_type": "code",
   "execution_count": 26,
   "id": "8e10b65c",
   "metadata": {},
   "outputs": [
    {
     "name": "stdout",
     "output_type": "stream",
     "text": [
      "hora_emissao       object\n",
      "hora_fechamento    object\n",
      "dtype: object\n"
     ]
    }
   ],
   "source": [
    "print(df_vendas[['hora_emissao', 'hora_fechamento']].dtypes)"
   ]
  },
  {
   "cell_type": "markdown",
   "id": "b9d443fe",
   "metadata": {},
   "source": [
    "Não há erro no padrão armazenado, mas no futuro pode ser mais interessando trabalhar com o tipo `datetime.time`."
   ]
  },
  {
   "cell_type": "markdown",
   "id": "f0c86233",
   "metadata": {},
   "source": [
    "Seguiremos avaliando os valores únicos e básicos nas colunas de identificação:"
   ]
  },
  {
   "cell_type": "code",
   "execution_count": 27,
   "id": "3a2643fa",
   "metadata": {},
   "outputs": [
    {
     "name": "stdout",
     "output_type": "stream",
     "text": [
      "Valores únicos por coluna de identificação:\n",
      "codigo_empresa: [2 1 3]\n",
      "centro_resultado: 6\n",
      "codigo_cliente: 969\n",
      "codigo_empregado: 14\n",
      "codigo_produto: 2872\n",
      "documento duplicado? True\n"
     ]
    }
   ],
   "source": [
    "print(\"Valores únicos por coluna de identificação:\")\n",
    "print(\"codigo_empresa:\", df_vendas['codigo_empresa'].unique())\n",
    "print(\"centro_resultado:\", df_vendas['centro_resultado'].nunique())\n",
    "print(\"codigo_cliente:\", df_vendas['codigo_cliente'].nunique())\n",
    "print(\"codigo_empregado:\", df_vendas['codigo_empregado'].nunique())\n",
    "print(\"codigo_produto:\", df_vendas['codigo_produto'].nunique())\n",
    "print(\"documento duplicado?\", df_vendas['documento'].duplicated().any())"
   ]
  },
  {
   "cell_type": "markdown",
   "id": "19be4df3",
   "metadata": {},
   "source": [
    "Apenas uma apresenta problemas notórios, nesse sentido iremos avaliar `documento`:"
   ]
  },
  {
   "cell_type": "code",
   "execution_count": 28,
   "id": "718ef764",
   "metadata": {},
   "outputs": [
    {
     "name": "stdout",
     "output_type": "stream",
     "text": [
      "Quantidade de documentos duplicados: 6060\n",
      "\n",
      "Exemplos de documentos duplicados:\n",
      "      codigo_empresa tipo_pedido  centro_resultado  documento  codigo_cliente  \\\n",
      "1831               1          PV                 2      18228            6863   \n",
      "2631               1          PV                 2      18228            6863   \n",
      "2630               1          PV                 2      18228            6863   \n",
      "97                 1          PV                 7      19216            6863   \n",
      "98                 1          PV                 7      19216            6863   \n",
      "8811               1          PV                 2      19509             236   \n",
      "8812               1          PV                 2      19509             236   \n",
      "8810               1          PV                 2      19509             236   \n",
      "8816               1          PV                 2      19509             236   \n",
      "8815               1          PV                 2      19509             236   \n",
      "\n",
      "      codigo_empregado data_emissao hora_emissao data_fechamento  \\\n",
      "1831                82   2022-12-06     10:03:30      2023-01-03   \n",
      "2631                82   2022-12-06     10:03:30      2023-01-03   \n",
      "2630                82   2022-12-06     10:03:30      2023-01-03   \n",
      "97                  86   2022-12-23     08:47:47      2023-01-18   \n",
      "98                  86   2022-12-23     08:47:47      2023-01-18   \n",
      "8811                 9   2022-12-29     07:44:45      2023-01-04   \n",
      "8812                 9   2022-12-29     07:44:45      2023-01-04   \n",
      "8810                 9   2022-12-29     07:44:45      2023-01-04   \n",
      "8816                 9   2022-12-29     07:44:45      2023-01-04   \n",
      "8815                 9   2022-12-29     07:44:45      2023-01-04   \n",
      "\n",
      "     hora_fechamento data_faturamento  codigo_produto  quantidade    total  \\\n",
      "1831        09:12:52       2023-01-03            5462         4.0   123.20   \n",
      "2631        09:12:52       2023-01-03             201         4.0   177.24   \n",
      "2630        09:12:52       2023-01-03             675         2.0  1810.00   \n",
      "97          11:57:13       2023-01-18          194931         2.0    12.24   \n",
      "98          11:57:13       2023-01-18          184581         1.0    10.30   \n",
      "8811        08:22:56       2023-01-04          194913         4.0   180.00   \n",
      "8812        08:22:56       2023-01-04            8713         3.0   145.50   \n",
      "8810        08:22:56       2023-01-04            2031         2.0   230.00   \n",
      "8816        08:22:56       2023-01-04            3874         2.0   130.00   \n",
      "8815        08:22:56       2023-01-04             918         2.0   630.00   \n",
      "\n",
      "      custo_medio  valor_desconto  \n",
      "1831      11.4200           30.20  \n",
      "2631      31.6516           75.96  \n",
      "2630     517.3750          330.00  \n",
      "97         6.1231           16.36  \n",
      "98        10.2380           10.30  \n",
      "8811      16.9540            0.00  \n",
      "8812       5.5424            0.00  \n",
      "8810      41.3821            0.92  \n",
      "8816      42.0000            0.00  \n",
      "8815     102.8912            0.00  \n"
     ]
    }
   ],
   "source": [
    "# Ver duplicados\n",
    "print(\"Quantidade de documentos duplicados:\", df_vendas['documento'].duplicated().sum())\n",
    "\n",
    "print(\"\\nExemplos de documentos duplicados:\")\n",
    "print(df_vendas[df_vendas['documento'].duplicated(keep=False)].sort_values('documento').head(10))"
   ]
  },
  {
   "cell_type": "markdown",
   "id": "d321ce62",
   "metadata": {},
   "source": [
    "Conclusão: Os documentos não são duplicatas exatas, eles compartilham o mesmo número de documento, mas:\n",
    "\n",
    "- Diferem no `codigo_produto`, `quantidade`, `total`, etc.\n",
    "\n",
    "- Representam, provavelmente, itens diferentes de um mesmo pedido (como uma nota fiscal com várias linhas).\n",
    "\n",
    "Assim, manteremos os dados como estão."
   ]
  },
  {
   "cell_type": "markdown",
   "id": "23a4f201",
   "metadata": {},
   "source": [
    "### Por fim, iremos avaliar as últimas colunas restantes:"
   ]
  },
  {
   "cell_type": "code",
   "execution_count": 29,
   "id": "b2aee356",
   "metadata": {},
   "outputs": [
    {
     "name": "stdout",
     "output_type": "stream",
     "text": [
      "         quantidade         total   custo_medio  valor_desconto\n",
      "count  10418.000000  10418.000000  10418.000000    10418.000000\n",
      "mean       5.463429    206.323024     50.682218       67.747056\n",
      "std       19.755777    513.622674    195.042046      226.178726\n",
      "min      -59.000000  -2415.000000   -815.900000        0.000000\n",
      "25%        1.000000     30.000000      6.995100        2.665000\n",
      "50%        2.000000     79.795000     12.828000       15.675000\n",
      "75%        5.000000    199.972500     32.086875       56.400000\n",
      "max      600.000000  14900.000000   5163.480000     5262.000000\n",
      "\n",
      "Quantidade de registros com valores negativos: 76\n",
      "\n",
      "Registros com quantidade ou total igual a zero: 0\n"
     ]
    }
   ],
   "source": [
    "print(df_vendas[['quantidade', 'total', 'custo_medio', 'valor_desconto']].describe())\n",
    "\n",
    "# Procurando valores negativos\n",
    "negativos = df_vendas[(df_vendas['quantidade'] < 0) |\n",
    "                      (df_vendas['total'] < 0) |\n",
    "                      (df_vendas['custo_medio'] < 0) |\n",
    "                      (df_vendas['valor_desconto'] < 0)]\n",
    "print(f\"\\nQuantidade de registros com valores negativos: {len(negativos)}\")\n",
    "\n",
    "# Procurando linhas com quantidade == 0 ou total == 0\n",
    "zeros_suspeitos = df_vendas[(df_vendas['quantidade'] == 0) | (df_vendas['total'] == 0)]\n",
    "print(f\"\\nRegistros com quantidade ou total igual a zero: {len(zeros_suspeitos)}\")"
   ]
  },
  {
   "cell_type": "markdown",
   "id": "f5f85b79",
   "metadata": {},
   "source": [
    "Localizando os 76 registros com valores negativos:"
   ]
  },
  {
   "cell_type": "code",
   "execution_count": 30,
   "id": "6b7b3833",
   "metadata": {},
   "outputs": [
    {
     "name": "stdout",
     "output_type": "stream",
     "text": [
      "Quantidade de registros com valores negativos: 76\n"
     ]
    },
    {
     "data": {
      "text/html": [
       "<div>\n",
       "<style scoped>\n",
       "    .dataframe tbody tr th:only-of-type {\n",
       "        vertical-align: middle;\n",
       "    }\n",
       "\n",
       "    .dataframe tbody tr th {\n",
       "        vertical-align: top;\n",
       "    }\n",
       "\n",
       "    .dataframe thead th {\n",
       "        text-align: right;\n",
       "    }\n",
       "</style>\n",
       "<table border=\"1\" class=\"dataframe\">\n",
       "  <thead>\n",
       "    <tr style=\"text-align: right;\">\n",
       "      <th></th>\n",
       "      <th>codigo_empresa</th>\n",
       "      <th>tipo_pedido</th>\n",
       "      <th>centro_resultado</th>\n",
       "      <th>documento</th>\n",
       "      <th>codigo_cliente</th>\n",
       "      <th>codigo_empregado</th>\n",
       "      <th>data_emissao</th>\n",
       "      <th>hora_emissao</th>\n",
       "      <th>data_fechamento</th>\n",
       "      <th>hora_fechamento</th>\n",
       "      <th>data_faturamento</th>\n",
       "      <th>codigo_produto</th>\n",
       "      <th>quantidade</th>\n",
       "      <th>total</th>\n",
       "      <th>custo_medio</th>\n",
       "      <th>valor_desconto</th>\n",
       "    </tr>\n",
       "  </thead>\n",
       "  <tbody>\n",
       "    <tr>\n",
       "      <th>269</th>\n",
       "      <td>1</td>\n",
       "      <td>DV</td>\n",
       "      <td>2</td>\n",
       "      <td>20822</td>\n",
       "      <td>9328</td>\n",
       "      <td>58</td>\n",
       "      <td>2023-01-18</td>\n",
       "      <td>15:19:20</td>\n",
       "      <td>2023-01-18</td>\n",
       "      <td>15:19:33</td>\n",
       "      <td>2023-01-18</td>\n",
       "      <td>190569</td>\n",
       "      <td>-3.0</td>\n",
       "      <td>-255.00</td>\n",
       "      <td>-41.2230</td>\n",
       "      <td>0.0</td>\n",
       "    </tr>\n",
       "    <tr>\n",
       "      <th>282</th>\n",
       "      <td>1</td>\n",
       "      <td>DV</td>\n",
       "      <td>7</td>\n",
       "      <td>23862</td>\n",
       "      <td>9636</td>\n",
       "      <td>58</td>\n",
       "      <td>2023-03-09</td>\n",
       "      <td>16:11:47</td>\n",
       "      <td>2023-03-09</td>\n",
       "      <td>16:12:06</td>\n",
       "      <td>2023-03-09</td>\n",
       "      <td>192510</td>\n",
       "      <td>-4.0</td>\n",
       "      <td>-28.00</td>\n",
       "      <td>-1.9200</td>\n",
       "      <td>0.0</td>\n",
       "    </tr>\n",
       "    <tr>\n",
       "      <th>310</th>\n",
       "      <td>1</td>\n",
       "      <td>DV</td>\n",
       "      <td>2</td>\n",
       "      <td>20834</td>\n",
       "      <td>9330</td>\n",
       "      <td>58</td>\n",
       "      <td>2023-01-18</td>\n",
       "      <td>16:32:32</td>\n",
       "      <td>2023-01-18</td>\n",
       "      <td>16:32:42</td>\n",
       "      <td>2023-01-18</td>\n",
       "      <td>159671</td>\n",
       "      <td>-1.0</td>\n",
       "      <td>-30.00</td>\n",
       "      <td>-0.7200</td>\n",
       "      <td>0.0</td>\n",
       "    </tr>\n",
       "    <tr>\n",
       "      <th>435</th>\n",
       "      <td>1</td>\n",
       "      <td>DV</td>\n",
       "      <td>7</td>\n",
       "      <td>23892</td>\n",
       "      <td>5292</td>\n",
       "      <td>82</td>\n",
       "      <td>2023-03-10</td>\n",
       "      <td>09:51:22</td>\n",
       "      <td>2023-03-10</td>\n",
       "      <td>09:52:03</td>\n",
       "      <td>2023-03-10</td>\n",
       "      <td>1441</td>\n",
       "      <td>-1.0</td>\n",
       "      <td>-351.90</td>\n",
       "      <td>-247.7335</td>\n",
       "      <td>0.0</td>\n",
       "    </tr>\n",
       "    <tr>\n",
       "      <th>858</th>\n",
       "      <td>1</td>\n",
       "      <td>DV</td>\n",
       "      <td>2</td>\n",
       "      <td>21062</td>\n",
       "      <td>9345</td>\n",
       "      <td>58</td>\n",
       "      <td>2023-01-23</td>\n",
       "      <td>11:06:46</td>\n",
       "      <td>2023-01-23</td>\n",
       "      <td>11:07:01</td>\n",
       "      <td>2023-01-23</td>\n",
       "      <td>130</td>\n",
       "      <td>-2.0</td>\n",
       "      <td>-32.00</td>\n",
       "      <td>-7.4497</td>\n",
       "      <td>0.0</td>\n",
       "    </tr>\n",
       "    <tr>\n",
       "      <th>...</th>\n",
       "      <td>...</td>\n",
       "      <td>...</td>\n",
       "      <td>...</td>\n",
       "      <td>...</td>\n",
       "      <td>...</td>\n",
       "      <td>...</td>\n",
       "      <td>...</td>\n",
       "      <td>...</td>\n",
       "      <td>...</td>\n",
       "      <td>...</td>\n",
       "      <td>...</td>\n",
       "      <td>...</td>\n",
       "      <td>...</td>\n",
       "      <td>...</td>\n",
       "      <td>...</td>\n",
       "      <td>...</td>\n",
       "    </tr>\n",
       "    <tr>\n",
       "      <th>9187</th>\n",
       "      <td>1</td>\n",
       "      <td>DV</td>\n",
       "      <td>2</td>\n",
       "      <td>24242</td>\n",
       "      <td>599</td>\n",
       "      <td>82</td>\n",
       "      <td>2023-03-15</td>\n",
       "      <td>20:20:42</td>\n",
       "      <td>2023-03-15</td>\n",
       "      <td>20:22:43</td>\n",
       "      <td>2023-03-15</td>\n",
       "      <td>193436</td>\n",
       "      <td>-1.0</td>\n",
       "      <td>-534.31</td>\n",
       "      <td>-240.2783</td>\n",
       "      <td>0.0</td>\n",
       "    </tr>\n",
       "    <tr>\n",
       "      <th>9188</th>\n",
       "      <td>1</td>\n",
       "      <td>DV</td>\n",
       "      <td>2</td>\n",
       "      <td>24242</td>\n",
       "      <td>599</td>\n",
       "      <td>82</td>\n",
       "      <td>2023-03-15</td>\n",
       "      <td>20:20:42</td>\n",
       "      <td>2023-03-15</td>\n",
       "      <td>20:22:43</td>\n",
       "      <td>2023-03-15</td>\n",
       "      <td>667</td>\n",
       "      <td>-1.0</td>\n",
       "      <td>-653.62</td>\n",
       "      <td>-378.8261</td>\n",
       "      <td>0.0</td>\n",
       "    </tr>\n",
       "    <tr>\n",
       "      <th>9189</th>\n",
       "      <td>1</td>\n",
       "      <td>DV</td>\n",
       "      <td>2</td>\n",
       "      <td>24242</td>\n",
       "      <td>599</td>\n",
       "      <td>82</td>\n",
       "      <td>2023-03-15</td>\n",
       "      <td>20:20:42</td>\n",
       "      <td>2023-03-15</td>\n",
       "      <td>20:22:43</td>\n",
       "      <td>2023-03-15</td>\n",
       "      <td>1718</td>\n",
       "      <td>-2.0</td>\n",
       "      <td>-505.78</td>\n",
       "      <td>-148.7550</td>\n",
       "      <td>0.0</td>\n",
       "    </tr>\n",
       "    <tr>\n",
       "      <th>9348</th>\n",
       "      <td>1</td>\n",
       "      <td>DV</td>\n",
       "      <td>2</td>\n",
       "      <td>20275</td>\n",
       "      <td>6128</td>\n",
       "      <td>63</td>\n",
       "      <td>2023-01-11</td>\n",
       "      <td>08:03:47</td>\n",
       "      <td>2023-01-11</td>\n",
       "      <td>08:04:46</td>\n",
       "      <td>2023-01-11</td>\n",
       "      <td>7037</td>\n",
       "      <td>-2.0</td>\n",
       "      <td>-240.12</td>\n",
       "      <td>-27.6313</td>\n",
       "      <td>0.0</td>\n",
       "    </tr>\n",
       "    <tr>\n",
       "      <th>9349</th>\n",
       "      <td>1</td>\n",
       "      <td>DV</td>\n",
       "      <td>2</td>\n",
       "      <td>20275</td>\n",
       "      <td>6128</td>\n",
       "      <td>63</td>\n",
       "      <td>2023-01-11</td>\n",
       "      <td>08:03:47</td>\n",
       "      <td>2023-01-11</td>\n",
       "      <td>08:04:46</td>\n",
       "      <td>2023-01-11</td>\n",
       "      <td>188643</td>\n",
       "      <td>-2.0</td>\n",
       "      <td>-192.00</td>\n",
       "      <td>-2.9300</td>\n",
       "      <td>0.0</td>\n",
       "    </tr>\n",
       "  </tbody>\n",
       "</table>\n",
       "<p>76 rows × 16 columns</p>\n",
       "</div>"
      ],
      "text/plain": [
       "      codigo_empresa tipo_pedido  centro_resultado  documento  codigo_cliente  \\\n",
       "269                1          DV                 2      20822            9328   \n",
       "282                1          DV                 7      23862            9636   \n",
       "310                1          DV                 2      20834            9330   \n",
       "435                1          DV                 7      23892            5292   \n",
       "858                1          DV                 2      21062            9345   \n",
       "...              ...         ...               ...        ...             ...   \n",
       "9187               1          DV                 2      24242             599   \n",
       "9188               1          DV                 2      24242             599   \n",
       "9189               1          DV                 2      24242             599   \n",
       "9348               1          DV                 2      20275            6128   \n",
       "9349               1          DV                 2      20275            6128   \n",
       "\n",
       "      codigo_empregado data_emissao hora_emissao data_fechamento  \\\n",
       "269                 58   2023-01-18     15:19:20      2023-01-18   \n",
       "282                 58   2023-03-09     16:11:47      2023-03-09   \n",
       "310                 58   2023-01-18     16:32:32      2023-01-18   \n",
       "435                 82   2023-03-10     09:51:22      2023-03-10   \n",
       "858                 58   2023-01-23     11:06:46      2023-01-23   \n",
       "...                ...          ...          ...             ...   \n",
       "9187                82   2023-03-15     20:20:42      2023-03-15   \n",
       "9188                82   2023-03-15     20:20:42      2023-03-15   \n",
       "9189                82   2023-03-15     20:20:42      2023-03-15   \n",
       "9348                63   2023-01-11     08:03:47      2023-01-11   \n",
       "9349                63   2023-01-11     08:03:47      2023-01-11   \n",
       "\n",
       "     hora_fechamento data_faturamento  codigo_produto  quantidade   total  \\\n",
       "269         15:19:33       2023-01-18          190569        -3.0 -255.00   \n",
       "282         16:12:06       2023-03-09          192510        -4.0  -28.00   \n",
       "310         16:32:42       2023-01-18          159671        -1.0  -30.00   \n",
       "435         09:52:03       2023-03-10            1441        -1.0 -351.90   \n",
       "858         11:07:01       2023-01-23             130        -2.0  -32.00   \n",
       "...              ...              ...             ...         ...     ...   \n",
       "9187        20:22:43       2023-03-15          193436        -1.0 -534.31   \n",
       "9188        20:22:43       2023-03-15             667        -1.0 -653.62   \n",
       "9189        20:22:43       2023-03-15            1718        -2.0 -505.78   \n",
       "9348        08:04:46       2023-01-11            7037        -2.0 -240.12   \n",
       "9349        08:04:46       2023-01-11          188643        -2.0 -192.00   \n",
       "\n",
       "      custo_medio  valor_desconto  \n",
       "269      -41.2230             0.0  \n",
       "282       -1.9200             0.0  \n",
       "310       -0.7200             0.0  \n",
       "435     -247.7335             0.0  \n",
       "858       -7.4497             0.0  \n",
       "...           ...             ...  \n",
       "9187    -240.2783             0.0  \n",
       "9188    -378.8261             0.0  \n",
       "9189    -148.7550             0.0  \n",
       "9348     -27.6313             0.0  \n",
       "9349      -2.9300             0.0  \n",
       "\n",
       "[76 rows x 16 columns]"
      ]
     },
     "metadata": {},
     "output_type": "display_data"
    }
   ],
   "source": [
    "negativos = df_vendas[\n",
    "    (df_vendas['quantidade'] < 0) |\n",
    "    (df_vendas['total'] < 0) |\n",
    "    (df_vendas['custo_medio'] < 0)\n",
    "]\n",
    "\n",
    "print(f\"Quantidade de registros com valores negativos: {len(negativos)}\")\n",
    "display(negativos)"
   ]
  },
  {
   "cell_type": "markdown",
   "id": "d43d7da6",
   "metadata": {},
   "source": [
    "Checaremos uma possível relação com a coluna `tipo_pedido`:"
   ]
  },
  {
   "cell_type": "code",
   "execution_count": 31,
   "id": "93e6dbe0",
   "metadata": {},
   "outputs": [
    {
     "name": "stdout",
     "output_type": "stream",
     "text": [
      "Registros com valores negativos e tipo_pedido = 'DV': 76\n"
     ]
    },
    {
     "data": {
      "text/html": [
       "<div>\n",
       "<style scoped>\n",
       "    .dataframe tbody tr th:only-of-type {\n",
       "        vertical-align: middle;\n",
       "    }\n",
       "\n",
       "    .dataframe tbody tr th {\n",
       "        vertical-align: top;\n",
       "    }\n",
       "\n",
       "    .dataframe thead th {\n",
       "        text-align: right;\n",
       "    }\n",
       "</style>\n",
       "<table border=\"1\" class=\"dataframe\">\n",
       "  <thead>\n",
       "    <tr style=\"text-align: right;\">\n",
       "      <th></th>\n",
       "      <th>codigo_empresa</th>\n",
       "      <th>tipo_pedido</th>\n",
       "      <th>centro_resultado</th>\n",
       "      <th>documento</th>\n",
       "      <th>codigo_cliente</th>\n",
       "      <th>codigo_empregado</th>\n",
       "      <th>data_emissao</th>\n",
       "      <th>hora_emissao</th>\n",
       "      <th>data_fechamento</th>\n",
       "      <th>hora_fechamento</th>\n",
       "      <th>data_faturamento</th>\n",
       "      <th>codigo_produto</th>\n",
       "      <th>quantidade</th>\n",
       "      <th>total</th>\n",
       "      <th>custo_medio</th>\n",
       "      <th>valor_desconto</th>\n",
       "    </tr>\n",
       "  </thead>\n",
       "  <tbody>\n",
       "    <tr>\n",
       "      <th>269</th>\n",
       "      <td>1</td>\n",
       "      <td>DV</td>\n",
       "      <td>2</td>\n",
       "      <td>20822</td>\n",
       "      <td>9328</td>\n",
       "      <td>58</td>\n",
       "      <td>2023-01-18</td>\n",
       "      <td>15:19:20</td>\n",
       "      <td>2023-01-18</td>\n",
       "      <td>15:19:33</td>\n",
       "      <td>2023-01-18</td>\n",
       "      <td>190569</td>\n",
       "      <td>-3.0</td>\n",
       "      <td>-255.00</td>\n",
       "      <td>-41.2230</td>\n",
       "      <td>0.0</td>\n",
       "    </tr>\n",
       "    <tr>\n",
       "      <th>282</th>\n",
       "      <td>1</td>\n",
       "      <td>DV</td>\n",
       "      <td>7</td>\n",
       "      <td>23862</td>\n",
       "      <td>9636</td>\n",
       "      <td>58</td>\n",
       "      <td>2023-03-09</td>\n",
       "      <td>16:11:47</td>\n",
       "      <td>2023-03-09</td>\n",
       "      <td>16:12:06</td>\n",
       "      <td>2023-03-09</td>\n",
       "      <td>192510</td>\n",
       "      <td>-4.0</td>\n",
       "      <td>-28.00</td>\n",
       "      <td>-1.9200</td>\n",
       "      <td>0.0</td>\n",
       "    </tr>\n",
       "    <tr>\n",
       "      <th>310</th>\n",
       "      <td>1</td>\n",
       "      <td>DV</td>\n",
       "      <td>2</td>\n",
       "      <td>20834</td>\n",
       "      <td>9330</td>\n",
       "      <td>58</td>\n",
       "      <td>2023-01-18</td>\n",
       "      <td>16:32:32</td>\n",
       "      <td>2023-01-18</td>\n",
       "      <td>16:32:42</td>\n",
       "      <td>2023-01-18</td>\n",
       "      <td>159671</td>\n",
       "      <td>-1.0</td>\n",
       "      <td>-30.00</td>\n",
       "      <td>-0.7200</td>\n",
       "      <td>0.0</td>\n",
       "    </tr>\n",
       "    <tr>\n",
       "      <th>435</th>\n",
       "      <td>1</td>\n",
       "      <td>DV</td>\n",
       "      <td>7</td>\n",
       "      <td>23892</td>\n",
       "      <td>5292</td>\n",
       "      <td>82</td>\n",
       "      <td>2023-03-10</td>\n",
       "      <td>09:51:22</td>\n",
       "      <td>2023-03-10</td>\n",
       "      <td>09:52:03</td>\n",
       "      <td>2023-03-10</td>\n",
       "      <td>1441</td>\n",
       "      <td>-1.0</td>\n",
       "      <td>-351.90</td>\n",
       "      <td>-247.7335</td>\n",
       "      <td>0.0</td>\n",
       "    </tr>\n",
       "    <tr>\n",
       "      <th>858</th>\n",
       "      <td>1</td>\n",
       "      <td>DV</td>\n",
       "      <td>2</td>\n",
       "      <td>21062</td>\n",
       "      <td>9345</td>\n",
       "      <td>58</td>\n",
       "      <td>2023-01-23</td>\n",
       "      <td>11:06:46</td>\n",
       "      <td>2023-01-23</td>\n",
       "      <td>11:07:01</td>\n",
       "      <td>2023-01-23</td>\n",
       "      <td>130</td>\n",
       "      <td>-2.0</td>\n",
       "      <td>-32.00</td>\n",
       "      <td>-7.4497</td>\n",
       "      <td>0.0</td>\n",
       "    </tr>\n",
       "    <tr>\n",
       "      <th>...</th>\n",
       "      <td>...</td>\n",
       "      <td>...</td>\n",
       "      <td>...</td>\n",
       "      <td>...</td>\n",
       "      <td>...</td>\n",
       "      <td>...</td>\n",
       "      <td>...</td>\n",
       "      <td>...</td>\n",
       "      <td>...</td>\n",
       "      <td>...</td>\n",
       "      <td>...</td>\n",
       "      <td>...</td>\n",
       "      <td>...</td>\n",
       "      <td>...</td>\n",
       "      <td>...</td>\n",
       "      <td>...</td>\n",
       "    </tr>\n",
       "    <tr>\n",
       "      <th>9187</th>\n",
       "      <td>1</td>\n",
       "      <td>DV</td>\n",
       "      <td>2</td>\n",
       "      <td>24242</td>\n",
       "      <td>599</td>\n",
       "      <td>82</td>\n",
       "      <td>2023-03-15</td>\n",
       "      <td>20:20:42</td>\n",
       "      <td>2023-03-15</td>\n",
       "      <td>20:22:43</td>\n",
       "      <td>2023-03-15</td>\n",
       "      <td>193436</td>\n",
       "      <td>-1.0</td>\n",
       "      <td>-534.31</td>\n",
       "      <td>-240.2783</td>\n",
       "      <td>0.0</td>\n",
       "    </tr>\n",
       "    <tr>\n",
       "      <th>9188</th>\n",
       "      <td>1</td>\n",
       "      <td>DV</td>\n",
       "      <td>2</td>\n",
       "      <td>24242</td>\n",
       "      <td>599</td>\n",
       "      <td>82</td>\n",
       "      <td>2023-03-15</td>\n",
       "      <td>20:20:42</td>\n",
       "      <td>2023-03-15</td>\n",
       "      <td>20:22:43</td>\n",
       "      <td>2023-03-15</td>\n",
       "      <td>667</td>\n",
       "      <td>-1.0</td>\n",
       "      <td>-653.62</td>\n",
       "      <td>-378.8261</td>\n",
       "      <td>0.0</td>\n",
       "    </tr>\n",
       "    <tr>\n",
       "      <th>9189</th>\n",
       "      <td>1</td>\n",
       "      <td>DV</td>\n",
       "      <td>2</td>\n",
       "      <td>24242</td>\n",
       "      <td>599</td>\n",
       "      <td>82</td>\n",
       "      <td>2023-03-15</td>\n",
       "      <td>20:20:42</td>\n",
       "      <td>2023-03-15</td>\n",
       "      <td>20:22:43</td>\n",
       "      <td>2023-03-15</td>\n",
       "      <td>1718</td>\n",
       "      <td>-2.0</td>\n",
       "      <td>-505.78</td>\n",
       "      <td>-148.7550</td>\n",
       "      <td>0.0</td>\n",
       "    </tr>\n",
       "    <tr>\n",
       "      <th>9348</th>\n",
       "      <td>1</td>\n",
       "      <td>DV</td>\n",
       "      <td>2</td>\n",
       "      <td>20275</td>\n",
       "      <td>6128</td>\n",
       "      <td>63</td>\n",
       "      <td>2023-01-11</td>\n",
       "      <td>08:03:47</td>\n",
       "      <td>2023-01-11</td>\n",
       "      <td>08:04:46</td>\n",
       "      <td>2023-01-11</td>\n",
       "      <td>7037</td>\n",
       "      <td>-2.0</td>\n",
       "      <td>-240.12</td>\n",
       "      <td>-27.6313</td>\n",
       "      <td>0.0</td>\n",
       "    </tr>\n",
       "    <tr>\n",
       "      <th>9349</th>\n",
       "      <td>1</td>\n",
       "      <td>DV</td>\n",
       "      <td>2</td>\n",
       "      <td>20275</td>\n",
       "      <td>6128</td>\n",
       "      <td>63</td>\n",
       "      <td>2023-01-11</td>\n",
       "      <td>08:03:47</td>\n",
       "      <td>2023-01-11</td>\n",
       "      <td>08:04:46</td>\n",
       "      <td>2023-01-11</td>\n",
       "      <td>188643</td>\n",
       "      <td>-2.0</td>\n",
       "      <td>-192.00</td>\n",
       "      <td>-2.9300</td>\n",
       "      <td>0.0</td>\n",
       "    </tr>\n",
       "  </tbody>\n",
       "</table>\n",
       "<p>76 rows × 16 columns</p>\n",
       "</div>"
      ],
      "text/plain": [
       "      codigo_empresa tipo_pedido  centro_resultado  documento  codigo_cliente  \\\n",
       "269                1          DV                 2      20822            9328   \n",
       "282                1          DV                 7      23862            9636   \n",
       "310                1          DV                 2      20834            9330   \n",
       "435                1          DV                 7      23892            5292   \n",
       "858                1          DV                 2      21062            9345   \n",
       "...              ...         ...               ...        ...             ...   \n",
       "9187               1          DV                 2      24242             599   \n",
       "9188               1          DV                 2      24242             599   \n",
       "9189               1          DV                 2      24242             599   \n",
       "9348               1          DV                 2      20275            6128   \n",
       "9349               1          DV                 2      20275            6128   \n",
       "\n",
       "      codigo_empregado data_emissao hora_emissao data_fechamento  \\\n",
       "269                 58   2023-01-18     15:19:20      2023-01-18   \n",
       "282                 58   2023-03-09     16:11:47      2023-03-09   \n",
       "310                 58   2023-01-18     16:32:32      2023-01-18   \n",
       "435                 82   2023-03-10     09:51:22      2023-03-10   \n",
       "858                 58   2023-01-23     11:06:46      2023-01-23   \n",
       "...                ...          ...          ...             ...   \n",
       "9187                82   2023-03-15     20:20:42      2023-03-15   \n",
       "9188                82   2023-03-15     20:20:42      2023-03-15   \n",
       "9189                82   2023-03-15     20:20:42      2023-03-15   \n",
       "9348                63   2023-01-11     08:03:47      2023-01-11   \n",
       "9349                63   2023-01-11     08:03:47      2023-01-11   \n",
       "\n",
       "     hora_fechamento data_faturamento  codigo_produto  quantidade   total  \\\n",
       "269         15:19:33       2023-01-18          190569        -3.0 -255.00   \n",
       "282         16:12:06       2023-03-09          192510        -4.0  -28.00   \n",
       "310         16:32:42       2023-01-18          159671        -1.0  -30.00   \n",
       "435         09:52:03       2023-03-10            1441        -1.0 -351.90   \n",
       "858         11:07:01       2023-01-23             130        -2.0  -32.00   \n",
       "...              ...              ...             ...         ...     ...   \n",
       "9187        20:22:43       2023-03-15          193436        -1.0 -534.31   \n",
       "9188        20:22:43       2023-03-15             667        -1.0 -653.62   \n",
       "9189        20:22:43       2023-03-15            1718        -2.0 -505.78   \n",
       "9348        08:04:46       2023-01-11            7037        -2.0 -240.12   \n",
       "9349        08:04:46       2023-01-11          188643        -2.0 -192.00   \n",
       "\n",
       "      custo_medio  valor_desconto  \n",
       "269      -41.2230             0.0  \n",
       "282       -1.9200             0.0  \n",
       "310       -0.7200             0.0  \n",
       "435     -247.7335             0.0  \n",
       "858       -7.4497             0.0  \n",
       "...           ...             ...  \n",
       "9187    -240.2783             0.0  \n",
       "9188    -378.8261             0.0  \n",
       "9189    -148.7550             0.0  \n",
       "9348     -27.6313             0.0  \n",
       "9349      -2.9300             0.0  \n",
       "\n",
       "[76 rows x 16 columns]"
      ]
     },
     "metadata": {},
     "output_type": "display_data"
    }
   ],
   "source": [
    "dv_negativos = negativos[negativos['tipo_pedido'] == 'DV']\n",
    "print(f\"Registros com valores negativos e tipo_pedido = 'DV': {len(dv_negativos)}\")\n",
    "display(dv_negativos)"
   ]
  },
  {
   "cell_type": "code",
   "execution_count": 32,
   "id": "0a4334f7",
   "metadata": {},
   "outputs": [
    {
     "data": {
      "text/plain": [
       "['../../util/data/df_vendas.z']"
      ]
     },
     "execution_count": 32,
     "metadata": {},
     "output_type": "execute_result"
    }
   ],
   "source": [
    "dump(df_vendas, '../../util/data/df_vendas.z')"
   ]
  },
  {
   "cell_type": "markdown",
   "id": "09066afa",
   "metadata": {},
   "source": [
    "Observações: \n",
    "\n",
    "Existe, de fato, uma relação da ocorrência de valores negativos nas colunas `quantidade`, `total` e `custo_medio`, com o `tipo_pedido` 'DV'. Esses valores podem indicar estornos, devoluções ou ajustes manuais. No entanto, não é possível decidir se esses registros devem ser excluídos, corrigidos ou mantidos sem conhecer as regras de negócio envolvidas."
   ]
  },
  {
   "cell_type": "markdown",
   "id": "aed355b7",
   "metadata": {},
   "source": [
    "## `df_produtos`"
   ]
  },
  {
   "cell_type": "markdown",
   "id": "430658fe",
   "metadata": {},
   "source": [
    "### Importando os dados"
   ]
  },
  {
   "cell_type": "code",
   "execution_count": 33,
   "id": "43ad8999",
   "metadata": {},
   "outputs": [],
   "source": [
    "from joblib import load\n",
    "df_produtos = load(\"../../util/data/df_produtos.z\")"
   ]
  },
  {
   "cell_type": "markdown",
   "id": "231ccdcd",
   "metadata": {},
   "source": [
    "#### Identificando valores ausentes\n",
    "\n",
    "Iniciaremos o processo de análise avaliando os valores ausentes em **Produtos**:"
   ]
  },
  {
   "cell_type": "code",
   "execution_count": 34,
   "id": "20d24dcc",
   "metadata": {},
   "outputs": [
    {
     "name": "stdout",
     "output_type": "stream",
     "text": [
      "<class 'pandas.core.frame.DataFrame'>\n",
      "RangeIndex: 9592 entries, 0 to 9591\n",
      "Data columns (total 9 columns):\n",
      " #   Column            Non-Null Count  Dtype  \n",
      "---  ------            --------------  -----  \n",
      " 0   codigo            9591 non-null   object \n",
      " 1   descricao         9592 non-null   object \n",
      " 2   codigo_barras     111 non-null    object \n",
      " 3   unidade           9481 non-null   object \n",
      " 4   marca             9475 non-null   object \n",
      " 5   codigo_categoria  9589 non-null   float64\n",
      " 6   categoria         9589 non-null   object \n",
      " 7   classificacao     9592 non-null   object \n",
      " 8   preco_venda       9592 non-null   float64\n",
      "dtypes: float64(2), object(7)\n",
      "memory usage: 674.6+ KB\n",
      "None\n",
      "\n",
      "Percentual de valores ausentes por coluna (maior para menor):\n",
      "codigo_barras       98.842786\n",
      "marca                1.219766\n",
      "unidade              1.157214\n",
      "categoria            0.031276\n",
      "codigo_categoria     0.031276\n",
      "codigo               0.010425\n",
      "descricao            0.000000\n",
      "classificacao        0.000000\n",
      "preco_venda          0.000000\n",
      "dtype: float64\n"
     ]
    }
   ],
   "source": [
    "print(df_produtos.info())\n",
    "\n",
    "# Percentual de valores ausentes por coluna\n",
    "missing_percent = df_produtos.isnull().mean().sort_values(ascending=False) * 100\n",
    "print(\"\\nPercentual de valores ausentes por coluna (maior para menor):\")\n",
    "print(missing_percent)"
   ]
  },
  {
   "cell_type": "code",
   "execution_count": 35,
   "id": "5d1fb31b",
   "metadata": {},
   "outputs": [
    {
     "data": {
      "text/plain": [
       "['../../util/data/df_produtos.z']"
      ]
     },
     "execution_count": 35,
     "metadata": {},
     "output_type": "execute_result"
    }
   ],
   "source": [
    "dump(df_produtos, '../../util/data/df_produtos.z')"
   ]
  },
  {
   "cell_type": "markdown",
   "id": "d30955f8",
   "metadata": {},
   "source": [
    "Conclusão: \n",
    "\n",
    "- A coluna `codigo_barras` possui mais de 98% dos ausentes, sendo uma forte candidata a ser removida.\n",
    "\n",
    "- As colunas `descricao`, `classificacao` e `preco_venda` não possuem valores ausentes, garantindo boa confiabilidade.\n",
    "\n",
    "- As demais colunas possuem uma baixa porcentagem de valores ausentes (menor que 2%), logo será necessário uma estratégia para a substituição desses valores."
   ]
  }
 ],
 "metadata": {
  "kernelspec": {
   "display_name": "Python 3",
   "language": "python",
   "name": "python3"
  },
  "language_info": {
   "codemirror_mode": {
    "name": "ipython",
    "version": 3
   },
   "file_extension": ".py",
   "mimetype": "text/x-python",
   "name": "python",
   "nbconvert_exporter": "python",
   "pygments_lexer": "ipython3",
   "version": "3.13.2"
  }
 },
 "nbformat": 4,
 "nbformat_minor": 5
}
