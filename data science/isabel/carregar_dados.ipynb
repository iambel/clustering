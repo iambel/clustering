{
 "cells": [
  {
   "cell_type": "markdown",
   "id": "b0444119",
   "metadata": {},
   "source": [
    "**carregamento de dados**"
   ]
  },
  {
   "cell_type": "code",
   "execution_count": 22,
   "id": "2c6e53f1",
   "metadata": {},
   "outputs": [],
   "source": [
    "# importando bibliotecas necessárias\n",
    "import pandas as pd\n",
    "from joblib import dump # pip install joblib"
   ]
  },
  {
   "cell_type": "code",
   "execution_count": 23,
   "id": "633b40ac",
   "metadata": {},
   "outputs": [],
   "source": [
    "# caminho para salvar os dataframes\n",
    "caminho = '../../util/data/'"
   ]
  },
  {
   "cell_type": "code",
   "execution_count": 24,
   "id": "44d99f3d",
   "metadata": {},
   "outputs": [],
   "source": [
    "# criando um dicionário com o nome dos arquivos \n",
    "arquivos = {\n",
    "    'categorias':'categorias.csv',\n",
    "    'chats':'chats.csv',\n",
    "    'clientes': 'clientes.csv',\n",
    "    'contas_pagar':'contas-a-pagar.csv',\n",
    "    'contas_receber':'contas-a-receber.csv',\n",
    "    'movimento_contabil':'movimento-contabil.csv',\n",
    "    'movimento_financeiro':'movimento-financeiro.csv',\n",
    "    'naturezas_financeiras':'naturezas-financeiras.csv',\n",
    "    'plano_contas':'plano-de-contas.csv',\n",
    "    'produtos':'produtos.csv',\n",
    "    'tickets':'tickets.csv',\n",
    "    'unidades':'unidades.csv',\n",
    "    'vendas':'vendas.csv',\n",
    "    'vendedores':'vendedores.csv'\n",
    " } # talvez refatorar isso aqui? uma forma mais enxuta de fazer isso"
   ]
  },
  {
   "cell_type": "code",
   "execution_count": 25,
   "id": "82a847e5",
   "metadata": {},
   "outputs": [
    {
     "name": "stdout",
     "output_type": "stream",
     "text": [
      " arquivo [categorias.csv.csv] carregado\n",
      " arquivo [chats.csv.csv] carregado\n",
      " arquivo [clientes.csv.csv] carregado\n",
      " arquivo [contas-a-pagar.csv.csv] carregado\n",
      " arquivo [contas-a-receber.csv.csv] carregado\n",
      " arquivo [movimento-contabil.csv.csv] carregado\n",
      " arquivo [movimento-financeiro.csv.csv] carregado\n",
      " arquivo [naturezas-financeiras.csv.csv] carregado\n",
      " arquivo [plano-de-contas.csv.csv] carregado\n",
      " arquivo [produtos.csv.csv] carregado\n",
      " arquivo [tickets.csv.csv] carregado\n",
      " arquivo [unidades.csv.csv] carregado\n",
      " arquivo [vendas.csv.csv] carregado\n",
      " arquivo [vendedores.csv.csv] carregado\n"
     ]
    }
   ],
   "source": [
    "# loop(for) para ler os arquivos.csv, os caminhos e salvar com o dump do joblib em formato .z(arquivo binário)\n",
    "for nome, arquivo_nome in arquivos.items():\n",
    " \n",
    "    df = pd.read_csv(caminho+arquivo_nome) \n",
    "    dump(df, f'../../util/data/df_{nome}.z')\n",
    "    \n",
    "\n",
    "    print(f' arquivo [{arquivo_nome}.csv] carregado') # ver se todos os arquivos foram carregados corretamente"
   ]
  }
 ],
 "metadata": {
  "kernelspec": {
   "display_name": "Python 3",
   "language": "python",
   "name": "python3"
  },
  "language_info": {
   "codemirror_mode": {
    "name": "ipython",
    "version": 3
   },
   "file_extension": ".py",
   "mimetype": "text/x-python",
   "name": "python",
   "nbconvert_exporter": "python",
   "pygments_lexer": "ipython3",
   "version": "3.13.2"
  }
 },
 "nbformat": 4,
 "nbformat_minor": 5
}
