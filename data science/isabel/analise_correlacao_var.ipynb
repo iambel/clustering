{
 "cells": [
  {
   "cell_type": "markdown",
   "id": "84f34534",
   "metadata": {},
   "source": [
    "# Análise de correlação entre variáveis"
   ]
  },
  {
   "cell_type": "markdown",
   "id": "573a1ca7",
   "metadata": {},
   "source": [
    "para realizar uma análise, será preciso carregarmos cada dataframe e identificar variáveis relevantes. em resumo, será aplicado:\n",
    "- coeficiente de relacão (pearson)\n",
    "- matriz de correlação (heatmap)\n",
    "\n",
    "os dataframes, como **df_vendedores**, **df_unidades** e **df_categorias** foram ignorados porque não possuem variáveis relevantes para a correlação."
   ]
  },
  {
   "cell_type": "code",
   "execution_count": null,
   "id": "cd288eb2",
   "metadata": {},
   "outputs": [],
   "source": [
    "import pandas as pd\n",
    "from joblib import load\n",
    "import numpy as np\n",
    "import seaborn as sns\n",
    "import matplotlib.pyplot as plt"
   ]
  },
  {
   "cell_type": "markdown",
   "id": "337f8de6",
   "metadata": {},
   "source": [
    "## `df_produtos`"
   ]
  },
  {
   "cell_type": "code",
   "execution_count": 3,
   "id": "5a4e7c92",
   "metadata": {},
   "outputs": [],
   "source": [
    "df_produtos = load('../../util/data/df_produtos.z')"
   ]
  },
  {
   "cell_type": "code",
   "execution_count": null,
   "id": "c78f7f0e",
   "metadata": {},
   "outputs": [
    {
     "data": {
      "text/html": [
       "<div>\n",
       "<style scoped>\n",
       "    .dataframe tbody tr th:only-of-type {\n",
       "        vertical-align: middle;\n",
       "    }\n",
       "\n",
       "    .dataframe tbody tr th {\n",
       "        vertical-align: top;\n",
       "    }\n",
       "\n",
       "    .dataframe thead th {\n",
       "        text-align: right;\n",
       "    }\n",
       "</style>\n",
       "<table border=\"1\" class=\"dataframe\">\n",
       "  <thead>\n",
       "    <tr style=\"text-align: right;\">\n",
       "      <th></th>\n",
       "      <th>unidade_CEN</th>\n",
       "      <th>unidade_CJ</th>\n",
       "      <th>unidade_CX</th>\n",
       "      <th>unidade_M</th>\n",
       "      <th>unidade_ROL</th>\n",
       "      <th>unidade_UN</th>\n",
       "      <th>marca_3M</th>\n",
       "      <th>marca_BIC</th>\n",
       "      <th>marca_BOSE</th>\n",
       "      <th>marca_EDIOURO</th>\n",
       "      <th>...</th>\n",
       "      <th>categoria_MIDIA DE ARMAZENAMENTO</th>\n",
       "      <th>categoria_MOVEIS</th>\n",
       "      <th>categoria_PARAFUSO</th>\n",
       "      <th>categoria_PASTA</th>\n",
       "      <th>categoria_PRESENTE</th>\n",
       "      <th>categoria_SOFAS</th>\n",
       "      <th>categoria_SOM AUTOMOTIVO</th>\n",
       "      <th>categoria_TELEVISAO</th>\n",
       "      <th>categoria_TINTA</th>\n",
       "      <th>classificacao_MERCADORIA PARA REVENDA</th>\n",
       "    </tr>\n",
       "  </thead>\n",
       "  <tbody>\n",
       "    <tr>\n",
       "      <th>0</th>\n",
       "      <td>False</td>\n",
       "      <td>False</td>\n",
       "      <td>False</td>\n",
       "      <td>False</td>\n",
       "      <td>False</td>\n",
       "      <td>True</td>\n",
       "      <td>False</td>\n",
       "      <td>True</td>\n",
       "      <td>False</td>\n",
       "      <td>False</td>\n",
       "      <td>...</td>\n",
       "      <td>False</td>\n",
       "      <td>False</td>\n",
       "      <td>False</td>\n",
       "      <td>False</td>\n",
       "      <td>False</td>\n",
       "      <td>False</td>\n",
       "      <td>False</td>\n",
       "      <td>False</td>\n",
       "      <td>False</td>\n",
       "      <td>True</td>\n",
       "    </tr>\n",
       "    <tr>\n",
       "      <th>1</th>\n",
       "      <td>False</td>\n",
       "      <td>False</td>\n",
       "      <td>False</td>\n",
       "      <td>False</td>\n",
       "      <td>False</td>\n",
       "      <td>True</td>\n",
       "      <td>False</td>\n",
       "      <td>True</td>\n",
       "      <td>False</td>\n",
       "      <td>False</td>\n",
       "      <td>...</td>\n",
       "      <td>False</td>\n",
       "      <td>False</td>\n",
       "      <td>False</td>\n",
       "      <td>False</td>\n",
       "      <td>False</td>\n",
       "      <td>False</td>\n",
       "      <td>False</td>\n",
       "      <td>False</td>\n",
       "      <td>False</td>\n",
       "      <td>True</td>\n",
       "    </tr>\n",
       "    <tr>\n",
       "      <th>2</th>\n",
       "      <td>False</td>\n",
       "      <td>False</td>\n",
       "      <td>False</td>\n",
       "      <td>False</td>\n",
       "      <td>False</td>\n",
       "      <td>True</td>\n",
       "      <td>False</td>\n",
       "      <td>True</td>\n",
       "      <td>False</td>\n",
       "      <td>False</td>\n",
       "      <td>...</td>\n",
       "      <td>False</td>\n",
       "      <td>False</td>\n",
       "      <td>False</td>\n",
       "      <td>False</td>\n",
       "      <td>False</td>\n",
       "      <td>False</td>\n",
       "      <td>False</td>\n",
       "      <td>False</td>\n",
       "      <td>False</td>\n",
       "      <td>True</td>\n",
       "    </tr>\n",
       "  </tbody>\n",
       "</table>\n",
       "<p>3 rows × 47 columns</p>\n",
       "</div>"
      ],
      "text/plain": [
       "   unidade_CEN  unidade_CJ  unidade_CX  unidade_M  unidade_ROL  unidade_UN  \\\n",
       "0        False       False       False      False        False        True   \n",
       "1        False       False       False      False        False        True   \n",
       "2        False       False       False      False        False        True   \n",
       "\n",
       "   marca_3M  marca_BIC  marca_BOSE  marca_EDIOURO  ...  \\\n",
       "0     False       True       False          False  ...   \n",
       "1     False       True       False          False  ...   \n",
       "2     False       True       False          False  ...   \n",
       "\n",
       "   categoria_MIDIA DE ARMAZENAMENTO  categoria_MOVEIS  categoria_PARAFUSO  \\\n",
       "0                             False             False               False   \n",
       "1                             False             False               False   \n",
       "2                             False             False               False   \n",
       "\n",
       "   categoria_PASTA  categoria_PRESENTE  categoria_SOFAS  \\\n",
       "0            False               False            False   \n",
       "1            False               False            False   \n",
       "2            False               False            False   \n",
       "\n",
       "   categoria_SOM AUTOMOTIVO  categoria_TELEVISAO  categoria_TINTA  \\\n",
       "0                     False                False            False   \n",
       "1                     False                False            False   \n",
       "2                     False                False            False   \n",
       "\n",
       "   classificacao_MERCADORIA PARA REVENDA  \n",
       "0                                   True  \n",
       "1                                   True  \n",
       "2                                   True  \n",
       "\n",
       "[3 rows x 47 columns]"
      ]
     },
     "execution_count": 5,
     "metadata": {},
     "output_type": "execute_result"
    }
   ],
   "source": [
    "df_produtos_categorica = df_produtos[['unidade', 'marca', 'categoria', 'classificacao']] # seleção de colunas categóricas\n",
    "df_produtos_onehot = pd.get_dummies(df_produtos_categorica) # aplica one-hot encoding nas colunas selecionadas\n",
    "\n",
    "df_produtos_onehot.head(3)"
   ]
  },
  {
   "cell_type": "code",
   "execution_count": null,
   "id": "c5019948",
   "metadata": {},
   "outputs": [],
   "source": [
    "df_produtos_onehot = pd.concat([df_produtos_onehot, df_produtos['preco_venda']], axis=1) # concatenação das variáveis com a variável alvo\n",
    "\n",
    "df_correlacao_preco = df_produtos_onehot.corr()['preco_venda'].sort_values(ascending=False) # aplicando correlação de cada variavel com o preço de venda\n",
    "\n",
    "print(df_correlacao_preco)"
   ]
  },
  {
   "cell_type": "markdown",
   "id": "d3b4b688",
   "metadata": {},
   "source": [
    "com a visualização do output, temos a seguinte conclusão:\n",
    "- **valores positivos**: produtos dessas categorias/marcas tendem a ter preços de venda mais altos.\n",
    "(ex.: `categoria_MOVEIS`, `marca_GALLO`):  \n",
    "\n",
    "- **valores negativos**: produtos dessas categorias/marcas tendem a ter preços de venda mais baixos.\n",
    "(ex.: `marca_BIC`, `categoria_CANETA`):  \n",
    "\n",
    "- **Valores próximos de zero**: possuem praticamente nenhuma relação com o preço de venda.\n"
   ]
  },
  {
   "cell_type": "markdown",
   "id": "7f45159c",
   "metadata": {},
   "source": [
    "## `df_vendas`"
   ]
  },
  {
   "cell_type": "code",
   "execution_count": 40,
   "id": "948dfb2b",
   "metadata": {},
   "outputs": [],
   "source": [
    "df_vendas = load('../../util/data/df_vendas.z')"
   ]
  },
  {
   "cell_type": "code",
   "execution_count": null,
   "id": "e2856e62",
   "metadata": {},
   "outputs": [
    {
     "name": "stdout",
     "output_type": "stream",
     "text": [
      "                quantidade     total  custo_medio  valor_desconto\n",
      "quantidade        1.000000  0.185695    -0.040050        0.633334\n",
      "total             0.185695  1.000000     0.743662        0.669569\n",
      "custo_medio      -0.040050  0.743662     1.000000        0.482421\n",
      "valor_desconto    0.633334  0.669569     0.482421        1.000000\n"
     ]
    }
   ],
   "source": [
    "df_vendas_numerica = df_vendas[['quantidade', 'total', 'custo_medio', 'valor_desconto']] # seleção de colunas numericas\n",
    "df_correlacao_vendas = df_vendas_numerica.corr() # aplicando correlação\n",
    "\n",
    "print(df_correlacao_vendas)"
   ]
  },
  {
   "cell_type": "code",
   "execution_count": null,
   "id": "894dde0c",
   "metadata": {},
   "outputs": [
    {
     "data": {
      "image/png": "[encoded data removed]",
      "text/plain": [
       "<Figure size 600x400 with 2 Axes>"
      ]
     },
     "metadata": {},
     "output_type": "display_data"
    }
   ],
   "source": [
    "# visualiza a matriz de correlação\n",
    "plt.figure(figsize=(6,4))\n",
    "sns.heatmap(df_correlacao_vendas, annot=True, cmap='coolwarm')\n",
    "plt.title('matriz de correlação [vendas]')\n",
    "plt.show()"
   ]
  },
  {
   "cell_type": "markdown",
   "id": "9256acfd",
   "metadata": {},
   "source": [
    "conclusão:\n",
    "- **quantidade x valor_desconto (0.63):**  \n",
    "  vendas com maior quantidade tendem a ter maior valor de desconto.\n",
    "\n",
    "- **total x custo_medio (0.74):**  \n",
    "  vendas com maior total tendem a ter maior custo médio (possivelmente produtos mais caros).\n",
    "\n",
    "- **total x valor_desconto (0.67):**  \n",
    "  Vendas com maior total também costumam ter maior desconto.\n",
    "\n",
    "- **quantidade x total (0.19):**  \n",
    "  relação fraca, indicando que nem sempre vender mais unidades significa um valor total muito maior (talvez por descontos ou produtos baratos).\n",
    "\n",
    "- **quantidade x custo_medio (-0.04):**  \n",
    "  praticamente nenhuma relação entre quantidade vendida e custo médio.\n",
    "\n"
   ]
  },
  {
   "cell_type": "markdown",
   "id": "268a75f8",
   "metadata": {},
   "source": [
    "## `df_clientes`"
   ]
  },
  {
   "cell_type": "markdown",
   "id": "5a5a6f57",
   "metadata": {},
   "source": [
    "Variáveis categóricas, como **natureza_juridica**,**contribuinte_icms**, **cst** foram selecionadas, serão transformadas para aplicar a correlação."
   ]
  },
  {
   "cell_type": "code",
   "execution_count": 57,
   "id": "16c74aa5",
   "metadata": {},
   "outputs": [],
   "source": [
    "df_clientes = load('../../util/data/df_clientes.z')"
   ]
  },
  {
   "cell_type": "code",
   "execution_count": null,
   "id": "8a045ed4",
   "metadata": {},
   "outputs": [
    {
     "data": {
      "text/html": [
       "<div>\n",
       "<style scoped>\n",
       "    .dataframe tbody tr th:only-of-type {\n",
       "        vertical-align: middle;\n",
       "    }\n",
       "\n",
       "    .dataframe tbody tr th {\n",
       "        vertical-align: top;\n",
       "    }\n",
       "\n",
       "    .dataframe thead th {\n",
       "        text-align: right;\n",
       "    }\n",
       "</style>\n",
       "<table border=\"1\" class=\"dataframe\">\n",
       "  <thead>\n",
       "    <tr style=\"text-align: right;\">\n",
       "      <th></th>\n",
       "      <th>natureza_juridica_LT</th>\n",
       "      <th>natureza_juridica_PF</th>\n",
       "      <th>contribuinte_icms_N</th>\n",
       "      <th>contribuinte_icms_S</th>\n",
       "      <th>cst_PD</th>\n",
       "    </tr>\n",
       "  </thead>\n",
       "  <tbody>\n",
       "    <tr>\n",
       "      <th>0</th>\n",
       "      <td>False</td>\n",
       "      <td>True</td>\n",
       "      <td>True</td>\n",
       "      <td>False</td>\n",
       "      <td>True</td>\n",
       "    </tr>\n",
       "    <tr>\n",
       "      <th>1</th>\n",
       "      <td>True</td>\n",
       "      <td>False</td>\n",
       "      <td>False</td>\n",
       "      <td>True</td>\n",
       "      <td>True</td>\n",
       "    </tr>\n",
       "    <tr>\n",
       "      <th>2</th>\n",
       "      <td>True</td>\n",
       "      <td>False</td>\n",
       "      <td>False</td>\n",
       "      <td>True</td>\n",
       "      <td>True</td>\n",
       "    </tr>\n",
       "  </tbody>\n",
       "</table>\n",
       "</div>"
      ],
      "text/plain": [
       "   natureza_juridica_LT  natureza_juridica_PF  contribuinte_icms_N  \\\n",
       "0                 False                  True                 True   \n",
       "1                  True                 False                False   \n",
       "2                  True                 False                False   \n",
       "\n",
       "   contribuinte_icms_S  cst_PD  \n",
       "0                False    True  \n",
       "1                 True    True  \n",
       "2                 True    True  "
      ]
     },
     "execution_count": 84,
     "metadata": {},
     "output_type": "execute_result"
    }
   ],
   "source": [
    "df_clientes_categorica = df_clientes.select_dtypes(exclude=[np.number]) # seleção de colunas categóricas\n",
    "df_clientes_categorica_onehot = pd.get_dummies(df_clientes_categorica[['natureza_juridica', 'contribuinte_icms', 'cst']]) # aplica one-hot encoding nas colunas selecionadas\n",
    "\n",
    "df_clientes_categorica_onehot.head(3)"
   ]
  },
  {
   "cell_type": "code",
   "execution_count": null,
   "id": "97d3c8dc",
   "metadata": {},
   "outputs": [
    {
     "data": {
      "image/png": "[encoded data removed]",
      "text/plain": [
       "<Figure size 600x300 with 2 Axes>"
      ]
     },
     "metadata": {},
     "output_type": "display_data"
    }
   ],
   "source": [
    "df_clientes_categorica_corr = df_clientes_categorica_onehot.corr() # calcula a matriz de correlação\n",
    "\n",
    "# visualiza a matriz de correlação\n",
    "plt.figure(figsize=(6,3))\n",
    "sns.heatmap(df_clientes_categorica_corr, annot=True, cmap='icefire')\n",
    "plt.title('matriz de correlação [clientes]')\n",
    "plt.show()"
   ]
  },
  {
   "cell_type": "markdown",
   "id": "e56ae199",
   "metadata": {},
   "source": [
    "### conclusão:\n",
    "- as variáveis entre si não indicam muito. para análises mais ricas, recomenda-se cruzar essas informações com dados de vendas ou outras métricas de interesse."
   ]
  }
 ],
 "metadata": {
  "kernelspec": {
   "display_name": "Python 3",
   "language": "python",
   "name": "python3"
  },
  "language_info": {
   "codemirror_mode": {
    "name": "ipython",
    "version": 3
   },
   "file_extension": ".py",
   "mimetype": "text/x-python",
   "name": "python",
   "nbconvert_exporter": "python",
   "pygments_lexer": "ipython3",
   "version": "3.13.2"
  }
 },
 "nbformat": 4,
 "nbformat_minor": 5
}
